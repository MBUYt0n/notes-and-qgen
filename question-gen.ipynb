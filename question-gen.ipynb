{
 "cells": [
  {
   "cell_type": "markdown",
   "id": "fc380f52",
   "metadata": {
    "id": "nSBrMz_ED6HL",
    "papermill": {
     "duration": 0.039539,
     "end_time": "2024-04-14T06:05:32.761001",
     "exception": false,
     "start_time": "2024-04-14T06:05:32.721462",
     "status": "completed"
    },
    "tags": []
   },
   "source": [
    "# SQuAD-Multitask-QuestionAnswer-Generation"
   ]
  },
  {
   "cell_type": "code",
   "execution_count": 1,
   "id": "e3d48e2d",
   "metadata": {
    "execution": {
     "iopub.execute_input": "2024-04-14T06:05:32.846665Z",
     "iopub.status.busy": "2024-04-14T06:05:32.846299Z",
     "iopub.status.idle": "2024-04-14T06:05:32.854712Z",
     "shell.execute_reply": "2024-04-14T06:05:32.853749Z"
    },
    "id": "1-kuP2_W12-j",
    "outputId": "3a42115b-fce4-4e8d-f303-046e3b06aa3c",
    "papermill": {
     "duration": 0.054433,
     "end_time": "2024-04-14T06:05:32.857112",
     "exception": false,
     "start_time": "2024-04-14T06:05:32.802679",
     "status": "completed"
    },
    "tags": []
   },
   "outputs": [],
   "source": [
    "# !nvidia-smi"
   ]
  },
  {
   "cell_type": "code",
   "execution_count": 2,
   "id": "2736cb76",
   "metadata": {
    "execution": {
     "iopub.execute_input": "2024-04-14T06:05:32.939690Z",
     "iopub.status.busy": "2024-04-14T06:05:32.939397Z",
     "iopub.status.idle": "2024-04-14T06:05:32.943180Z",
     "shell.execute_reply": "2024-04-14T06:05:32.942338Z"
    },
    "id": "ZsaKsEPKiEAL",
    "papermill": {
     "duration": 0.046792,
     "end_time": "2024-04-14T06:05:32.945104",
     "exception": false,
     "start_time": "2024-04-14T06:05:32.898312",
     "status": "completed"
    },
    "tags": []
   },
   "outputs": [],
   "source": [
    "# import sys\n",
    "\n",
    "# IN_COLAB = 'google.colab' in sys.modules\n",
    "# RUN_TRAINING_CELLS = IN_COLAB\n",
    "\n",
    "# EXPERIMENT_NAME = 'SQuAD-Multitask-QuestionAnswer-Generation/'\n",
    "# DRIVE_FOLDER_LOCATION = '/content/drive/My Drive/QG-Colab/Github/' + EXPERIMENT_NAME"
   ]
  },
  {
   "cell_type": "code",
   "execution_count": 3,
   "id": "3d249348",
   "metadata": {
    "execution": {
     "iopub.execute_input": "2024-04-14T06:05:33.024159Z",
     "iopub.status.busy": "2024-04-14T06:05:33.023856Z",
     "iopub.status.idle": "2024-04-14T06:05:33.027599Z",
     "shell.execute_reply": "2024-04-14T06:05:33.026753Z"
    },
    "id": "asTTT9daGGme",
    "outputId": "0428408f-6603-4711-a467-1852f5bd207e",
    "papermill": {
     "duration": 0.044707,
     "end_time": "2024-04-14T06:05:33.029503",
     "exception": false,
     "start_time": "2024-04-14T06:05:32.984796",
     "status": "completed"
    },
    "tags": []
   },
   "outputs": [],
   "source": [
    "# # Mounting google drive\n",
    "# if IN_COLAB:\n",
    "#     from google.colab import drive\n",
    "\n",
    "#     drive.mount('/content/drive', force_remount=True)"
   ]
  },
  {
   "cell_type": "markdown",
   "id": "6b971d57",
   "metadata": {
    "id": "eI8Saapu878D",
    "papermill": {
     "duration": 0.052294,
     "end_time": "2024-04-14T06:05:33.128829",
     "exception": false,
     "start_time": "2024-04-14T06:05:33.076535",
     "status": "completed"
    },
    "tags": []
   },
   "source": [
    "## Environment setup\n",
    "Setting up Google drive as working directory and installing packages."
   ]
  },
  {
   "cell_type": "code",
   "execution_count": 4,
   "id": "314e9eca",
   "metadata": {
    "execution": {
     "iopub.execute_input": "2024-04-14T06:05:33.217603Z",
     "iopub.status.busy": "2024-04-14T06:05:33.217005Z",
     "iopub.status.idle": "2024-04-14T06:05:33.221374Z",
     "shell.execute_reply": "2024-04-14T06:05:33.220448Z"
    },
    "papermill": {
     "duration": 0.05064,
     "end_time": "2024-04-14T06:05:33.223873",
     "exception": false,
     "start_time": "2024-04-14T06:05:33.173233",
     "status": "completed"
    },
    "tags": []
   },
   "outputs": [],
   "source": [
    "# from datasets import load_dataset\n",
    "\n",
    "# dataset = load_dataset(\"ehovy/race\", \"all\")"
   ]
  },
  {
   "cell_type": "code",
   "execution_count": 5,
   "id": "d5111ac2",
   "metadata": {
    "execution": {
     "iopub.execute_input": "2024-04-14T06:05:33.335399Z",
     "iopub.status.busy": "2024-04-14T06:05:33.334241Z",
     "iopub.status.idle": "2024-04-14T06:05:33.339757Z",
     "shell.execute_reply": "2024-04-14T06:05:33.338983Z"
    },
    "id": "rgN8Nl4xRHPt",
    "outputId": "f843834c-ed44-4512-98cd-933c2eeb6ce8",
    "papermill": {
     "duration": 0.061345,
     "end_time": "2024-04-14T06:05:33.341629",
     "exception": false,
     "start_time": "2024-04-14T06:05:33.280284",
     "status": "completed"
    },
    "tags": []
   },
   "outputs": [],
   "source": [
    "# # Using my own Google Drive during the experiment to save all checkpoints and training logs.\n",
    "\n",
    "# if IN_COLAB:\n",
    "#     # Adapted from:  https://robertbrucecarter.com/writing/2020/06/setting-your-working-directory-to-google-drive-in-a-colab-notebook/\n",
    "#     import os \n",
    "\n",
    "#     def create_and_set_working_directory(path: str):\n",
    "#         # check if your project folder exists. if not, it will be created.\n",
    "#         if os.path.isdir(path) == False:\n",
    "#             os.mkdir(path)\n",
    "#             print(path + ' did not exist but was created.')\n",
    "\n",
    "#         # change the OS to use your project folder as the working directory\n",
    "#         os.chdir(path)\n",
    "\n",
    "#         print('Working directory changed to: \\n' + path)\n",
    "\n",
    "#     create_and_set_working_directory(DRIVE_FOLDER_LOCATION)\n",
    "#     !pwd"
   ]
  },
  {
   "cell_type": "code",
   "execution_count": 6,
   "id": "3ec4ab61",
   "metadata": {
    "execution": {
     "iopub.execute_input": "2024-04-14T06:05:33.421945Z",
     "iopub.status.busy": "2024-04-14T06:05:33.421633Z",
     "iopub.status.idle": "2024-04-14T06:06:14.031457Z",
     "shell.execute_reply": "2024-04-14T06:06:14.030205Z"
    },
    "id": "5hrFOevkEKG2",
    "outputId": "b8e3c36f-f5e2-42a3-fc31-44e1867a9bb6",
    "papermill": {
     "duration": 40.653409,
     "end_time": "2024-04-14T06:06:14.034107",
     "exception": false,
     "start_time": "2024-04-14T06:05:33.380698",
     "status": "completed"
    },
    "tags": []
   },
   "outputs": [],
   "source": [
    "# Install packages\n",
    "# if IN_COLAB:\n",
    "!pip install --quiet transformers\n",
    "!pip install --quiet pytorch-lightning\n",
    "!pip install --quiet tokenizers"
   ]
  },
  {
   "cell_type": "code",
   "execution_count": 7,
   "id": "387cf92b",
   "metadata": {
    "execution": {
     "iopub.execute_input": "2024-04-14T06:06:14.115433Z",
     "iopub.status.busy": "2024-04-14T06:06:14.115105Z",
     "iopub.status.idle": "2024-04-14T06:06:31.536613Z",
     "shell.execute_reply": "2024-04-14T06:06:31.535621Z"
    },
    "id": "i8vjhHJ-FfQS",
    "papermill": {
     "duration": 17.465229,
     "end_time": "2024-04-14T06:06:31.539086",
     "exception": false,
     "start_time": "2024-04-14T06:06:14.073857",
     "status": "completed"
    },
    "tags": []
   },
   "outputs": [],
   "source": [
    "# Import packages\n",
    "from typing import List, Dict\n",
    "import tqdm.notebook as tq\n",
    "from tqdm.notebook import tqdm\n",
    "import json\n",
    "import pandas as pd\n",
    "import numpy as np\n",
    "\n",
    "import torch\n",
    "from pathlib import Path\n",
    "from torch.utils.data import Dataset, DataLoader\n",
    "import pytorch_lightning as pl\n",
    "from pytorch_lightning.callbacks import ModelCheckpoint\n",
    "from sklearn.model_selection import train_test_split\n",
    "from transformers import (\n",
    "    AdamW,\n",
    "    T5ForConditionalGeneration,\n",
    "    T5TokenizerFast as T5Tokenizer\n",
    "    )"
   ]
  },
  {
   "cell_type": "code",
   "execution_count": 8,
   "id": "f38102a5",
   "metadata": {
    "execution": {
     "iopub.execute_input": "2024-04-14T06:06:31.660316Z",
     "iopub.status.busy": "2024-04-14T06:06:31.659496Z",
     "iopub.status.idle": "2024-04-14T06:06:31.672125Z",
     "shell.execute_reply": "2024-04-14T06:06:31.671129Z"
    },
    "id": "Q4DQ4J1IKPC0",
    "outputId": "b8bc2b70-9260-4a5a-a117-e3c5ffb620ac",
    "papermill": {
     "duration": 0.095623,
     "end_time": "2024-04-14T06:06:31.674227",
     "exception": false,
     "start_time": "2024-04-14T06:06:31.578604",
     "status": "completed"
    },
    "tags": []
   },
   "outputs": [
    {
     "data": {
      "text/plain": [
       "42"
      ]
     },
     "execution_count": 8,
     "metadata": {},
     "output_type": "execute_result"
    }
   ],
   "source": [
    "pl.seed_everything(42)"
   ]
  },
  {
   "cell_type": "markdown",
   "id": "03085852",
   "metadata": {
    "id": "LmznT2PvVdVj",
    "papermill": {
     "duration": 0.040192,
     "end_time": "2024-04-14T06:06:31.754052",
     "exception": false,
     "start_time": "2024-04-14T06:06:31.713860",
     "status": "completed"
    },
    "tags": []
   },
   "source": [
    "## Dataset\n",
    "Using the NQG paper datasplit of the SQuAD v1 dataset. "
   ]
  },
  {
   "cell_type": "markdown",
   "id": "3080496d",
   "metadata": {
    "id": "jzHW6bG4QY4U",
    "papermill": {
     "duration": 0.040196,
     "end_time": "2024-04-14T06:06:31.834904",
     "exception": false,
     "start_time": "2024-04-14T06:06:31.794708",
     "status": "completed"
    },
    "tags": []
   },
   "source": [
    "### Squad \n",
    "Reading a version of the SQuAD dataset where the there is a row for each question in the dataset."
   ]
  },
  {
   "cell_type": "code",
   "execution_count": 9,
   "id": "3a2ead61",
   "metadata": {
    "execution": {
     "iopub.execute_input": "2024-04-14T06:06:31.920791Z",
     "iopub.status.busy": "2024-04-14T06:06:31.919889Z",
     "iopub.status.idle": "2024-04-14T06:06:31.924404Z",
     "shell.execute_reply": "2024-04-14T06:06:31.923446Z"
    },
    "id": "BdzOr9IMQahg",
    "outputId": "3d3622a6-c869-4a22-9ece-edd4a9fd9f32",
    "papermill": {
     "duration": 0.050642,
     "end_time": "2024-04-14T06:06:31.926391",
     "exception": false,
     "start_time": "2024-04-14T06:06:31.875749",
     "status": "completed"
    },
    "tags": []
   },
   "outputs": [],
   "source": [
    "# # Download squad files \n",
    "# if IN_COLAB:\n",
    "#     !gdown --id 1bJylzAN7ocPTXp_ow-nLE4-hej6c68Vy #train_df.csv\n",
    "#     !gdown --id 1hNJMOTVVKB--btCf3BLPc3frkcppw6fB #dev_df.csv"
   ]
  },
  {
   "cell_type": "code",
   "execution_count": 10,
   "id": "34b9ec18",
   "metadata": {
    "execution": {
     "iopub.execute_input": "2024-04-14T06:06:32.007851Z",
     "iopub.status.busy": "2024-04-14T06:06:32.007576Z",
     "iopub.status.idle": "2024-04-14T06:06:33.740825Z",
     "shell.execute_reply": "2024-04-14T06:06:33.739930Z"
    },
    "id": "IdQZN-tyuYG5",
    "outputId": "3976a20b-448e-4755-929d-c8abe574bc39",
    "papermill": {
     "duration": 1.776319,
     "end_time": "2024-04-14T06:06:33.743043",
     "exception": false,
     "start_time": "2024-04-14T06:06:31.966724",
     "status": "completed"
    },
    "tags": []
   },
   "outputs": [
    {
     "data": {
      "text/html": [
       "<div>\n",
       "<style scoped>\n",
       "    .dataframe tbody tr th:only-of-type {\n",
       "        vertical-align: middle;\n",
       "    }\n",
       "\n",
       "    .dataframe tbody tr th {\n",
       "        vertical-align: top;\n",
       "    }\n",
       "\n",
       "    .dataframe thead th {\n",
       "        text-align: right;\n",
       "    }\n",
       "</style>\n",
       "<table border=\"1\" class=\"dataframe\">\n",
       "  <thead>\n",
       "    <tr style=\"text-align: right;\">\n",
       "      <th></th>\n",
       "      <th>context</th>\n",
       "      <th>question</th>\n",
       "      <th>answer_text</th>\n",
       "    </tr>\n",
       "  </thead>\n",
       "  <tbody>\n",
       "    <tr>\n",
       "      <th>0</th>\n",
       "      <td>Beyoncé Giselle Knowles-Carter (/biːˈjɒnseɪ/ b...</td>\n",
       "      <td>When did Beyonce start becoming popular?</td>\n",
       "      <td>in the late 1990s</td>\n",
       "    </tr>\n",
       "    <tr>\n",
       "      <th>1</th>\n",
       "      <td>Beyoncé Giselle Knowles-Carter (/biːˈjɒnseɪ/ b...</td>\n",
       "      <td>What areas did Beyonce compete in when she was...</td>\n",
       "      <td>singing and dancing</td>\n",
       "    </tr>\n",
       "    <tr>\n",
       "      <th>2</th>\n",
       "      <td>Beyoncé Giselle Knowles-Carter (/biːˈjɒnseɪ/ b...</td>\n",
       "      <td>When did Beyonce leave Destiny's Child and bec...</td>\n",
       "      <td>2003</td>\n",
       "    </tr>\n",
       "    <tr>\n",
       "      <th>3</th>\n",
       "      <td>Beyoncé Giselle Knowles-Carter (/biːˈjɒnseɪ/ b...</td>\n",
       "      <td>In what city and state did Beyonce  grow up?</td>\n",
       "      <td>Houston, Texas</td>\n",
       "    </tr>\n",
       "    <tr>\n",
       "      <th>4</th>\n",
       "      <td>Beyoncé Giselle Knowles-Carter (/biːˈjɒnseɪ/ b...</td>\n",
       "      <td>In which decade did Beyonce become famous?</td>\n",
       "      <td>late 1990s</td>\n",
       "    </tr>\n",
       "    <tr>\n",
       "      <th>...</th>\n",
       "      <td>...</td>\n",
       "      <td>...</td>\n",
       "      <td>...</td>\n",
       "    </tr>\n",
       "    <tr>\n",
       "      <th>86816</th>\n",
       "      <td>Kathmandu Metropolitan City (KMC), in order to...</td>\n",
       "      <td>In what US state did Kathmandu first establish...</td>\n",
       "      <td>Oregon</td>\n",
       "    </tr>\n",
       "    <tr>\n",
       "      <th>86817</th>\n",
       "      <td>Kathmandu Metropolitan City (KMC), in order to...</td>\n",
       "      <td>What was Yangon previously known as?</td>\n",
       "      <td>Rangoon</td>\n",
       "    </tr>\n",
       "    <tr>\n",
       "      <th>86818</th>\n",
       "      <td>Kathmandu Metropolitan City (KMC), in order to...</td>\n",
       "      <td>With what Belorussian city does Kathmandu have...</td>\n",
       "      <td>Minsk</td>\n",
       "    </tr>\n",
       "    <tr>\n",
       "      <th>86819</th>\n",
       "      <td>Kathmandu Metropolitan City (KMC), in order to...</td>\n",
       "      <td>In what year did Kathmandu create its initial ...</td>\n",
       "      <td>1975</td>\n",
       "    </tr>\n",
       "    <tr>\n",
       "      <th>86820</th>\n",
       "      <td>Kathmandu Metropolitan City (KMC), in order to...</td>\n",
       "      <td>What is KMC an initialism of?</td>\n",
       "      <td>Kathmandu Metropolitan City</td>\n",
       "    </tr>\n",
       "  </tbody>\n",
       "</table>\n",
       "<p>86821 rows × 3 columns</p>\n",
       "</div>"
      ],
      "text/plain": [
       "                                                 context  \\\n",
       "0      Beyoncé Giselle Knowles-Carter (/biːˈjɒnseɪ/ b...   \n",
       "1      Beyoncé Giselle Knowles-Carter (/biːˈjɒnseɪ/ b...   \n",
       "2      Beyoncé Giselle Knowles-Carter (/biːˈjɒnseɪ/ b...   \n",
       "3      Beyoncé Giselle Knowles-Carter (/biːˈjɒnseɪ/ b...   \n",
       "4      Beyoncé Giselle Knowles-Carter (/biːˈjɒnseɪ/ b...   \n",
       "...                                                  ...   \n",
       "86816  Kathmandu Metropolitan City (KMC), in order to...   \n",
       "86817  Kathmandu Metropolitan City (KMC), in order to...   \n",
       "86818  Kathmandu Metropolitan City (KMC), in order to...   \n",
       "86819  Kathmandu Metropolitan City (KMC), in order to...   \n",
       "86820  Kathmandu Metropolitan City (KMC), in order to...   \n",
       "\n",
       "                                                question  \\\n",
       "0               When did Beyonce start becoming popular?   \n",
       "1      What areas did Beyonce compete in when she was...   \n",
       "2      When did Beyonce leave Destiny's Child and bec...   \n",
       "3          In what city and state did Beyonce  grow up?    \n",
       "4             In which decade did Beyonce become famous?   \n",
       "...                                                  ...   \n",
       "86816  In what US state did Kathmandu first establish...   \n",
       "86817               What was Yangon previously known as?   \n",
       "86818  With what Belorussian city does Kathmandu have...   \n",
       "86819  In what year did Kathmandu create its initial ...   \n",
       "86820                      What is KMC an initialism of?   \n",
       "\n",
       "                       answer_text  \n",
       "0                in the late 1990s  \n",
       "1              singing and dancing  \n",
       "2                             2003  \n",
       "3                   Houston, Texas  \n",
       "4                       late 1990s  \n",
       "...                            ...  \n",
       "86816                       Oregon  \n",
       "86817                      Rangoon  \n",
       "86818                        Minsk  \n",
       "86819                         1975  \n",
       "86820  Kathmandu Metropolitan City  \n",
       "\n",
       "[86821 rows x 3 columns]"
      ]
     },
     "execution_count": 10,
     "metadata": {},
     "output_type": "execute_result"
    }
   ],
   "source": [
    "import pandas as pd\n",
    "import json\n",
    "\n",
    "# Load the JSON file into a Python dictionary\n",
    "with open('/kaggle/input/squad-2/train-v2.0.json', 'r', encoding='utf-8') as f:\n",
    "    squad_data = json.load(f)\n",
    "\n",
    "# Extract paragraphs, questions, and answers from the SQuAD data\n",
    "paragraphs = []\n",
    "questions = []\n",
    "answers = []\n",
    "\n",
    "for article in squad_data['data']:\n",
    "    for paragraph in article['paragraphs']:\n",
    "        context = paragraph['context']\n",
    "        for qa in paragraph['qas']:\n",
    "            question = qa['question']\n",
    "            for answer in qa.get('answers', []):\n",
    "                start = answer['answer_start']\n",
    "                text = answer['text']\n",
    "                paragraphs.append(context)\n",
    "                questions.append(question)\n",
    "                answers.append(text)\n",
    "\n",
    "# Create a DataFrame from the extracted data\n",
    "train_df = pd.DataFrame({'context': paragraphs, 'question': questions, 'answer_text': answers})\n",
    "\n",
    "# Now you have your DataFrame 'squad_df' containing the SQuAD 2.0 training dataset\n",
    "train_df"
   ]
  },
  {
   "cell_type": "code",
   "execution_count": 11,
   "id": "ad527b42",
   "metadata": {
    "execution": {
     "iopub.execute_input": "2024-04-14T06:06:33.829400Z",
     "iopub.status.busy": "2024-04-14T06:06:33.828676Z",
     "iopub.status.idle": "2024-04-14T06:06:33.984007Z",
     "shell.execute_reply": "2024-04-14T06:06:33.983001Z"
    },
    "id": "PnsQMz3YvVtt",
    "outputId": "620b4c7b-8c83-4603-b7fb-f7ac369068d4",
    "papermill": {
     "duration": 0.199556,
     "end_time": "2024-04-14T06:06:33.986636",
     "exception": false,
     "start_time": "2024-04-14T06:06:33.787080",
     "status": "completed"
    },
    "tags": []
   },
   "outputs": [
    {
     "data": {
      "text/html": [
       "<div>\n",
       "<style scoped>\n",
       "    .dataframe tbody tr th:only-of-type {\n",
       "        vertical-align: middle;\n",
       "    }\n",
       "\n",
       "    .dataframe tbody tr th {\n",
       "        vertical-align: top;\n",
       "    }\n",
       "\n",
       "    .dataframe thead th {\n",
       "        text-align: right;\n",
       "    }\n",
       "</style>\n",
       "<table border=\"1\" class=\"dataframe\">\n",
       "  <thead>\n",
       "    <tr style=\"text-align: right;\">\n",
       "      <th></th>\n",
       "      <th>context</th>\n",
       "      <th>question</th>\n",
       "      <th>answer_text</th>\n",
       "    </tr>\n",
       "  </thead>\n",
       "  <tbody>\n",
       "    <tr>\n",
       "      <th>0</th>\n",
       "      <td>The Normans (Norman: Nourmands; French: Norman...</td>\n",
       "      <td>In what country is Normandy located?</td>\n",
       "      <td>France</td>\n",
       "    </tr>\n",
       "    <tr>\n",
       "      <th>1</th>\n",
       "      <td>The Normans (Norman: Nourmands; French: Norman...</td>\n",
       "      <td>In what country is Normandy located?</td>\n",
       "      <td>France</td>\n",
       "    </tr>\n",
       "    <tr>\n",
       "      <th>2</th>\n",
       "      <td>The Normans (Norman: Nourmands; French: Norman...</td>\n",
       "      <td>In what country is Normandy located?</td>\n",
       "      <td>France</td>\n",
       "    </tr>\n",
       "    <tr>\n",
       "      <th>3</th>\n",
       "      <td>The Normans (Norman: Nourmands; French: Norman...</td>\n",
       "      <td>In what country is Normandy located?</td>\n",
       "      <td>France</td>\n",
       "    </tr>\n",
       "    <tr>\n",
       "      <th>4</th>\n",
       "      <td>The Normans (Norman: Nourmands; French: Norman...</td>\n",
       "      <td>When were the Normans in Normandy?</td>\n",
       "      <td>10th and 11th centuries</td>\n",
       "    </tr>\n",
       "    <tr>\n",
       "      <th>...</th>\n",
       "      <td>...</td>\n",
       "      <td>...</td>\n",
       "      <td>...</td>\n",
       "    </tr>\n",
       "    <tr>\n",
       "      <th>20297</th>\n",
       "      <td>The pound-force has a metric counterpart, less...</td>\n",
       "      <td>What is the seldom used force unit equal to on...</td>\n",
       "      <td>sthène</td>\n",
       "    </tr>\n",
       "    <tr>\n",
       "      <th>20298</th>\n",
       "      <td>The pound-force has a metric counterpart, less...</td>\n",
       "      <td>What is the seldom used force unit equal to on...</td>\n",
       "      <td>sthène</td>\n",
       "    </tr>\n",
       "    <tr>\n",
       "      <th>20299</th>\n",
       "      <td>The pound-force has a metric counterpart, less...</td>\n",
       "      <td>What is the seldom used force unit equal to on...</td>\n",
       "      <td>sthène</td>\n",
       "    </tr>\n",
       "    <tr>\n",
       "      <th>20300</th>\n",
       "      <td>The pound-force has a metric counterpart, less...</td>\n",
       "      <td>What is the seldom used force unit equal to on...</td>\n",
       "      <td>sthène</td>\n",
       "    </tr>\n",
       "    <tr>\n",
       "      <th>20301</th>\n",
       "      <td>The pound-force has a metric counterpart, less...</td>\n",
       "      <td>What is the seldom used force unit equal to on...</td>\n",
       "      <td>sthène</td>\n",
       "    </tr>\n",
       "  </tbody>\n",
       "</table>\n",
       "<p>20302 rows × 3 columns</p>\n",
       "</div>"
      ],
      "text/plain": [
       "                                                 context  \\\n",
       "0      The Normans (Norman: Nourmands; French: Norman...   \n",
       "1      The Normans (Norman: Nourmands; French: Norman...   \n",
       "2      The Normans (Norman: Nourmands; French: Norman...   \n",
       "3      The Normans (Norman: Nourmands; French: Norman...   \n",
       "4      The Normans (Norman: Nourmands; French: Norman...   \n",
       "...                                                  ...   \n",
       "20297  The pound-force has a metric counterpart, less...   \n",
       "20298  The pound-force has a metric counterpart, less...   \n",
       "20299  The pound-force has a metric counterpart, less...   \n",
       "20300  The pound-force has a metric counterpart, less...   \n",
       "20301  The pound-force has a metric counterpart, less...   \n",
       "\n",
       "                                                question  \\\n",
       "0                   In what country is Normandy located?   \n",
       "1                   In what country is Normandy located?   \n",
       "2                   In what country is Normandy located?   \n",
       "3                   In what country is Normandy located?   \n",
       "4                     When were the Normans in Normandy?   \n",
       "...                                                  ...   \n",
       "20297  What is the seldom used force unit equal to on...   \n",
       "20298  What is the seldom used force unit equal to on...   \n",
       "20299  What is the seldom used force unit equal to on...   \n",
       "20300  What is the seldom used force unit equal to on...   \n",
       "20301  What is the seldom used force unit equal to on...   \n",
       "\n",
       "                   answer_text  \n",
       "0                       France  \n",
       "1                       France  \n",
       "2                       France  \n",
       "3                       France  \n",
       "4      10th and 11th centuries  \n",
       "...                        ...  \n",
       "20297                   sthène  \n",
       "20298                   sthène  \n",
       "20299                   sthène  \n",
       "20300                   sthène  \n",
       "20301                   sthène  \n",
       "\n",
       "[20302 rows x 3 columns]"
      ]
     },
     "execution_count": 11,
     "metadata": {},
     "output_type": "execute_result"
    }
   ],
   "source": [
    "import pandas as pd\n",
    "import json\n",
    "\n",
    "# Load the JSON file into a Python dictionary\n",
    "with open('/kaggle/input/squad-2/dev-v2.0.json', 'r', encoding='utf-8') as f:\n",
    "    squad_dev_data = json.load(f)\n",
    "\n",
    "# Extract paragraphs, questions, and answers from the SQuAD development data\n",
    "dev_paragraphs = []\n",
    "dev_questions = []\n",
    "dev_answers = []\n",
    "\n",
    "for article in squad_dev_data['data']:\n",
    "    for paragraph in article['paragraphs']:\n",
    "        context = paragraph['context']\n",
    "        for qa in paragraph['qas']:\n",
    "            question = qa['question']\n",
    "            for answer in qa.get('answers', []):\n",
    "                start = answer['answer_start']\n",
    "                text = answer['text']\n",
    "                dev_paragraphs.append(context)\n",
    "                dev_questions.append(question)\n",
    "                dev_answers.append(text)\n",
    "\n",
    "# Create a DataFrame from the extracted data\n",
    "dev_df = pd.DataFrame({'context': dev_paragraphs, 'question': dev_questions, 'answer_text': dev_answers})\n",
    "\n",
    "# Now you have your DataFrame 'squad_dev_df' containing the SQuAD 2.0 development dataset\n",
    "dev_df"
   ]
  },
  {
   "cell_type": "markdown",
   "id": "0cfd8715",
   "metadata": {
    "id": "_gt61dgfG6d4",
    "papermill": {
     "duration": 0.050679,
     "end_time": "2024-04-14T06:06:34.080046",
     "exception": false,
     "start_time": "2024-04-14T06:06:34.029367",
     "status": "completed"
    },
    "tags": []
   },
   "source": [
    "### NQG datasplit\n",
    "Using the datasplit proposed by the NQG paper - https://github.com/xinyadu/nqg "
   ]
  },
  {
   "cell_type": "code",
   "execution_count": 12,
   "id": "0241573b",
   "metadata": {
    "execution": {
     "iopub.execute_input": "2024-04-14T06:06:34.172331Z",
     "iopub.status.busy": "2024-04-14T06:06:34.171972Z",
     "iopub.status.idle": "2024-04-14T06:06:34.182002Z",
     "shell.execute_reply": "2024-04-14T06:06:34.180996Z"
    },
    "papermill": {
     "duration": 0.054539,
     "end_time": "2024-04-14T06:06:34.184044",
     "exception": false,
     "start_time": "2024-04-14T06:06:34.129505",
     "status": "completed"
    },
    "tags": []
   },
   "outputs": [
    {
     "data": {
      "text/plain": [
       "(74944, 3)"
      ]
     },
     "execution_count": 12,
     "metadata": {},
     "output_type": "execute_result"
    }
   ],
   "source": [
    "test_df = train_df[:11877]\n",
    "train_df = train_df[11877:]\n",
    "train_df.shape"
   ]
  },
  {
   "cell_type": "code",
   "execution_count": 13,
   "id": "c2b99704",
   "metadata": {
    "execution": {
     "iopub.execute_input": "2024-04-14T06:06:34.268800Z",
     "iopub.status.busy": "2024-04-14T06:06:34.267991Z",
     "iopub.status.idle": "2024-04-14T06:06:34.276782Z",
     "shell.execute_reply": "2024-04-14T06:06:34.275851Z"
    },
    "id": "XKzZWy11Wasq",
    "outputId": "0b09d77a-0e01-4b7a-a52f-34f0748bff61",
    "papermill": {
     "duration": 0.054244,
     "end_time": "2024-04-14T06:06:34.279252",
     "exception": false,
     "start_time": "2024-04-14T06:06:34.225008",
     "status": "completed"
    },
    "tags": []
   },
   "outputs": [
    {
     "data": {
      "text/plain": [
       "'The Normans (Norman: Nourmands; French: Normands; Latin: Normanni) were the people who in the 10th and 11th centuries gave their name to Normandy, a region in France. They were descended from Norse (\"Norman\" comes from \"Norseman\") raiders and pirates from Denmark, Iceland and Norway who, under their leader Rollo, agreed to swear fealty to King Charles III of West Francia. Through generations of assimilation and mixing with the native Frankish and Roman-Gaulish populations, their descendants would gradually merge with the Carolingian-based cultures of West Francia. The distinct cultural and ethnic identity of the Normans emerged initially in the first half of the 10th century, and it continued to evolve over the succeeding centuries.'"
      ]
     },
     "execution_count": 13,
     "metadata": {},
     "output_type": "execute_result"
    }
   ],
   "source": [
    "dev_df.iloc[0]['context']"
   ]
  },
  {
   "cell_type": "markdown",
   "id": "cd8cef63",
   "metadata": {
    "id": "zzBSHEnsLYhm",
    "papermill": {
     "duration": 0.041144,
     "end_time": "2024-04-14T06:06:34.369484",
     "exception": false,
     "start_time": "2024-04-14T06:06:34.328340",
     "status": "completed"
    },
    "tags": []
   },
   "source": [
    "#Training with a [ MASK] "
   ]
  },
  {
   "cell_type": "markdown",
   "id": "4dda44a6",
   "metadata": {
    "id": "_uBauaewLYhy",
    "papermill": {
     "duration": 0.04577,
     "end_time": "2024-04-14T06:06:34.456301",
     "exception": false,
     "start_time": "2024-04-14T06:06:34.410531",
     "status": "completed"
    },
    "tags": []
   },
   "source": [
    "## Pytorch Lightning Dataset \n",
    "Using a special `sep` token to separate the parts we want to predict and a `MASK` token to pass instead of the target answer when we don't want to do answer-aware question generation."
   ]
  },
  {
   "cell_type": "code",
   "execution_count": 14,
   "id": "c338128c",
   "metadata": {
    "execution": {
     "iopub.execute_input": "2024-04-14T06:06:34.550752Z",
     "iopub.status.busy": "2024-04-14T06:06:34.549913Z",
     "iopub.status.idle": "2024-04-14T06:06:34.554797Z",
     "shell.execute_reply": "2024-04-14T06:06:34.553840Z"
    },
    "id": "jV3nsPfQLYhy",
    "papermill": {
     "duration": 0.051023,
     "end_time": "2024-04-14T06:06:34.556754",
     "exception": false,
     "start_time": "2024-04-14T06:06:34.505731",
     "status": "completed"
    },
    "tags": []
   },
   "outputs": [],
   "source": [
    "SEP_TOKEN = '<sep>'\n",
    "MASKING_CHANCE = 0.3 #30% chance to replace the answer with '[MASK]'"
   ]
  },
  {
   "cell_type": "code",
   "execution_count": 15,
   "id": "42c5cb06",
   "metadata": {
    "execution": {
     "iopub.execute_input": "2024-04-14T06:06:34.641087Z",
     "iopub.status.busy": "2024-04-14T06:06:34.640741Z",
     "iopub.status.idle": "2024-04-14T06:06:34.652827Z",
     "shell.execute_reply": "2024-04-14T06:06:34.651876Z"
    },
    "id": "sgCdKhkhLYhz",
    "papermill": {
     "duration": 0.056588,
     "end_time": "2024-04-14T06:06:34.654996",
     "exception": false,
     "start_time": "2024-04-14T06:06:34.598408",
     "status": "completed"
    },
    "tags": []
   },
   "outputs": [],
   "source": [
    "class QGDataset(Dataset):\n",
    "\n",
    "    def __init__(\n",
    "        self,\n",
    "        data: pd.DataFrame,\n",
    "        tokenizer: T5Tokenizer,\n",
    "        source_max_token_len: int,\n",
    "        target_max_token_len: int\n",
    "        ):\n",
    "\n",
    "        self.tokenizer = tokenizer\n",
    "        self.data = data\n",
    "        self.source_max_token_len = source_max_token_len\n",
    "        self.target_max_token_len = target_max_token_len\n",
    "\n",
    "    def __len__(self):\n",
    "        return len(self.data)\n",
    "\n",
    "    def __getitem__(self, index: int):\n",
    "        data_row = self.data.iloc[index]\n",
    "\n",
    "        if np.random.rand() > MASKING_CHANCE:\n",
    "            answer = data_row['answer_text']\n",
    "        else:\n",
    "            answer = '[MASK]'\n",
    "\n",
    "        source_encoding = tokenizer(\n",
    "            '{} {} {}'.format(answer, SEP_TOKEN, data_row['context']),\n",
    "            max_length= self.source_max_token_len,\n",
    "            padding='max_length',\n",
    "            truncation= True,\n",
    "            return_attention_mask=True,\n",
    "            add_special_tokens=True,\n",
    "            return_tensors='pt'\n",
    "            )\n",
    "    \n",
    "        target_encoding = tokenizer(\n",
    "            '{} {} {}'.format(data_row['answer_text'], SEP_TOKEN, data_row['question']),\n",
    "            max_length=self.target_max_token_len,\n",
    "            padding='max_length',\n",
    "            truncation = True,\n",
    "            return_attention_mask=True,\n",
    "            add_special_tokens=True,\n",
    "            return_tensors='pt'\n",
    "            )\n",
    "\n",
    "        labels = target_encoding['input_ids']  \n",
    "        labels[labels == 0] = -100\n",
    "\n",
    "        return dict(\n",
    "            answer_text = data_row['answer_text'],\n",
    "            context = data_row['context'],\n",
    "            question = data_row['question'],\n",
    "            input_ids = source_encoding['input_ids'].flatten(),\n",
    "            attention_mask = source_encoding['attention_mask'].flatten(),\n",
    "            labels=labels.flatten()\n",
    "            )"
   ]
  },
  {
   "cell_type": "markdown",
   "id": "6bfd74b2",
   "metadata": {
    "id": "mnp5XCXcLYhz",
    "papermill": {
     "duration": 0.041592,
     "end_time": "2024-04-14T06:06:34.737051",
     "exception": false,
     "start_time": "2024-04-14T06:06:34.695459",
     "status": "completed"
    },
    "tags": []
   },
   "source": [
    "## Pytorch Lightning DataModule"
   ]
  },
  {
   "cell_type": "code",
   "execution_count": 16,
   "id": "bd716f54",
   "metadata": {
    "execution": {
     "iopub.execute_input": "2024-04-14T06:06:34.820685Z",
     "iopub.status.busy": "2024-04-14T06:06:34.820360Z",
     "iopub.status.idle": "2024-04-14T06:06:34.830471Z",
     "shell.execute_reply": "2024-04-14T06:06:34.829481Z"
    },
    "id": "9gAO0iB0LYh0",
    "papermill": {
     "duration": 0.054565,
     "end_time": "2024-04-14T06:06:34.832522",
     "exception": false,
     "start_time": "2024-04-14T06:06:34.777957",
     "status": "completed"
    },
    "tags": []
   },
   "outputs": [],
   "source": [
    "import pytorch_lightning as pl\n",
    "\n",
    "class QGDataModule(pl.LightningDataModule):\n",
    "    def __init__(\n",
    "        self,\n",
    "        train_df: pd.DataFrame,\n",
    "        val_df: pd.DataFrame,\n",
    "        test_df: pd.DataFrame,\n",
    "        tokenizer: T5Tokenizer,\n",
    "        batch_size,\n",
    "        source_max_token_len: int,\n",
    "        target_max_token_len: int\n",
    "    ): \n",
    "        super().__init__()\n",
    "        self.batch_size = batch_size\n",
    "        self.train_df = train_df\n",
    "        self.val_df = val_df\n",
    "        self.test_df = test_df\n",
    "        self.tokenizer = tokenizer\n",
    "        self.source_max_token_len = source_max_token_len\n",
    "        self.target_max_token_len = target_max_token_len\n",
    "\n",
    "    def setup(self, stage=None):\n",
    "        if stage == 'fit' or stage is None:\n",
    "            self.train_dataset = QGDataset(self.train_df, self.tokenizer, self.source_max_token_len, self.target_max_token_len)\n",
    "            self.val_dataset = QGDataset(self.val_df, self.tokenizer, self.source_max_token_len, self.target_max_token_len)\n",
    "        if stage == 'test' or stage is None:\n",
    "            self.test_dataset = QGDataset(self.test_df, self.tokenizer, self.source_max_token_len, self.target_max_token_len)\n",
    "\n",
    "    def train_dataloader(self):\n",
    "        return DataLoader(self.train_dataset, batch_size=self.batch_size, shuffle=True, num_workers=2)\n",
    "\n",
    "    def val_dataloader(self): \n",
    "        return DataLoader(self.val_dataset, batch_size=1, num_workers=2)\n",
    "\n",
    "    def test_dataloader(self):\n",
    "        return DataLoader(self.test_dataset, batch_size=1, num_workers=2)\n"
   ]
  },
  {
   "cell_type": "markdown",
   "id": "c7ff5f08",
   "metadata": {
    "id": "5JcEu55QLYh1",
    "papermill": {
     "duration": 0.043681,
     "end_time": "2024-04-14T06:06:34.917189",
     "exception": false,
     "start_time": "2024-04-14T06:06:34.873508",
     "status": "completed"
    },
    "tags": []
   },
   "source": [
    "#### Testing DataModule"
   ]
  },
  {
   "cell_type": "code",
   "execution_count": 17,
   "id": "3a4bea81",
   "metadata": {
    "execution": {
     "iopub.execute_input": "2024-04-14T06:06:35.004388Z",
     "iopub.status.busy": "2024-04-14T06:06:35.004014Z",
     "iopub.status.idle": "2024-04-14T06:06:35.009967Z",
     "shell.execute_reply": "2024-04-14T06:06:35.008983Z"
    },
    "id": "utVAdsQDLYh1",
    "papermill": {
     "duration": 0.051965,
     "end_time": "2024-04-14T06:06:35.012533",
     "exception": false,
     "start_time": "2024-04-14T06:06:34.960568",
     "status": "completed"
    },
    "tags": []
   },
   "outputs": [],
   "source": [
    "# data_module = QGDataModule(train_df, dev_df, test_df, tokenizer, 2, 128, 64)\n",
    "# data_module.setup()"
   ]
  },
  {
   "cell_type": "markdown",
   "id": "c7dc7346",
   "metadata": {
    "id": "MUfxr8xFLYh1",
    "papermill": {
     "duration": 0.042711,
     "end_time": "2024-04-14T06:06:35.101894",
     "exception": false,
     "start_time": "2024-04-14T06:06:35.059183",
     "status": "completed"
    },
    "tags": []
   },
   "source": [
    "## Hyperparameters"
   ]
  },
  {
   "cell_type": "code",
   "execution_count": 18,
   "id": "4fbcb6db",
   "metadata": {
    "execution": {
     "iopub.execute_input": "2024-04-14T06:06:35.187310Z",
     "iopub.status.busy": "2024-04-14T06:06:35.186881Z",
     "iopub.status.idle": "2024-04-14T06:06:35.191769Z",
     "shell.execute_reply": "2024-04-14T06:06:35.190842Z"
    },
    "id": "0dl9vMl6LYh2",
    "papermill": {
     "duration": 0.048069,
     "end_time": "2024-04-14T06:06:35.193785",
     "exception": false,
     "start_time": "2024-04-14T06:06:35.145716",
     "status": "completed"
    },
    "tags": []
   },
   "outputs": [],
   "source": [
    "MODEL_NAME = 't5-small'\n",
    "SOURCE_MAX_TOKEN_LEN = 300\n",
    "TARGET_MAX_TOKEN_LEN = 80\n",
    "\n",
    "N_EPOCHS = 5\n",
    "BATCH_SIZE = 16\n",
    "LEARNING_RATE = 0.0001"
   ]
  },
  {
   "cell_type": "code",
   "execution_count": 19,
   "id": "f8e622a8",
   "metadata": {
    "execution": {
     "iopub.execute_input": "2024-04-14T06:06:35.275431Z",
     "iopub.status.busy": "2024-04-14T06:06:35.275131Z",
     "iopub.status.idle": "2024-04-14T06:06:35.282157Z",
     "shell.execute_reply": "2024-04-14T06:06:35.281118Z"
    },
    "id": "7G6VWLobLYh3",
    "outputId": "313eeb92-ae3a-4eea-bc12-03966edb5ed3",
    "papermill": {
     "duration": 0.050052,
     "end_time": "2024-04-14T06:06:35.284159",
     "exception": false,
     "start_time": "2024-04-14T06:06:35.234107",
     "status": "completed"
    },
    "tags": []
   },
   "outputs": [
    {
     "name": "stdout",
     "output_type": "stream",
     "text": [
      "Taking 100 %\n",
      "74944 of 74944\n",
      "20302 of 20302\n",
      "11877 of 11877\n"
     ]
    }
   ],
   "source": [
    "DF_TAKE_PERCENTAGE = 1\n",
    "\n",
    "TAKE_TRAIN = int(len(train_df) * DF_TAKE_PERCENTAGE)\n",
    "TAKE_DEV = int(len(dev_df) * DF_TAKE_PERCENTAGE)\n",
    "TAKE_TEST = int(len(test_df) * DF_TAKE_PERCENTAGE)\n",
    "\n",
    "print('Taking', DF_TAKE_PERCENTAGE * 100, '%')\n",
    "print(TAKE_TRAIN, 'of', len(train_df))\n",
    "print(TAKE_DEV, 'of', len(dev_df))\n",
    "print(TAKE_TEST, 'of', len(test_df))"
   ]
  },
  {
   "cell_type": "markdown",
   "id": "b4a2353d",
   "metadata": {
    "id": "UjmXIXrgLYh4",
    "papermill": {
     "duration": 0.041068,
     "end_time": "2024-04-14T06:06:35.365413",
     "exception": false,
     "start_time": "2024-04-14T06:06:35.324345",
     "status": "completed"
    },
    "tags": []
   },
   "source": [
    "### Initializing training module"
   ]
  },
  {
   "cell_type": "markdown",
   "id": "14ef9539",
   "metadata": {
    "id": "8Sy1ZTEiLYh4",
    "papermill": {
     "duration": 0.04089,
     "end_time": "2024-04-14T06:06:35.446826",
     "exception": false,
     "start_time": "2024-04-14T06:06:35.405936",
     "status": "completed"
    },
    "tags": []
   },
   "source": [
    "#### Setting DataModule"
   ]
  },
  {
   "cell_type": "code",
   "execution_count": 20,
   "id": "2f8746bd",
   "metadata": {
    "execution": {
     "iopub.execute_input": "2024-04-14T06:06:35.533286Z",
     "iopub.status.busy": "2024-04-14T06:06:35.532851Z",
     "iopub.status.idle": "2024-04-14T06:06:36.269522Z",
     "shell.execute_reply": "2024-04-14T06:06:36.268466Z"
    },
    "id": "8v4IcaOGLYh4",
    "outputId": "2f737548-4ebe-4372-a3b5-432046ddbbf7",
    "papermill": {
     "duration": 0.782049,
     "end_time": "2024-04-14T06:06:36.271674",
     "exception": false,
     "start_time": "2024-04-14T06:06:35.489625",
     "status": "completed"
    },
    "tags": []
   },
   "outputs": [
    {
     "name": "stdout",
     "output_type": "stream",
     "text": [
      "(74944, 3) (20302, 3) (11877, 3)\n"
     ]
    },
    {
     "data": {
      "application/vnd.jupyter.widget-view+json": {
       "model_id": "d5f57438cc424e6098bb1bb0ce10ca2b",
       "version_major": 2,
       "version_minor": 0
      },
      "text/plain": [
       "tokenizer_config.json:   0%|          | 0.00/2.32k [00:00<?, ?B/s]"
      ]
     },
     "metadata": {},
     "output_type": "display_data"
    },
    {
     "data": {
      "application/vnd.jupyter.widget-view+json": {
       "model_id": "db38a5dffac44f3188a5e087cfc9bbac",
       "version_major": 2,
       "version_minor": 0
      },
      "text/plain": [
       "spiece.model:   0%|          | 0.00/792k [00:00<?, ?B/s]"
      ]
     },
     "metadata": {},
     "output_type": "display_data"
    },
    {
     "data": {
      "application/vnd.jupyter.widget-view+json": {
       "model_id": "26d3d692da7e4a6f8a4db2befaf04c6c",
       "version_major": 2,
       "version_minor": 0
      },
      "text/plain": [
       "tokenizer.json:   0%|          | 0.00/1.39M [00:00<?, ?B/s]"
      ]
     },
     "metadata": {},
     "output_type": "display_data"
    },
    {
     "name": "stdout",
     "output_type": "stream",
     "text": [
      "tokenizer len before:  32100\n",
      "tokenizer len after:  32101\n"
     ]
    }
   ],
   "source": [
    "print(train_df[:TAKE_TRAIN].shape, dev_df[:TAKE_DEV].shape, test_df[:TAKE_TEST].shape)\n",
    "\n",
    "tokenizer = T5Tokenizer.from_pretrained(MODEL_NAME)\n",
    "print('tokenizer len before: ', len(tokenizer))\n",
    "tokenizer.add_tokens(SEP_TOKEN)\n",
    "print('tokenizer len after: ', len(tokenizer))\n",
    "TOKENIZER_LEN = len(tokenizer)\n",
    "\n",
    "data_module = QGDataModule(train_df[:TAKE_TRAIN], dev_df[:TAKE_DEV], test_df[:TAKE_TEST], tokenizer, BATCH_SIZE, SOURCE_MAX_TOKEN_LEN, TARGET_MAX_TOKEN_LEN)\n",
    "data_module.setup()"
   ]
  },
  {
   "cell_type": "markdown",
   "id": "b947c4e8",
   "metadata": {
    "id": "LO9ZORf_LYh5",
    "papermill": {
     "duration": 0.04216,
     "end_time": "2024-04-14T06:06:36.355476",
     "exception": false,
     "start_time": "2024-04-14T06:06:36.313316",
     "status": "completed"
    },
    "tags": []
   },
   "source": [
    "#### Setting Model"
   ]
  },
  {
   "cell_type": "code",
   "execution_count": 21,
   "id": "6483bc89",
   "metadata": {
    "execution": {
     "iopub.execute_input": "2024-04-14T06:06:36.441847Z",
     "iopub.status.busy": "2024-04-14T06:06:36.441470Z",
     "iopub.status.idle": "2024-04-14T06:06:36.453404Z",
     "shell.execute_reply": "2024-04-14T06:06:36.452432Z"
    },
    "id": "5v8Iex8iLYh6",
    "papermill": {
     "duration": 0.057725,
     "end_time": "2024-04-14T06:06:36.455518",
     "exception": false,
     "start_time": "2024-04-14T06:06:36.397793",
     "status": "completed"
    },
    "tags": []
   },
   "outputs": [],
   "source": [
    "class QGModel(pl.LightningModule):\n",
    "    def __init__(self, data_module):\n",
    "        super().__init__()\n",
    "        self.model = T5ForConditionalGeneration.from_pretrained(MODEL_NAME, return_dict=True)\n",
    "        self.model.resize_token_embeddings(TOKENIZER_LEN)\n",
    "        self.data_module = data_module\n",
    "        \n",
    "    def test_dataloader(self):\n",
    "        return self.data_module.test_dataloader()\n",
    "\n",
    "    def forward(self, input_ids, attention_mask, labels=None):\n",
    "        output = self.model(input_ids=input_ids, attention_mask=attention_mask, labels=labels)\n",
    "        return output.loss, output.logits\n",
    "\n",
    "    def training_step(self, batch, batch_idx):\n",
    "        input_ids = batch['input_ids']\n",
    "        attention_mask = batch['attention_mask']\n",
    "        labels = batch['labels']\n",
    "        loss, output = self(input_ids, attention_mask, labels)\n",
    "        self.log('train_loss', loss, prog_bar=True, logger=True)\n",
    "        return loss\n",
    "\n",
    "    def validation_step(self, batch, batch_idx):\n",
    "        input_ids = batch['input_ids']\n",
    "        attention_mask = batch['attention_mask']\n",
    "        labels = batch['labels']\n",
    "        loss, output = self(input_ids, attention_mask, labels)\n",
    "        self.log('val_loss', loss, prog_bar=True, logger=True)\n",
    "        return loss\n",
    "\n",
    "    def test_step(self, batch, batch_idx):\n",
    "        input_ids = batch['input_ids']\n",
    "        attention_mask = batch['attention_mask']\n",
    "        labels = batch['labels']\n",
    "        loss, output = self(input_ids, attention_mask, labels)\n",
    "        self.log('test_loss', loss, prog_bar=True, logger=True)\n",
    "        return loss\n",
    "  \n",
    "    def configure_optimizers(self):\n",
    "        return AdamW(self.parameters(), lr=LEARNING_RATE)"
   ]
  },
  {
   "cell_type": "markdown",
   "id": "926c3784",
   "metadata": {
    "id": "w8qehtrYLYh6",
    "papermill": {
     "duration": 0.040168,
     "end_time": "2024-04-14T06:06:36.536904",
     "exception": false,
     "start_time": "2024-04-14T06:06:36.496736",
     "status": "completed"
    },
    "tags": []
   },
   "source": [
    "#### Setting trainer"
   ]
  },
  {
   "cell_type": "code",
   "execution_count": 22,
   "id": "1e11df4b",
   "metadata": {
    "execution": {
     "iopub.execute_input": "2024-04-14T06:06:36.625496Z",
     "iopub.status.busy": "2024-04-14T06:06:36.624764Z",
     "iopub.status.idle": "2024-04-14T06:06:36.653381Z",
     "shell.execute_reply": "2024-04-14T06:06:36.652614Z"
    },
    "id": "TiamyOuBLYh6",
    "papermill": {
     "duration": 0.076342,
     "end_time": "2024-04-14T06:06:36.655333",
     "exception": false,
     "start_time": "2024-04-14T06:06:36.578991",
     "status": "completed"
    },
    "tags": []
   },
   "outputs": [],
   "source": [
    "\n",
    "checkpoint_callback = ModelCheckpoint(\n",
    "        dirpath='checkpoints',\n",
    "        filename='best-checkpoint',\n",
    "        save_top_k=-1,\n",
    "        verbose=True,\n",
    "        monitor='val_loss',\n",
    "        mode='min'\n",
    "    )"
   ]
  },
  {
   "cell_type": "code",
   "execution_count": 23,
   "id": "a639b706",
   "metadata": {
    "execution": {
     "iopub.execute_input": "2024-04-14T06:06:36.740217Z",
     "iopub.status.busy": "2024-04-14T06:06:36.739891Z",
     "iopub.status.idle": "2024-04-14T06:06:37.422297Z",
     "shell.execute_reply": "2024-04-14T06:06:37.421563Z"
    },
    "id": "9mJIxTiILYh7",
    "outputId": "3712a1f6-4619-4950-cec6-6c05153880ff",
    "papermill": {
     "duration": 0.727397,
     "end_time": "2024-04-14T06:06:37.424600",
     "exception": false,
     "start_time": "2024-04-14T06:06:36.697203",
     "status": "completed"
    },
    "tags": []
   },
   "outputs": [],
   "source": [
    "trainer = pl.Trainer(\n",
    "        max_epochs=N_EPOCHS,\n",
    "    )"
   ]
  },
  {
   "cell_type": "markdown",
   "id": "d246b02d",
   "metadata": {
    "id": "8dirfEwxLYh7",
    "papermill": {
     "duration": 0.04174,
     "end_time": "2024-04-14T06:06:37.508218",
     "exception": false,
     "start_time": "2024-04-14T06:06:37.466478",
     "status": "completed"
    },
    "tags": []
   },
   "source": [
    "## Training"
   ]
  },
  {
   "cell_type": "code",
   "execution_count": 24,
   "id": "ea8e65f7",
   "metadata": {
    "execution": {
     "iopub.execute_input": "2024-04-14T06:06:37.592627Z",
     "iopub.status.busy": "2024-04-14T06:06:37.592304Z",
     "iopub.status.idle": "2024-04-14T06:06:37.618604Z",
     "shell.execute_reply": "2024-04-14T06:06:37.617872Z"
    },
    "id": "yogTDkyDLYh7",
    "outputId": "f57055c0-864a-4f35-fe08-9a4b8b3457bf",
    "papermill": {
     "duration": 0.071006,
     "end_time": "2024-04-14T06:06:37.620599",
     "exception": false,
     "start_time": "2024-04-14T06:06:37.549593",
     "status": "completed"
    },
    "tags": []
   },
   "outputs": [],
   "source": [
    "%load_ext tensorboard"
   ]
  },
  {
   "cell_type": "code",
   "execution_count": 25,
   "id": "0c60d013",
   "metadata": {
    "execution": {
     "iopub.execute_input": "2024-04-14T06:06:37.704815Z",
     "iopub.status.busy": "2024-04-14T06:06:37.704515Z",
     "iopub.status.idle": "2024-04-14T06:06:58.244611Z",
     "shell.execute_reply": "2024-04-14T06:06:58.243652Z"
    },
    "id": "jfX-qRzXLYh8",
    "papermill": {
     "duration": 20.58467,
     "end_time": "2024-04-14T06:06:58.246958",
     "exception": false,
     "start_time": "2024-04-14T06:06:37.662288",
     "status": "completed"
    },
    "tags": []
   },
   "outputs": [
    {
     "data": {
      "text/html": [
       "\n",
       "      <iframe id=\"tensorboard-frame-1c80317fa3b1799d\" width=\"100%\" height=\"800\" frameborder=\"0\">\n",
       "      </iframe>\n",
       "      <script>\n",
       "        (function() {\n",
       "          const frame = document.getElementById(\"tensorboard-frame-1c80317fa3b1799d\");\n",
       "          const url = new URL(\"/\", window.location);\n",
       "          const port = 6006;\n",
       "          if (port) {\n",
       "            url.port = port;\n",
       "          }\n",
       "          frame.src = url;\n",
       "        })();\n",
       "      </script>\n",
       "    "
      ],
      "text/plain": [
       "<IPython.core.display.HTML object>"
      ]
     },
     "metadata": {},
     "output_type": "display_data"
    }
   ],
   "source": [
    "%tensorboard --logdir ./lightning_logs"
   ]
  },
  {
   "cell_type": "code",
   "execution_count": 26,
   "id": "447fba21",
   "metadata": {
    "execution": {
     "iopub.execute_input": "2024-04-14T06:06:58.335993Z",
     "iopub.status.busy": "2024-04-14T06:06:58.335184Z",
     "iopub.status.idle": "2024-04-14T09:08:00.401287Z",
     "shell.execute_reply": "2024-04-14T09:08:00.400219Z"
    },
    "id": "VBT6ubhpLYh8",
    "outputId": "ce0fd637-79ef-44c9-af87-dd28d8cef247",
    "papermill": {
     "duration": 10862.114365,
     "end_time": "2024-04-14T09:08:00.404382",
     "exception": false,
     "start_time": "2024-04-14T06:06:58.290017",
     "status": "completed"
    },
    "tags": []
   },
   "outputs": [
    {
     "data": {
      "application/vnd.jupyter.widget-view+json": {
       "model_id": "235ae781176d407baa035c9b009ae579",
       "version_major": 2,
       "version_minor": 0
      },
      "text/plain": [
       "config.json:   0%|          | 0.00/1.21k [00:00<?, ?B/s]"
      ]
     },
     "metadata": {},
     "output_type": "display_data"
    },
    {
     "data": {
      "application/vnd.jupyter.widget-view+json": {
       "model_id": "34b43cab8e234def8305c67ecc63af29",
       "version_major": 2,
       "version_minor": 0
      },
      "text/plain": [
       "model.safetensors:   0%|          | 0.00/242M [00:00<?, ?B/s]"
      ]
     },
     "metadata": {},
     "output_type": "display_data"
    },
    {
     "data": {
      "application/vnd.jupyter.widget-view+json": {
       "model_id": "7080aa28c6ca48fb8093d0dcf4d4590c",
       "version_major": 2,
       "version_minor": 0
      },
      "text/plain": [
       "generation_config.json:   0%|          | 0.00/147 [00:00<?, ?B/s]"
      ]
     },
     "metadata": {},
     "output_type": "display_data"
    },
    {
     "name": "stderr",
     "output_type": "stream",
     "text": [
      "2024-04-14 06:07:01.614732: E external/local_xla/xla/stream_executor/cuda/cuda_dnn.cc:9261] Unable to register cuDNN factory: Attempting to register factory for plugin cuDNN when one has already been registered\n",
      "2024-04-14 06:07:01.614801: E external/local_xla/xla/stream_executor/cuda/cuda_fft.cc:607] Unable to register cuFFT factory: Attempting to register factory for plugin cuFFT when one has already been registered\n",
      "2024-04-14 06:07:01.616339: E external/local_xla/xla/stream_executor/cuda/cuda_blas.cc:1515] Unable to register cuBLAS factory: Attempting to register factory for plugin cuBLAS when one has already been registered\n",
      "/opt/conda/lib/python3.10/site-packages/transformers/optimization.py:457: FutureWarning: This implementation of AdamW is deprecated and will be removed in a future version. Use the PyTorch implementation torch.optim.AdamW instead, or set `no_deprecation_warning=True` to disable this warning\n",
      "  warnings.warn(\n"
     ]
    },
    {
     "data": {
      "application/vnd.jupyter.widget-view+json": {
       "model_id": "303e31135f404423b36fa678da9aac19",
       "version_major": 2,
       "version_minor": 0
      },
      "text/plain": [
       "Sanity Checking: |          | 0/? [00:00<?, ?it/s]"
      ]
     },
     "metadata": {},
     "output_type": "display_data"
    },
    {
     "data": {
      "application/vnd.jupyter.widget-view+json": {
       "model_id": "2cef4d5b903d43f3a1fb681674cf7600",
       "version_major": 2,
       "version_minor": 0
      },
      "text/plain": [
       "Training: |          | 0/? [00:00<?, ?it/s]"
      ]
     },
     "metadata": {},
     "output_type": "display_data"
    },
    {
     "data": {
      "application/vnd.jupyter.widget-view+json": {
       "model_id": "684bd86e60094a15b113bf0dbe76bce0",
       "version_major": 2,
       "version_minor": 0
      },
      "text/plain": [
       "Validation: |          | 0/? [00:00<?, ?it/s]"
      ]
     },
     "metadata": {},
     "output_type": "display_data"
    },
    {
     "data": {
      "application/vnd.jupyter.widget-view+json": {
       "model_id": "9562f185ade246eda1c259b73fce2603",
       "version_major": 2,
       "version_minor": 0
      },
      "text/plain": [
       "Validation: |          | 0/? [00:00<?, ?it/s]"
      ]
     },
     "metadata": {},
     "output_type": "display_data"
    },
    {
     "data": {
      "application/vnd.jupyter.widget-view+json": {
       "model_id": "c9a2f2aac75f4b61bf44a12b0edcbc26",
       "version_major": 2,
       "version_minor": 0
      },
      "text/plain": [
       "Validation: |          | 0/? [00:00<?, ?it/s]"
      ]
     },
     "metadata": {},
     "output_type": "display_data"
    },
    {
     "data": {
      "application/vnd.jupyter.widget-view+json": {
       "model_id": "e475b9b1bce343f4aeb275ad33f6c77c",
       "version_major": 2,
       "version_minor": 0
      },
      "text/plain": [
       "Validation: |          | 0/? [00:00<?, ?it/s]"
      ]
     },
     "metadata": {},
     "output_type": "display_data"
    },
    {
     "data": {
      "application/vnd.jupyter.widget-view+json": {
       "model_id": "7b07e7d2f151422f806e64cf8d700fef",
       "version_major": 2,
       "version_minor": 0
      },
      "text/plain": [
       "Validation: |          | 0/? [00:00<?, ?it/s]"
      ]
     },
     "metadata": {},
     "output_type": "display_data"
    }
   ],
   "source": [
    "model = QGModel(data_module)\n",
    "# model = QGModel.load_from_checkpoint('checkpoints/best-checkpoint-v42.ckpt')\n",
    "\n",
    "trainer.fit(model, data_module)"
   ]
  },
  {
   "cell_type": "code",
   "execution_count": 27,
   "id": "afe20c29",
   "metadata": {
    "execution": {
     "iopub.execute_input": "2024-04-14T09:08:00.498427Z",
     "iopub.status.busy": "2024-04-14T09:08:00.497762Z",
     "iopub.status.idle": "2024-04-14T09:08:01.865270Z",
     "shell.execute_reply": "2024-04-14T09:08:01.864293Z"
    },
    "papermill": {
     "duration": 1.416193,
     "end_time": "2024-04-14T09:08:01.867728",
     "exception": false,
     "start_time": "2024-04-14T09:08:00.451535",
     "status": "completed"
    },
    "tags": []
   },
   "outputs": [],
   "source": [
    "# Save the entire model\n",
    "torch.save(model, 'qg_model.pth')\n"
   ]
  },
  {
   "cell_type": "markdown",
   "id": "f1beb0d0",
   "metadata": {
    "id": "03RpUyqrLYh9",
    "papermill": {
     "duration": 0.049201,
     "end_time": "2024-04-14T09:08:01.966684",
     "exception": false,
     "start_time": "2024-04-14T09:08:01.917483",
     "status": "completed"
    },
    "tags": []
   },
   "source": [
    "**JavaScript to prevent from shutting down.**\n",
    "\n",
    "function ConnectButton(){\n",
    "    console.log(\"Connect pushed\"); \n",
    "    document.querySelector(\"#top-toolbar > colab-connect-button\").shadowRoot.querySelector(\"#connect\").click() \n",
    "}\n",
    "\n",
    "setInterval(ConnectButton,60000);"
   ]
  },
  {
   "cell_type": "code",
   "execution_count": 28,
   "id": "f75008a6",
   "metadata": {
    "execution": {
     "iopub.execute_input": "2024-04-14T09:08:02.065384Z",
     "iopub.status.busy": "2024-04-14T09:08:02.065017Z",
     "iopub.status.idle": "2024-04-14T09:12:13.940144Z",
     "shell.execute_reply": "2024-04-14T09:12:13.938998Z"
    },
    "id": "0MGhsWXNLYh-",
    "outputId": "075b771a-267d-410c-b9fc-2df069050508",
    "papermill": {
     "duration": 251.927541,
     "end_time": "2024-04-14T09:12:13.942526",
     "exception": false,
     "start_time": "2024-04-14T09:08:02.014985",
     "status": "completed"
    },
    "tags": []
   },
   "outputs": [
    {
     "name": "stderr",
     "output_type": "stream",
     "text": [
      "/opt/conda/lib/python3.10/site-packages/pytorch_lightning/trainer/connectors/checkpoint_connector.py:145: `.test(ckpt_path=None)` was called without a model. The best model of the previous `fit` call will be used. You can pass `.test(ckpt_path='best')` to use the best model or `.test(ckpt_path='last')` to use the last model. If you pass a value, this warning will be silenced.\n"
     ]
    },
    {
     "data": {
      "application/vnd.jupyter.widget-view+json": {
       "model_id": "80fd12e4817b476b8f0ca984fe13be62",
       "version_major": 2,
       "version_minor": 0
      },
      "text/plain": [
       "Testing: |          | 0/? [00:00<?, ?it/s]"
      ]
     },
     "metadata": {},
     "output_type": "display_data"
    },
    {
     "data": {
      "text/html": [
       "<pre style=\"white-space:pre;overflow-x:auto;line-height:normal;font-family:Menlo,'DejaVu Sans Mono',consolas,'Courier New',monospace\">┏━━━━━━━━━━━━━━━━━━━━━━━━━━━┳━━━━━━━━━━━━━━━━━━━━━━━━━━━┓\n",
       "┃<span style=\"font-weight: bold\">        Test metric        </span>┃<span style=\"font-weight: bold\">       DataLoader 0        </span>┃\n",
       "┡━━━━━━━━━━━━━━━━━━━━━━━━━━━╇━━━━━━━━━━━━━━━━━━━━━━━━━━━┩\n",
       "│<span style=\"color: #008080; text-decoration-color: #008080\">         test_loss         </span>│<span style=\"color: #800080; text-decoration-color: #800080\">    1.4729632139205933     </span>│\n",
       "└───────────────────────────┴───────────────────────────┘\n",
       "</pre>\n"
      ],
      "text/plain": [
       "┏━━━━━━━━━━━━━━━━━━━━━━━━━━━┳━━━━━━━━━━━━━━━━━━━━━━━━━━━┓\n",
       "┃\u001b[1m \u001b[0m\u001b[1m       Test metric       \u001b[0m\u001b[1m \u001b[0m┃\u001b[1m \u001b[0m\u001b[1m      DataLoader 0       \u001b[0m\u001b[1m \u001b[0m┃\n",
       "┡━━━━━━━━━━━━━━━━━━━━━━━━━━━╇━━━━━━━━━━━━━━━━━━━━━━━━━━━┩\n",
       "│\u001b[36m \u001b[0m\u001b[36m        test_loss        \u001b[0m\u001b[36m \u001b[0m│\u001b[35m \u001b[0m\u001b[35m   1.4729632139205933    \u001b[0m\u001b[35m \u001b[0m│\n",
       "└───────────────────────────┴───────────────────────────┘\n"
      ]
     },
     "metadata": {},
     "output_type": "display_data"
    },
    {
     "data": {
      "text/plain": [
       "[{'test_loss': 1.4729632139205933}]"
      ]
     },
     "execution_count": 28,
     "metadata": {},
     "output_type": "execute_result"
    }
   ],
   "source": [
    "trainer.test()"
   ]
  },
  {
   "cell_type": "code",
   "execution_count": null,
   "id": "8514b370",
   "metadata": {
    "papermill": {
     "duration": 0.047058,
     "end_time": "2024-04-14T09:12:14.035512",
     "exception": false,
     "start_time": "2024-04-14T09:12:13.988454",
     "status": "completed"
    },
    "tags": []
   },
   "outputs": [],
   "source": []
  },
  {
   "cell_type": "markdown",
   "id": "c1b69cf2",
   "metadata": {
    "id": "X61Fd_QKLYh_",
    "papermill": {
     "duration": 0.049916,
     "end_time": "2024-04-14T09:12:14.135332",
     "exception": false,
     "start_time": "2024-04-14T09:12:14.085416",
     "status": "completed"
    },
    "tags": []
   },
   "source": [
    "## Evaluate"
   ]
  },
  {
   "cell_type": "markdown",
   "id": "798743a6",
   "metadata": {
    "id": "kekeQrMLLYh_",
    "papermill": {
     "duration": 0.050461,
     "end_time": "2024-04-14T09:12:14.236966",
     "exception": false,
     "start_time": "2024-04-14T09:12:14.186505",
     "status": "completed"
    },
    "tags": []
   },
   "source": [
    "### Load model"
   ]
  },
  {
   "cell_type": "code",
   "execution_count": 29,
   "id": "83fe4a3d",
   "metadata": {
    "execution": {
     "iopub.execute_input": "2024-04-14T09:12:14.340361Z",
     "iopub.status.busy": "2024-04-14T09:12:14.339311Z",
     "iopub.status.idle": "2024-04-14T09:12:14.344328Z",
     "shell.execute_reply": "2024-04-14T09:12:14.343333Z"
    },
    "id": "jDG9_-wtLYh_",
    "outputId": "bf2aee7f-5744-43a8-96f5-407860680f84",
    "papermill": {
     "duration": 0.059322,
     "end_time": "2024-04-14T09:12:14.346610",
     "exception": false,
     "start_time": "2024-04-14T09:12:14.287288",
     "status": "completed"
    },
    "tags": []
   },
   "outputs": [],
   "source": [
    "# checkpoint_path = 'checkpoints/best-checkpoint-v9.ckpt'\n",
    "\n",
    "# best_model = QGModel.load_from_checkpoint(checkpoint_path)\n",
    "# best_model.freeze()\n",
    "# best_model.eval()\n",
    "\n",
    "# print()"
   ]
  },
  {
   "cell_type": "markdown",
   "id": "f104178f",
   "metadata": {
    "id": "7Mw4yRs8LYh_",
    "papermill": {
     "duration": 0.049065,
     "end_time": "2024-04-14T09:12:14.445413",
     "exception": false,
     "start_time": "2024-04-14T09:12:14.396348",
     "status": "completed"
    },
    "tags": []
   },
   "source": [
    "### Common functions"
   ]
  },
  {
   "cell_type": "code",
   "execution_count": 30,
   "id": "99f8d382",
   "metadata": {
    "execution": {
     "iopub.execute_input": "2024-04-14T09:12:14.546350Z",
     "iopub.status.busy": "2024-04-14T09:12:14.545338Z",
     "iopub.status.idle": "2024-04-14T09:12:14.550174Z",
     "shell.execute_reply": "2024-04-14T09:12:14.549167Z"
    },
    "id": "Xr6zTf6SLYiA",
    "outputId": "205f30d4-b389-486f-8463-242487872719",
    "papermill": {
     "duration": 0.058028,
     "end_time": "2024-04-14T09:12:14.552297",
     "exception": false,
     "start_time": "2024-04-14T09:12:14.494269",
     "status": "completed"
    },
    "tags": []
   },
   "outputs": [],
   "source": [
    "# SEP_TOKEN"
   ]
  },
  {
   "cell_type": "code",
   "execution_count": 31,
   "id": "62983709",
   "metadata": {
    "execution": {
     "iopub.execute_input": "2024-04-14T09:12:14.655938Z",
     "iopub.status.busy": "2024-04-14T09:12:14.655504Z",
     "iopub.status.idle": "2024-04-14T09:12:14.661032Z",
     "shell.execute_reply": "2024-04-14T09:12:14.659998Z"
    },
    "id": "T0JOz2TQLYiC",
    "papermill": {
     "duration": 0.061052,
     "end_time": "2024-04-14T09:12:14.663189",
     "exception": false,
     "start_time": "2024-04-14T09:12:14.602137",
     "status": "completed"
    },
    "tags": []
   },
   "outputs": [],
   "source": [
    "# def generate(qgmodel: QGModel, answer: str, context: str) -> str:\n",
    "#     source_encoding = tokenizer(\n",
    "#         '{} {} {}'.format(answer, SEP_TOKEN, context),\n",
    "#         max_length=SOURCE_MAX_TOKEN_LEN,\n",
    "#         padding='max_length',\n",
    "#         truncation=True,\n",
    "#         return_attention_mask=True,\n",
    "#         add_special_tokens=True,\n",
    "#         return_tensors='pt'\n",
    "#     )\n",
    "\n",
    "#     generated_ids = qgmodel.model.generate(\n",
    "#         input_ids=source_encoding['input_ids'],\n",
    "#         attention_mask=source_encoding['attention_mask'],\n",
    "#         num_beams=1,\n",
    "#         max_length=TARGET_MAX_TOKEN_LEN,\n",
    "#         repetition_penalty=2.5,\n",
    "#         length_penalty=1.0,\n",
    "#         early_stopping=True,\n",
    "#         use_cache=True\n",
    "#     )\n",
    "\n",
    "#     preds = {\n",
    "#         tokenizer.decode(generated_id, skip_special_tokens=False, clean_up_tokenization_spaces=True)\n",
    "#         for generated_id in generated_ids\n",
    "#     }\n",
    "\n",
    "#     return ''.join(preds)"
   ]
  },
  {
   "cell_type": "code",
   "execution_count": 32,
   "id": "5202c3b1",
   "metadata": {
    "execution": {
     "iopub.execute_input": "2024-04-14T09:12:14.766811Z",
     "iopub.status.busy": "2024-04-14T09:12:14.766152Z",
     "iopub.status.idle": "2024-04-14T09:12:14.770902Z",
     "shell.execute_reply": "2024-04-14T09:12:14.769897Z"
    },
    "id": "tu5dZ8m5LYiC",
    "papermill": {
     "duration": 0.059401,
     "end_time": "2024-04-14T09:12:14.773162",
     "exception": false,
     "start_time": "2024-04-14T09:12:14.713761",
     "status": "completed"
    },
    "tags": []
   },
   "outputs": [],
   "source": [
    "# def show_result(generated: str, answer: str, context:str, original_question: str = ''):\n",
    "#     print('Generated: ', generated)\n",
    "#     if original_question:\n",
    "#         print('Original : ', original_question)\n",
    "\n",
    "#     print()\n",
    "#     print('Answer: ', answer)\n",
    "#     print('Conext: ', context)\n",
    "#     print('-----------------------------')"
   ]
  },
  {
   "cell_type": "markdown",
   "id": "0e05cf73",
   "metadata": {
    "id": "oI1ptbdvLYiC",
    "papermill": {
     "duration": 0.050568,
     "end_time": "2024-04-14T09:12:14.874472",
     "exception": false,
     "start_time": "2024-04-14T09:12:14.823904",
     "status": "completed"
    },
    "tags": []
   },
   "source": [
    "### View results manually "
   ]
  },
  {
   "cell_type": "code",
   "execution_count": 33,
   "id": "712e2fe1",
   "metadata": {
    "execution": {
     "iopub.execute_input": "2024-04-14T09:12:14.976805Z",
     "iopub.status.busy": "2024-04-14T09:12:14.976442Z",
     "iopub.status.idle": "2024-04-14T09:12:14.980902Z",
     "shell.execute_reply": "2024-04-14T09:12:14.979907Z"
    },
    "id": "vSTp_V0hLYiC",
    "outputId": "c800942a-5d88-40e9-abe1-2a8ad97c8d0d",
    "papermill": {
     "duration": 0.057955,
     "end_time": "2024-04-14T09:12:14.983097",
     "exception": false,
     "start_time": "2024-04-14T09:12:14.925142",
     "status": "completed"
    },
    "tags": []
   },
   "outputs": [],
   "source": [
    "# sample_question = test_df.iloc[42]\n",
    "\n",
    "# generated = generate(best_model, sample_question['answer'], sample_question['context'])\n",
    "# show_result(generated, sample_question['answer'], sample_question['context'], sample_question['question'])"
   ]
  },
  {
   "cell_type": "code",
   "execution_count": 34,
   "id": "cb252ade",
   "metadata": {
    "execution": {
     "iopub.execute_input": "2024-04-14T09:12:15.078737Z",
     "iopub.status.busy": "2024-04-14T09:12:15.077988Z",
     "iopub.status.idle": "2024-04-14T09:12:15.082251Z",
     "shell.execute_reply": "2024-04-14T09:12:15.081307Z"
    },
    "id": "2Pa_0wsQLYiD",
    "outputId": "eed2b20e-e0f5-4bef-f1cb-eabd4160db97",
    "papermill": {
     "duration": 0.053378,
     "end_time": "2024-04-14T09:12:15.084288",
     "exception": false,
     "start_time": "2024-04-14T09:12:15.030910",
     "status": "completed"
    },
    "tags": []
   },
   "outputs": [],
   "source": [
    "# context = 'Oxygen is the chemical element with the symbol O and atomic number 8.'\n",
    "# answer = 'Oxygen'\n",
    "\n",
    "# generated = generate(best_model, answer, context)\n",
    "\n",
    "# show_result(generated, answer, context)"
   ]
  },
  {
   "cell_type": "code",
   "execution_count": 35,
   "id": "56ace63c",
   "metadata": {
    "execution": {
     "iopub.execute_input": "2024-04-14T09:12:15.184109Z",
     "iopub.status.busy": "2024-04-14T09:12:15.183741Z",
     "iopub.status.idle": "2024-04-14T09:12:15.188430Z",
     "shell.execute_reply": "2024-04-14T09:12:15.187460Z"
    },
    "id": "cvzBxXA3LYiE",
    "outputId": "4a68e388-46f6-45ed-c117-3d7789eeeb65",
    "papermill": {
     "duration": 0.05808,
     "end_time": "2024-04-14T09:12:15.190711",
     "exception": false,
     "start_time": "2024-04-14T09:12:15.132631",
     "status": "completed"
    },
    "tags": []
   },
   "outputs": [],
   "source": [
    "# context = 'Oxygen is the chemical element with the symbol O and atomic number 8.'\n",
    "# answer = 'Oxygen'\n",
    "# input_answer = '[MASK]'\n",
    "\n",
    "# generated = generate(best_model, input_answer, context)\n",
    "\n",
    "# show_result(generated, answer, context)"
   ]
  },
  {
   "cell_type": "markdown",
   "id": "d95c04ac",
   "metadata": {
    "id": "v9XbCIEEbH92",
    "papermill": {
     "duration": 0.049443,
     "end_time": "2024-04-14T09:12:15.290431",
     "exception": false,
     "start_time": "2024-04-14T09:12:15.240988",
     "status": "completed"
    },
    "tags": []
   },
   "source": [
    "#### Answer-aware question generation"
   ]
  },
  {
   "cell_type": "code",
   "execution_count": 36,
   "id": "598ab472",
   "metadata": {
    "execution": {
     "iopub.execute_input": "2024-04-14T09:12:15.393116Z",
     "iopub.status.busy": "2024-04-14T09:12:15.392679Z",
     "iopub.status.idle": "2024-04-14T09:12:15.397313Z",
     "shell.execute_reply": "2024-04-14T09:12:15.396351Z"
    },
    "id": "wAXkOIxLLYiE",
    "outputId": "fc0a6f87-dc17-48ea-a919-ba02c5318f65",
    "papermill": {
     "duration": 0.058241,
     "end_time": "2024-04-14T09:12:15.399369",
     "exception": false,
     "start_time": "2024-04-14T09:12:15.341128",
     "status": "completed"
    },
    "tags": []
   },
   "outputs": [],
   "source": [
    "# for i in range(len(test_df[:10])):\n",
    "#     context = test_df.iloc[i]['context']\n",
    "#     answer = test_df.iloc[i]['answer']\n",
    "    \n",
    "#     generated = generate(best_model, answer, context)\n",
    "    \n",
    "#     show_result(generated, answer, context, test_df.iloc[i]['question'])"
   ]
  },
  {
   "cell_type": "markdown",
   "id": "79978344",
   "metadata": {
    "id": "_XVz-Z_0bLY2",
    "papermill": {
     "duration": 0.049352,
     "end_time": "2024-04-14T09:12:15.498824",
     "exception": false,
     "start_time": "2024-04-14T09:12:15.449472",
     "status": "completed"
    },
    "tags": []
   },
   "source": [
    "#### Generating both answer and question"
   ]
  },
  {
   "cell_type": "code",
   "execution_count": 37,
   "id": "5bfca7ae",
   "metadata": {
    "execution": {
     "iopub.execute_input": "2024-04-14T09:12:15.598777Z",
     "iopub.status.busy": "2024-04-14T09:12:15.598095Z",
     "iopub.status.idle": "2024-04-14T09:12:15.602563Z",
     "shell.execute_reply": "2024-04-14T09:12:15.601658Z"
    },
    "id": "o6tpLqLmLYiE",
    "outputId": "5090bc7d-8bbb-4fae-8ceb-e32cd48548e5",
    "papermill": {
     "duration": 0.056219,
     "end_time": "2024-04-14T09:12:15.604646",
     "exception": false,
     "start_time": "2024-04-14T09:12:15.548427",
     "status": "completed"
    },
    "tags": []
   },
   "outputs": [],
   "source": [
    "# for i in range(len(test_df[:10])):\n",
    "#     context = test_df.iloc[i]['context']\n",
    "#     original_answer = test_df.iloc[i]['answer']\n",
    "#     input_answer = '[MASK]'\n",
    "    \n",
    "#     generated = generate(best_model, input_answer, context)\n",
    "    \n",
    "#     show_result(generated, original_answer, context, test_df.iloc[i]['question'])"
   ]
  },
  {
   "cell_type": "markdown",
   "id": "0b0dd21d",
   "metadata": {
    "id": "_FenZQuRzZfP",
    "papermill": {
     "duration": 0.046977,
     "end_time": "2024-04-14T09:12:15.699760",
     "exception": false,
     "start_time": "2024-04-14T09:12:15.652783",
     "status": "completed"
    },
    "tags": []
   },
   "source": [
    "# Loading model for evaluation "
   ]
  },
  {
   "cell_type": "code",
   "execution_count": 38,
   "id": "b9f91739",
   "metadata": {
    "execution": {
     "iopub.execute_input": "2024-04-14T09:12:15.794994Z",
     "iopub.status.busy": "2024-04-14T09:12:15.794260Z",
     "iopub.status.idle": "2024-04-14T09:12:15.798893Z",
     "shell.execute_reply": "2024-04-14T09:12:15.797912Z"
    },
    "id": "ao4yopQ22PGC",
    "outputId": "e3df5db6-2464-43dd-debd-2840d84dca4c",
    "papermill": {
     "duration": 0.054156,
     "end_time": "2024-04-14T09:12:15.800940",
     "exception": false,
     "start_time": "2024-04-14T09:12:15.746784",
     "status": "completed"
    },
    "tags": []
   },
   "outputs": [],
   "source": [
    "# MODEL_NAME = 't5-small'\n",
    "# SOURCE_MAX_TOKEN_LEN = 300\n",
    "# TARGET_MAX_TOKEN_LEN = 80\n",
    "# SEP_TOKEN = '<sep>'\n",
    "\n",
    "# tokenizer = T5Tokenizer.from_pretrained(MODEL_NAME)\n",
    "# tokenizer.add_tokens(SEP_TOKEN)\n",
    "# TOKENIZER_LEN = len(tokenizer)"
   ]
  },
  {
   "cell_type": "code",
   "execution_count": 39,
   "id": "56c40794",
   "metadata": {
    "execution": {
     "iopub.execute_input": "2024-04-14T09:12:15.903327Z",
     "iopub.status.busy": "2024-04-14T09:12:15.902634Z",
     "iopub.status.idle": "2024-04-14T09:12:15.908821Z",
     "shell.execute_reply": "2024-04-14T09:12:15.907713Z"
    },
    "id": "mnuMC61317jD",
    "papermill": {
     "duration": 0.060159,
     "end_time": "2024-04-14T09:12:15.911094",
     "exception": false,
     "start_time": "2024-04-14T09:12:15.850935",
     "status": "completed"
    },
    "tags": []
   },
   "outputs": [],
   "source": [
    "# class QGModel(pl.LightningModule):\n",
    "#     def __init__(self):\n",
    "#         super().__init__()\n",
    "#         self.model = T5ForConditionalGeneration.from_pretrained(MODEL_NAME, return_dict=True)\n",
    "#         self.model.resize_token_embeddings(TOKENIZER_LEN) #resizing after adding new tokens to the tokenizer\n",
    "\n",
    "#     def forward(self, input_ids, attention_mask, labels=None):\n",
    "#         output = self.model(input_ids=input_ids, attention_mask=attention_mask, labels=labels)\n",
    "#         return output.loss, output.logits\n",
    "\n",
    "#     def training_step(self, batch, batch_idx):\n",
    "#         input_ids = batch['input_ids']\n",
    "#         attention_mask = batch['attention_mask']\n",
    "#         labels = batch['labels']\n",
    "#         loss, output = self(input_ids, attention_mask, labels)\n",
    "#         self.log('train_loss', loss, prog_bar=True, logger=True)\n",
    "#         return loss\n",
    "\n",
    "#     def validation_step(self, batch, batch_idx):\n",
    "#         input_ids = batch['input_ids']\n",
    "#         attention_mask = batch['attention_mask']\n",
    "#         labels = batch['labels']\n",
    "#         loss, output = self(input_ids, attention_mask, labels)\n",
    "#         self.log('val_loss', loss, prog_bar=True, logger=True)\n",
    "#         return loss\n",
    "\n",
    "#     def test_step(self, batch, batch_idx):\n",
    "#         input_ids = batch['input_ids']\n",
    "#         attention_mask = batch['attention_mask']\n",
    "#         labels = batch['labels']\n",
    "#         loss, output = self(input_ids, attention_mask, labels)\n",
    "#         self.log('test_loss', loss, prog_bar=True, logger=True)\n",
    "#         return loss\n",
    "  \n",
    "#     def configure_optimizers(self):\n",
    "#         return AdamW(self.parameters(), lr=LEARNING_RATE)"
   ]
  },
  {
   "cell_type": "code",
   "execution_count": 40,
   "id": "cf557417",
   "metadata": {
    "execution": {
     "iopub.execute_input": "2024-04-14T09:12:16.014423Z",
     "iopub.status.busy": "2024-04-14T09:12:16.014038Z",
     "iopub.status.idle": "2024-04-14T09:12:16.018747Z",
     "shell.execute_reply": "2024-04-14T09:12:16.017793Z"
    },
    "id": "ejXJBjbI12fz",
    "outputId": "d6f1bd71-2aa3-4c3b-ddf9-e00440bdb925",
    "papermill": {
     "duration": 0.057972,
     "end_time": "2024-04-14T09:12:16.020848",
     "exception": false,
     "start_time": "2024-04-14T09:12:15.962876",
     "status": "completed"
    },
    "tags": []
   },
   "outputs": [],
   "source": [
    "# checkpoint_path = 'checkpoints/best-checkpoint-v9.ckpt'\n",
    "\n",
    "# best_model = QGModel.load_from_checkpoint(checkpoint_path)\n",
    "# best_model.freeze()\n",
    "# best_model.eval()\n",
    "\n",
    "# print()"
   ]
  },
  {
   "cell_type": "code",
   "execution_count": 41,
   "id": "73e46cf3",
   "metadata": {
    "execution": {
     "iopub.execute_input": "2024-04-14T09:12:16.121324Z",
     "iopub.status.busy": "2024-04-14T09:12:16.120955Z",
     "iopub.status.idle": "2024-04-14T09:12:16.126343Z",
     "shell.execute_reply": "2024-04-14T09:12:16.125232Z"
    },
    "id": "cSajqzcA2Hq7",
    "papermill": {
     "duration": 0.058523,
     "end_time": "2024-04-14T09:12:16.128524",
     "exception": false,
     "start_time": "2024-04-14T09:12:16.070001",
     "status": "completed"
    },
    "tags": []
   },
   "outputs": [],
   "source": [
    "# def generate(qgmodel: QGModel, answer: str, context: str) -> str:\n",
    "#     source_encoding = tokenizer(\n",
    "#         '{} {} {}'.format(answer, SEP_TOKEN, context),\n",
    "#         max_length=SOURCE_MAX_TOKEN_LEN,\n",
    "#         padding='max_length',\n",
    "#         truncation=True,\n",
    "#         return_attention_mask=True,\n",
    "#         add_special_tokens=True,\n",
    "#         return_tensors='pt'\n",
    "#     )\n",
    "\n",
    "#     generated_ids = qgmodel.model.generate(\n",
    "#         input_ids=source_encoding['input_ids'],\n",
    "#         attention_mask=source_encoding['attention_mask'],\n",
    "#         num_beams=1,\n",
    "#         max_length=TARGET_MAX_TOKEN_LEN,\n",
    "#         repetition_penalty=1.0,\n",
    "#         length_penalty=1.0,\n",
    "#         early_stopping=True,\n",
    "#         use_cache=True\n",
    "#     )\n",
    "\n",
    "#     preds = {\n",
    "#         tokenizer.decode(generated_id, skip_special_tokens=True, clean_up_tokenization_spaces=True)\n",
    "#         for generated_id in generated_ids\n",
    "#     }\n",
    "\n",
    "#     return ''.join(preds)"
   ]
  },
  {
   "cell_type": "code",
   "execution_count": 42,
   "id": "cf95b4af",
   "metadata": {
    "execution": {
     "iopub.execute_input": "2024-04-14T09:12:16.223110Z",
     "iopub.status.busy": "2024-04-14T09:12:16.222752Z",
     "iopub.status.idle": "2024-04-14T09:12:16.227351Z",
     "shell.execute_reply": "2024-04-14T09:12:16.226458Z"
    },
    "id": "4ACoXqvF2Ty_",
    "papermill": {
     "duration": 0.052923,
     "end_time": "2024-04-14T09:12:16.229168",
     "exception": false,
     "start_time": "2024-04-14T09:12:16.176245",
     "status": "completed"
    },
    "tags": []
   },
   "outputs": [],
   "source": [
    "# def show_result(generated: str, answer: str, context:str, original_question: str = ''):\n",
    "#     print('Generated: ', generated)\n",
    "#     if original_question:\n",
    "#         print('Original : ', original_question)\n",
    "\n",
    "#     print()\n",
    "#     print('Answer: ', answer)\n",
    "#     print('Conext: ', context)\n",
    "#     print('-----------------------------')"
   ]
  },
  {
   "cell_type": "code",
   "execution_count": 43,
   "id": "5c183226",
   "metadata": {
    "execution": {
     "iopub.execute_input": "2024-04-14T09:12:16.323524Z",
     "iopub.status.busy": "2024-04-14T09:12:16.323192Z",
     "iopub.status.idle": "2024-04-14T09:12:16.327578Z",
     "shell.execute_reply": "2024-04-14T09:12:16.326757Z"
    },
    "id": "TwicWmzi977N",
    "outputId": "5a22fc4b-57b8-436b-b4a5-314e5bbdcc27",
    "papermill": {
     "duration": 0.055503,
     "end_time": "2024-04-14T09:12:16.329582",
     "exception": false,
     "start_time": "2024-04-14T09:12:16.274079",
     "status": "completed"
    },
    "tags": []
   },
   "outputs": [],
   "source": [
    "# sample_question = test_df.iloc[42]\n",
    "\n",
    "# generated = generate(best_model, sample_question['answer'], sample_question['context'])\n",
    "# show_result(generated, sample_question['answer'], sample_question['context'], sample_question['question'])"
   ]
  }
 ],
 "metadata": {
  "accelerator": "GPU",
  "colab": {
   "collapsed_sections": [],
   "name": "SQuAD-Multitask-QuestionAnswer-Generation",
   "provenance": [],
   "toc_visible": true
  },
  "kaggle": {
   "accelerator": "nvidiaTeslaT4",
   "dataSources": [
    {
     "datasetId": 66961,
     "sourceId": 132310,
     "sourceType": "datasetVersion"
    }
   ],
   "dockerImageVersionId": 30683,
   "isGpuEnabled": true,
   "isInternetEnabled": true,
   "language": "python",
   "sourceType": "notebook"
  },
  "kernelspec": {
   "display_name": "Python 3",
   "language": "python",
   "name": "python3"
  },
  "language_info": {
   "codemirror_mode": {
    "name": "ipython",
    "version": 3
   },
   "file_extension": ".py",
   "mimetype": "text/x-python",
   "name": "python",
   "nbconvert_exporter": "python",
   "pygments_lexer": "ipython3",
   "version": "3.10.13"
  },
  "papermill": {
   "default_parameters": {},
   "duration": 11210.551753,
   "end_time": "2024-04-14T09:12:19.229675",
   "environment_variables": {},
   "exception": null,
   "input_path": "__notebook__.ipynb",
   "output_path": "__notebook__.ipynb",
   "parameters": {},
   "start_time": "2024-04-14T06:05:28.677922",
   "version": "2.5.0"
  },
  "widgets": {
   "application/vnd.jupyter.widget-state+json": {
    "state": {
     "0045554d61a049c18baaecf04173f57b": {
      "model_module": "@jupyter-widgets/controls",
      "model_module_version": "1.5.0",
      "model_name": "HTMLModel",
      "state": {
       "_dom_classes": [],
       "_model_module": "@jupyter-widgets/controls",
       "_model_module_version": "1.5.0",
       "_model_name": "HTMLModel",
       "_view_count": null,
       "_view_module": "@jupyter-widgets/controls",
       "_view_module_version": "1.5.0",
       "_view_name": "HTMLView",
       "description": "",
       "description_tooltip": null,
       "layout": "IPY_MODEL_705524c9e08545b7820494091934c881",
       "placeholder": "​",
       "style": "IPY_MODEL_6e3b5f4ac3d84ffc8146b2dbd5912d71",
       "value": " 2.32k/2.32k [00:00&lt;00:00, 184kB/s]"
      }
     },
     "019952c827cd41a9ad354198a553bd80": {
      "model_module": "@jupyter-widgets/controls",
      "model_module_version": "1.5.0",
      "model_name": "FloatProgressModel",
      "state": {
       "_dom_classes": [],
       "_model_module": "@jupyter-widgets/controls",
       "_model_module_version": "1.5.0",
       "_model_name": "FloatProgressModel",
       "_view_count": null,
       "_view_module": "@jupyter-widgets/controls",
       "_view_module_version": "1.5.0",
       "_view_name": "ProgressView",
       "bar_style": "success",
       "description": "",
       "description_tooltip": null,
       "layout": "IPY_MODEL_6ffd66a02919455f85b395430e7826ef",
       "max": 4684.0,
       "min": 0.0,
       "orientation": "horizontal",
       "style": "IPY_MODEL_d9a0e174d70f45ffb384bc06a6033d77",
       "value": 4684.0
      }
     },
     "03bcc13f94c745599d82640e3e041069": {
      "model_module": "@jupyter-widgets/base",
      "model_module_version": "1.2.0",
      "model_name": "LayoutModel",
      "state": {
       "_model_module": "@jupyter-widgets/base",
       "_model_module_version": "1.2.0",
       "_model_name": "LayoutModel",
       "_view_count": null,
       "_view_module": "@jupyter-widgets/base",
       "_view_module_version": "1.2.0",
       "_view_name": "LayoutView",
       "align_content": null,
       "align_items": null,
       "align_self": null,
       "border": null,
       "bottom": null,
       "display": null,
       "flex": null,
       "flex_flow": null,
       "grid_area": null,
       "grid_auto_columns": null,
       "grid_auto_flow": null,
       "grid_auto_rows": null,
       "grid_column": null,
       "grid_gap": null,
       "grid_row": null,
       "grid_template_areas": null,
       "grid_template_columns": null,
       "grid_template_rows": null,
       "height": null,
       "justify_content": null,
       "justify_items": null,
       "left": null,
       "margin": null,
       "max_height": null,
       "max_width": null,
       "min_height": null,
       "min_width": null,
       "object_fit": null,
       "object_position": null,
       "order": null,
       "overflow": null,
       "overflow_x": null,
       "overflow_y": null,
       "padding": null,
       "right": null,
       "top": null,
       "visibility": null,
       "width": null
      }
     },
     "075b776f139c4db38295ec735447ad36": {
      "model_module": "@jupyter-widgets/controls",
      "model_module_version": "1.5.0",
      "model_name": "DescriptionStyleModel",
      "state": {
       "_model_module": "@jupyter-widgets/controls",
       "_model_module_version": "1.5.0",
       "_model_name": "DescriptionStyleModel",
       "_view_count": null,
       "_view_module": "@jupyter-widgets/base",
       "_view_module_version": "1.2.0",
       "_view_name": "StyleView",
       "description_width": ""
      }
     },
     "0760f62946ed4bf2aff7af8bd84cd3d3": {
      "model_module": "@jupyter-widgets/base",
      "model_module_version": "1.2.0",
      "model_name": "LayoutModel",
      "state": {
       "_model_module": "@jupyter-widgets/base",
       "_model_module_version": "1.2.0",
       "_model_name": "LayoutModel",
       "_view_count": null,
       "_view_module": "@jupyter-widgets/base",
       "_view_module_version": "1.2.0",
       "_view_name": "LayoutView",
       "align_content": null,
       "align_items": null,
       "align_self": null,
       "border": null,
       "bottom": null,
       "display": null,
       "flex": "2",
       "flex_flow": null,
       "grid_area": null,
       "grid_auto_columns": null,
       "grid_auto_flow": null,
       "grid_auto_rows": null,
       "grid_column": null,
       "grid_gap": null,
       "grid_row": null,
       "grid_template_areas": null,
       "grid_template_columns": null,
       "grid_template_rows": null,
       "height": null,
       "justify_content": null,
       "justify_items": null,
       "left": null,
       "margin": null,
       "max_height": null,
       "max_width": null,
       "min_height": null,
       "min_width": null,
       "object_fit": null,
       "object_position": null,
       "order": null,
       "overflow": null,
       "overflow_x": null,
       "overflow_y": null,
       "padding": null,
       "right": null,
       "top": null,
       "visibility": null,
       "width": null
      }
     },
     "07a2b9a7074b41a18e88e943bb488aae": {
      "model_module": "@jupyter-widgets/base",
      "model_module_version": "1.2.0",
      "model_name": "LayoutModel",
      "state": {
       "_model_module": "@jupyter-widgets/base",
       "_model_module_version": "1.2.0",
       "_model_name": "LayoutModel",
       "_view_count": null,
       "_view_module": "@jupyter-widgets/base",
       "_view_module_version": "1.2.0",
       "_view_name": "LayoutView",
       "align_content": null,
       "align_items": null,
       "align_self": null,
       "border": null,
       "bottom": null,
       "display": "inline-flex",
       "flex": null,
       "flex_flow": "row wrap",
       "grid_area": null,
       "grid_auto_columns": null,
       "grid_auto_flow": null,
       "grid_auto_rows": null,
       "grid_column": null,
       "grid_gap": null,
       "grid_row": null,
       "grid_template_areas": null,
       "grid_template_columns": null,
       "grid_template_rows": null,
       "height": null,
       "justify_content": null,
       "justify_items": null,
       "left": null,
       "margin": null,
       "max_height": null,
       "max_width": null,
       "min_height": null,
       "min_width": null,
       "object_fit": null,
       "object_position": null,
       "order": null,
       "overflow": null,
       "overflow_x": null,
       "overflow_y": null,
       "padding": null,
       "right": null,
       "top": null,
       "visibility": "hidden",
       "width": "100%"
      }
     },
     "087c5c85954649fbb02593cb23269daf": {
      "model_module": "@jupyter-widgets/controls",
      "model_module_version": "1.5.0",
      "model_name": "ProgressStyleModel",
      "state": {
       "_model_module": "@jupyter-widgets/controls",
       "_model_module_version": "1.5.0",
       "_model_name": "ProgressStyleModel",
       "_view_count": null,
       "_view_module": "@jupyter-widgets/base",
       "_view_module_version": "1.2.0",
       "_view_name": "StyleView",
       "bar_color": null,
       "description_width": ""
      }
     },
     "08d68f8dafb3447eb3c8c2e3696ecd4f": {
      "model_module": "@jupyter-widgets/controls",
      "model_module_version": "1.5.0",
      "model_name": "DescriptionStyleModel",
      "state": {
       "_model_module": "@jupyter-widgets/controls",
       "_model_module_version": "1.5.0",
       "_model_name": "DescriptionStyleModel",
       "_view_count": null,
       "_view_module": "@jupyter-widgets/base",
       "_view_module_version": "1.2.0",
       "_view_name": "StyleView",
       "description_width": ""
      }
     },
     "0a31dd285fa94dd4a632e1584a8b6060": {
      "model_module": "@jupyter-widgets/controls",
      "model_module_version": "1.5.0",
      "model_name": "DescriptionStyleModel",
      "state": {
       "_model_module": "@jupyter-widgets/controls",
       "_model_module_version": "1.5.0",
       "_model_name": "DescriptionStyleModel",
       "_view_count": null,
       "_view_module": "@jupyter-widgets/base",
       "_view_module_version": "1.2.0",
       "_view_name": "StyleView",
       "description_width": ""
      }
     },
     "0c2410ab30be47b580895062f6c89c0c": {
      "model_module": "@jupyter-widgets/controls",
      "model_module_version": "1.5.0",
      "model_name": "HTMLModel",
      "state": {
       "_dom_classes": [],
       "_model_module": "@jupyter-widgets/controls",
       "_model_module_version": "1.5.0",
       "_model_name": "HTMLModel",
       "_view_count": null,
       "_view_module": "@jupyter-widgets/controls",
       "_view_module_version": "1.5.0",
       "_view_name": "HTMLView",
       "description": "",
       "description_tooltip": null,
       "layout": "IPY_MODEL_fd032d22518341fe98fe266ece3c7a9b",
       "placeholder": "​",
       "style": "IPY_MODEL_bbdd1a9b02974ff387e61f39bfe73b22",
       "value": "Validation DataLoader 0: 100%"
      }
     },
     "0d7014d636b34950a706ca005d613317": {
      "model_module": "@jupyter-widgets/controls",
      "model_module_version": "1.5.0",
      "model_name": "DescriptionStyleModel",
      "state": {
       "_model_module": "@jupyter-widgets/controls",
       "_model_module_version": "1.5.0",
       "_model_name": "DescriptionStyleModel",
       "_view_count": null,
       "_view_module": "@jupyter-widgets/base",
       "_view_module_version": "1.2.0",
       "_view_name": "StyleView",
       "description_width": ""
      }
     },
     "13d035f0dae140e7ad1c4521934acb9b": {
      "model_module": "@jupyter-widgets/base",
      "model_module_version": "1.2.0",
      "model_name": "LayoutModel",
      "state": {
       "_model_module": "@jupyter-widgets/base",
       "_model_module_version": "1.2.0",
       "_model_name": "LayoutModel",
       "_view_count": null,
       "_view_module": "@jupyter-widgets/base",
       "_view_module_version": "1.2.0",
       "_view_name": "LayoutView",
       "align_content": null,
       "align_items": null,
       "align_self": null,
       "border": null,
       "bottom": null,
       "display": null,
       "flex": null,
       "flex_flow": null,
       "grid_area": null,
       "grid_auto_columns": null,
       "grid_auto_flow": null,
       "grid_auto_rows": null,
       "grid_column": null,
       "grid_gap": null,
       "grid_row": null,
       "grid_template_areas": null,
       "grid_template_columns": null,
       "grid_template_rows": null,
       "height": null,
       "justify_content": null,
       "justify_items": null,
       "left": null,
       "margin": null,
       "max_height": null,
       "max_width": null,
       "min_height": null,
       "min_width": null,
       "object_fit": null,
       "object_position": null,
       "order": null,
       "overflow": null,
       "overflow_x": null,
       "overflow_y": null,
       "padding": null,
       "right": null,
       "top": null,
       "visibility": null,
       "width": null
      }
     },
     "13ea05e81f204e648d5116dc56e0d2b7": {
      "model_module": "@jupyter-widgets/controls",
      "model_module_version": "1.5.0",
      "model_name": "DescriptionStyleModel",
      "state": {
       "_model_module": "@jupyter-widgets/controls",
       "_model_module_version": "1.5.0",
       "_model_name": "DescriptionStyleModel",
       "_view_count": null,
       "_view_module": "@jupyter-widgets/base",
       "_view_module_version": "1.2.0",
       "_view_name": "StyleView",
       "description_width": ""
      }
     },
     "16961a240bd14c5bb6f8db9776cf0380": {
      "model_module": "@jupyter-widgets/base",
      "model_module_version": "1.2.0",
      "model_name": "LayoutModel",
      "state": {
       "_model_module": "@jupyter-widgets/base",
       "_model_module_version": "1.2.0",
       "_model_name": "LayoutModel",
       "_view_count": null,
       "_view_module": "@jupyter-widgets/base",
       "_view_module_version": "1.2.0",
       "_view_name": "LayoutView",
       "align_content": null,
       "align_items": null,
       "align_self": null,
       "border": null,
       "bottom": null,
       "display": null,
       "flex": null,
       "flex_flow": null,
       "grid_area": null,
       "grid_auto_columns": null,
       "grid_auto_flow": null,
       "grid_auto_rows": null,
       "grid_column": null,
       "grid_gap": null,
       "grid_row": null,
       "grid_template_areas": null,
       "grid_template_columns": null,
       "grid_template_rows": null,
       "height": null,
       "justify_content": null,
       "justify_items": null,
       "left": null,
       "margin": null,
       "max_height": null,
       "max_width": null,
       "min_height": null,
       "min_width": null,
       "object_fit": null,
       "object_position": null,
       "order": null,
       "overflow": null,
       "overflow_x": null,
       "overflow_y": null,
       "padding": null,
       "right": null,
       "top": null,
       "visibility": null,
       "width": null
      }
     },
     "1788fb8f5bc84bc7a639e7864f2d4376": {
      "model_module": "@jupyter-widgets/base",
      "model_module_version": "1.2.0",
      "model_name": "LayoutModel",
      "state": {
       "_model_module": "@jupyter-widgets/base",
       "_model_module_version": "1.2.0",
       "_model_name": "LayoutModel",
       "_view_count": null,
       "_view_module": "@jupyter-widgets/base",
       "_view_module_version": "1.2.0",
       "_view_name": "LayoutView",
       "align_content": null,
       "align_items": null,
       "align_self": null,
       "border": null,
       "bottom": null,
       "display": null,
       "flex": null,
       "flex_flow": null,
       "grid_area": null,
       "grid_auto_columns": null,
       "grid_auto_flow": null,
       "grid_auto_rows": null,
       "grid_column": null,
       "grid_gap": null,
       "grid_row": null,
       "grid_template_areas": null,
       "grid_template_columns": null,
       "grid_template_rows": null,
       "height": null,
       "justify_content": null,
       "justify_items": null,
       "left": null,
       "margin": null,
       "max_height": null,
       "max_width": null,
       "min_height": null,
       "min_width": null,
       "object_fit": null,
       "object_position": null,
       "order": null,
       "overflow": null,
       "overflow_x": null,
       "overflow_y": null,
       "padding": null,
       "right": null,
       "top": null,
       "visibility": null,
       "width": null
      }
     },
     "17d133eb78e148759b8782748e2f5b3d": {
      "model_module": "@jupyter-widgets/controls",
      "model_module_version": "1.5.0",
      "model_name": "HTMLModel",
      "state": {
       "_dom_classes": [],
       "_model_module": "@jupyter-widgets/controls",
       "_model_module_version": "1.5.0",
       "_model_name": "HTMLModel",
       "_view_count": null,
       "_view_module": "@jupyter-widgets/controls",
       "_view_module_version": "1.5.0",
       "_view_name": "HTMLView",
       "description": "",
       "description_tooltip": null,
       "layout": "IPY_MODEL_bcdc836c8c5342a08b7c4d9633fa8ecb",
       "placeholder": "​",
       "style": "IPY_MODEL_782ca0624d5142048e07e7fc238ff971",
       "value": "tokenizer_config.json: 100%"
      }
     },
     "17d7e7a8fbff45d7a910c38d027fcce3": {
      "model_module": "@jupyter-widgets/controls",
      "model_module_version": "1.5.0",
      "model_name": "FloatProgressModel",
      "state": {
       "_dom_classes": [],
       "_model_module": "@jupyter-widgets/controls",
       "_model_module_version": "1.5.0",
       "_model_name": "FloatProgressModel",
       "_view_count": null,
       "_view_module": "@jupyter-widgets/controls",
       "_view_module_version": "1.5.0",
       "_view_name": "ProgressView",
       "bar_style": "success",
       "description": "",
       "description_tooltip": null,
       "layout": "IPY_MODEL_1cd3298c4a4148a8bacdab53df348207",
       "max": 1206.0,
       "min": 0.0,
       "orientation": "horizontal",
       "style": "IPY_MODEL_6b2419a14ab64a3ba5a8ef96180e7ddf",
       "value": 1206.0
      }
     },
     "1c28c9bcb0394f09903ca5d7ba48dac3": {
      "model_module": "@jupyter-widgets/controls",
      "model_module_version": "1.5.0",
      "model_name": "DescriptionStyleModel",
      "state": {
       "_model_module": "@jupyter-widgets/controls",
       "_model_module_version": "1.5.0",
       "_model_name": "DescriptionStyleModel",
       "_view_count": null,
       "_view_module": "@jupyter-widgets/base",
       "_view_module_version": "1.2.0",
       "_view_name": "StyleView",
       "description_width": ""
      }
     },
     "1cd3298c4a4148a8bacdab53df348207": {
      "model_module": "@jupyter-widgets/base",
      "model_module_version": "1.2.0",
      "model_name": "LayoutModel",
      "state": {
       "_model_module": "@jupyter-widgets/base",
       "_model_module_version": "1.2.0",
       "_model_name": "LayoutModel",
       "_view_count": null,
       "_view_module": "@jupyter-widgets/base",
       "_view_module_version": "1.2.0",
       "_view_name": "LayoutView",
       "align_content": null,
       "align_items": null,
       "align_self": null,
       "border": null,
       "bottom": null,
       "display": null,
       "flex": null,
       "flex_flow": null,
       "grid_area": null,
       "grid_auto_columns": null,
       "grid_auto_flow": null,
       "grid_auto_rows": null,
       "grid_column": null,
       "grid_gap": null,
       "grid_row": null,
       "grid_template_areas": null,
       "grid_template_columns": null,
       "grid_template_rows": null,
       "height": null,
       "justify_content": null,
       "justify_items": null,
       "left": null,
       "margin": null,
       "max_height": null,
       "max_width": null,
       "min_height": null,
       "min_width": null,
       "object_fit": null,
       "object_position": null,
       "order": null,
       "overflow": null,
       "overflow_x": null,
       "overflow_y": null,
       "padding": null,
       "right": null,
       "top": null,
       "visibility": null,
       "width": null
      }
     },
     "1f477bfde8764e2fa5dc40a20db8a1ab": {
      "model_module": "@jupyter-widgets/base",
      "model_module_version": "1.2.0",
      "model_name": "LayoutModel",
      "state": {
       "_model_module": "@jupyter-widgets/base",
       "_model_module_version": "1.2.0",
       "_model_name": "LayoutModel",
       "_view_count": null,
       "_view_module": "@jupyter-widgets/base",
       "_view_module_version": "1.2.0",
       "_view_name": "LayoutView",
       "align_content": null,
       "align_items": null,
       "align_self": null,
       "border": null,
       "bottom": null,
       "display": null,
       "flex": null,
       "flex_flow": null,
       "grid_area": null,
       "grid_auto_columns": null,
       "grid_auto_flow": null,
       "grid_auto_rows": null,
       "grid_column": null,
       "grid_gap": null,
       "grid_row": null,
       "grid_template_areas": null,
       "grid_template_columns": null,
       "grid_template_rows": null,
       "height": null,
       "justify_content": null,
       "justify_items": null,
       "left": null,
       "margin": null,
       "max_height": null,
       "max_width": null,
       "min_height": null,
       "min_width": null,
       "object_fit": null,
       "object_position": null,
       "order": null,
       "overflow": null,
       "overflow_x": null,
       "overflow_y": null,
       "padding": null,
       "right": null,
       "top": null,
       "visibility": null,
       "width": null
      }
     },
     "1fcad76753df47cea34349b261d74ef5": {
      "model_module": "@jupyter-widgets/base",
      "model_module_version": "1.2.0",
      "model_name": "LayoutModel",
      "state": {
       "_model_module": "@jupyter-widgets/base",
       "_model_module_version": "1.2.0",
       "_model_name": "LayoutModel",
       "_view_count": null,
       "_view_module": "@jupyter-widgets/base",
       "_view_module_version": "1.2.0",
       "_view_name": "LayoutView",
       "align_content": null,
       "align_items": null,
       "align_self": null,
       "border": null,
       "bottom": null,
       "display": "inline-flex",
       "flex": null,
       "flex_flow": "row wrap",
       "grid_area": null,
       "grid_auto_columns": null,
       "grid_auto_flow": null,
       "grid_auto_rows": null,
       "grid_column": null,
       "grid_gap": null,
       "grid_row": null,
       "grid_template_areas": null,
       "grid_template_columns": null,
       "grid_template_rows": null,
       "height": null,
       "justify_content": null,
       "justify_items": null,
       "left": null,
       "margin": null,
       "max_height": null,
       "max_width": null,
       "min_height": null,
       "min_width": null,
       "object_fit": null,
       "object_position": null,
       "order": null,
       "overflow": null,
       "overflow_x": null,
       "overflow_y": null,
       "padding": null,
       "right": null,
       "top": null,
       "visibility": "hidden",
       "width": "100%"
      }
     },
     "208d5c7ab9464efa81caf3b9a8599667": {
      "model_module": "@jupyter-widgets/controls",
      "model_module_version": "1.5.0",
      "model_name": "DescriptionStyleModel",
      "state": {
       "_model_module": "@jupyter-widgets/controls",
       "_model_module_version": "1.5.0",
       "_model_name": "DescriptionStyleModel",
       "_view_count": null,
       "_view_module": "@jupyter-widgets/base",
       "_view_module_version": "1.2.0",
       "_view_name": "StyleView",
       "description_width": ""
      }
     },
     "20dd838a07894a4790f3542196972b33": {
      "model_module": "@jupyter-widgets/controls",
      "model_module_version": "1.5.0",
      "model_name": "HTMLModel",
      "state": {
       "_dom_classes": [],
       "_model_module": "@jupyter-widgets/controls",
       "_model_module_version": "1.5.0",
       "_model_name": "HTMLModel",
       "_view_count": null,
       "_view_module": "@jupyter-widgets/controls",
       "_view_module_version": "1.5.0",
       "_view_name": "HTMLView",
       "description": "",
       "description_tooltip": null,
       "layout": "IPY_MODEL_3d50b272101e4730b9de7a9760734979",
       "placeholder": "​",
       "style": "IPY_MODEL_e6d074eaabcd4007a706450e222a3ea2",
       "value": " 20302/20302 [07:32&lt;00:00, 44.83it/s]"
      }
     },
     "221f6440e00a43fe849c4b02cc6cb88e": {
      "model_module": "@jupyter-widgets/controls",
      "model_module_version": "1.5.0",
      "model_name": "ProgressStyleModel",
      "state": {
       "_model_module": "@jupyter-widgets/controls",
       "_model_module_version": "1.5.0",
       "_model_name": "ProgressStyleModel",
       "_view_count": null,
       "_view_module": "@jupyter-widgets/base",
       "_view_module_version": "1.2.0",
       "_view_name": "StyleView",
       "bar_color": null,
       "description_width": ""
      }
     },
     "2311e4224b954553a8b58cd25437b24f": {
      "model_module": "@jupyter-widgets/base",
      "model_module_version": "1.2.0",
      "model_name": "LayoutModel",
      "state": {
       "_model_module": "@jupyter-widgets/base",
       "_model_module_version": "1.2.0",
       "_model_name": "LayoutModel",
       "_view_count": null,
       "_view_module": "@jupyter-widgets/base",
       "_view_module_version": "1.2.0",
       "_view_name": "LayoutView",
       "align_content": null,
       "align_items": null,
       "align_self": null,
       "border": null,
       "bottom": null,
       "display": null,
       "flex": null,
       "flex_flow": null,
       "grid_area": null,
       "grid_auto_columns": null,
       "grid_auto_flow": null,
       "grid_auto_rows": null,
       "grid_column": null,
       "grid_gap": null,
       "grid_row": null,
       "grid_template_areas": null,
       "grid_template_columns": null,
       "grid_template_rows": null,
       "height": null,
       "justify_content": null,
       "justify_items": null,
       "left": null,
       "margin": null,
       "max_height": null,
       "max_width": null,
       "min_height": null,
       "min_width": null,
       "object_fit": null,
       "object_position": null,
       "order": null,
       "overflow": null,
       "overflow_x": null,
       "overflow_y": null,
       "padding": null,
       "right": null,
       "top": null,
       "visibility": null,
       "width": null
      }
     },
     "235ae781176d407baa035c9b009ae579": {
      "model_module": "@jupyter-widgets/controls",
      "model_module_version": "1.5.0",
      "model_name": "HBoxModel",
      "state": {
       "_dom_classes": [],
       "_model_module": "@jupyter-widgets/controls",
       "_model_module_version": "1.5.0",
       "_model_name": "HBoxModel",
       "_view_count": null,
       "_view_module": "@jupyter-widgets/controls",
       "_view_module_version": "1.5.0",
       "_view_name": "HBoxView",
       "box_style": "",
       "children": [
        "IPY_MODEL_72d5203d634d4056a9f8a0dfde9d2a3c",
        "IPY_MODEL_17d7e7a8fbff45d7a910c38d027fcce3",
        "IPY_MODEL_3aa7a35abe5d409191ccdabb7961c2b7"
       ],
       "layout": "IPY_MODEL_2311e4224b954553a8b58cd25437b24f"
      }
     },
     "26d3d692da7e4a6f8a4db2befaf04c6c": {
      "model_module": "@jupyter-widgets/controls",
      "model_module_version": "1.5.0",
      "model_name": "HBoxModel",
      "state": {
       "_dom_classes": [],
       "_model_module": "@jupyter-widgets/controls",
       "_model_module_version": "1.5.0",
       "_model_name": "HBoxModel",
       "_view_count": null,
       "_view_module": "@jupyter-widgets/controls",
       "_view_module_version": "1.5.0",
       "_view_name": "HBoxView",
       "box_style": "",
       "children": [
        "IPY_MODEL_93ae171e818d4cf8af4787ceaa016447",
        "IPY_MODEL_600d433dbdca4011bd5dc6e8c0f9bdf3",
        "IPY_MODEL_53cd1bdf9dac40b5880473ea8d492c2a"
       ],
       "layout": "IPY_MODEL_bbc49daff31642d89d77db09447744e9"
      }
     },
     "286cc1ca9f7049fb9ed8c4edb97003ae": {
      "model_module": "@jupyter-widgets/base",
      "model_module_version": "1.2.0",
      "model_name": "LayoutModel",
      "state": {
       "_model_module": "@jupyter-widgets/base",
       "_model_module_version": "1.2.0",
       "_model_name": "LayoutModel",
       "_view_count": null,
       "_view_module": "@jupyter-widgets/base",
       "_view_module_version": "1.2.0",
       "_view_name": "LayoutView",
       "align_content": null,
       "align_items": null,
       "align_self": null,
       "border": null,
       "bottom": null,
       "display": "inline-flex",
       "flex": null,
       "flex_flow": "row wrap",
       "grid_area": null,
       "grid_auto_columns": null,
       "grid_auto_flow": null,
       "grid_auto_rows": null,
       "grid_column": null,
       "grid_gap": null,
       "grid_row": null,
       "grid_template_areas": null,
       "grid_template_columns": null,
       "grid_template_rows": null,
       "height": null,
       "justify_content": null,
       "justify_items": null,
       "left": null,
       "margin": null,
       "max_height": null,
       "max_width": null,
       "min_height": null,
       "min_width": null,
       "object_fit": null,
       "object_position": null,
       "order": null,
       "overflow": null,
       "overflow_x": null,
       "overflow_y": null,
       "padding": null,
       "right": null,
       "top": null,
       "visibility": "hidden",
       "width": "100%"
      }
     },
     "294d426ea839495c8e2eaf05169e148c": {
      "model_module": "@jupyter-widgets/controls",
      "model_module_version": "1.5.0",
      "model_name": "DescriptionStyleModel",
      "state": {
       "_model_module": "@jupyter-widgets/controls",
       "_model_module_version": "1.5.0",
       "_model_name": "DescriptionStyleModel",
       "_view_count": null,
       "_view_module": "@jupyter-widgets/base",
       "_view_module_version": "1.2.0",
       "_view_name": "StyleView",
       "description_width": ""
      }
     },
     "2a7caa6cf89b4771a74e0a81a472de96": {
      "model_module": "@jupyter-widgets/base",
      "model_module_version": "1.2.0",
      "model_name": "LayoutModel",
      "state": {
       "_model_module": "@jupyter-widgets/base",
       "_model_module_version": "1.2.0",
       "_model_name": "LayoutModel",
       "_view_count": null,
       "_view_module": "@jupyter-widgets/base",
       "_view_module_version": "1.2.0",
       "_view_name": "LayoutView",
       "align_content": null,
       "align_items": null,
       "align_self": null,
       "border": null,
       "bottom": null,
       "display": null,
       "flex": null,
       "flex_flow": null,
       "grid_area": null,
       "grid_auto_columns": null,
       "grid_auto_flow": null,
       "grid_auto_rows": null,
       "grid_column": null,
       "grid_gap": null,
       "grid_row": null,
       "grid_template_areas": null,
       "grid_template_columns": null,
       "grid_template_rows": null,
       "height": null,
       "justify_content": null,
       "justify_items": null,
       "left": null,
       "margin": null,
       "max_height": null,
       "max_width": null,
       "min_height": null,
       "min_width": null,
       "object_fit": null,
       "object_position": null,
       "order": null,
       "overflow": null,
       "overflow_x": null,
       "overflow_y": null,
       "padding": null,
       "right": null,
       "top": null,
       "visibility": null,
       "width": null
      }
     },
     "2cef4d5b903d43f3a1fb681674cf7600": {
      "model_module": "@jupyter-widgets/controls",
      "model_module_version": "1.5.0",
      "model_name": "HBoxModel",
      "state": {
       "_dom_classes": [],
       "_model_module": "@jupyter-widgets/controls",
       "_model_module_version": "1.5.0",
       "_model_name": "HBoxModel",
       "_view_count": null,
       "_view_module": "@jupyter-widgets/controls",
       "_view_module_version": "1.5.0",
       "_view_name": "HBoxView",
       "box_style": "",
       "children": [
        "IPY_MODEL_a6253b72e9584415b99af51ff0ecd528",
        "IPY_MODEL_019952c827cd41a9ad354198a553bd80",
        "IPY_MODEL_b29838eea8644d808da175947a113368"
       ],
       "layout": "IPY_MODEL_68be475617e64501832fcefd88176f4e"
      }
     },
     "303e31135f404423b36fa678da9aac19": {
      "model_module": "@jupyter-widgets/controls",
      "model_module_version": "1.5.0",
      "model_name": "HBoxModel",
      "state": {
       "_dom_classes": [],
       "_model_module": "@jupyter-widgets/controls",
       "_model_module_version": "1.5.0",
       "_model_name": "HBoxModel",
       "_view_count": null,
       "_view_module": "@jupyter-widgets/controls",
       "_view_module_version": "1.5.0",
       "_view_name": "HBoxView",
       "box_style": "",
       "children": [
        "IPY_MODEL_8fd26173c6434995b0f9590d56645e5f",
        "IPY_MODEL_87d3cadb37994be29ea311bd14c9b7d2",
        "IPY_MODEL_50725889223f46caae0f4e7291d07e6d"
       ],
       "layout": "IPY_MODEL_4e9a6e3f81c842b48ab4dd467417e11b"
      }
     },
     "328a90249f0e43a2acb38cd2660a3175": {
      "model_module": "@jupyter-widgets/base",
      "model_module_version": "1.2.0",
      "model_name": "LayoutModel",
      "state": {
       "_model_module": "@jupyter-widgets/base",
       "_model_module_version": "1.2.0",
       "_model_name": "LayoutModel",
       "_view_count": null,
       "_view_module": "@jupyter-widgets/base",
       "_view_module_version": "1.2.0",
       "_view_name": "LayoutView",
       "align_content": null,
       "align_items": null,
       "align_self": null,
       "border": null,
       "bottom": null,
       "display": null,
       "flex": null,
       "flex_flow": null,
       "grid_area": null,
       "grid_auto_columns": null,
       "grid_auto_flow": null,
       "grid_auto_rows": null,
       "grid_column": null,
       "grid_gap": null,
       "grid_row": null,
       "grid_template_areas": null,
       "grid_template_columns": null,
       "grid_template_rows": null,
       "height": null,
       "justify_content": null,
       "justify_items": null,
       "left": null,
       "margin": null,
       "max_height": null,
       "max_width": null,
       "min_height": null,
       "min_width": null,
       "object_fit": null,
       "object_position": null,
       "order": null,
       "overflow": null,
       "overflow_x": null,
       "overflow_y": null,
       "padding": null,
       "right": null,
       "top": null,
       "visibility": null,
       "width": null
      }
     },
     "34b43cab8e234def8305c67ecc63af29": {
      "model_module": "@jupyter-widgets/controls",
      "model_module_version": "1.5.0",
      "model_name": "HBoxModel",
      "state": {
       "_dom_classes": [],
       "_model_module": "@jupyter-widgets/controls",
       "_model_module_version": "1.5.0",
       "_model_name": "HBoxModel",
       "_view_count": null,
       "_view_module": "@jupyter-widgets/controls",
       "_view_module_version": "1.5.0",
       "_view_name": "HBoxView",
       "box_style": "",
       "children": [
        "IPY_MODEL_fb7aadf7b8f645539774c90bf19f368c",
        "IPY_MODEL_d79cc2fe559f498db1a1b4162a2f406c",
        "IPY_MODEL_424a3d73f1ea4219a87c7bcb51972996"
       ],
       "layout": "IPY_MODEL_df78ee75a7114015bb4224295f612314"
      }
     },
     "3671a4cd8fc3463ca7a202f3de0f7f0e": {
      "model_module": "@jupyter-widgets/base",
      "model_module_version": "1.2.0",
      "model_name": "LayoutModel",
      "state": {
       "_model_module": "@jupyter-widgets/base",
       "_model_module_version": "1.2.0",
       "_model_name": "LayoutModel",
       "_view_count": null,
       "_view_module": "@jupyter-widgets/base",
       "_view_module_version": "1.2.0",
       "_view_name": "LayoutView",
       "align_content": null,
       "align_items": null,
       "align_self": null,
       "border": null,
       "bottom": null,
       "display": null,
       "flex": null,
       "flex_flow": null,
       "grid_area": null,
       "grid_auto_columns": null,
       "grid_auto_flow": null,
       "grid_auto_rows": null,
       "grid_column": null,
       "grid_gap": null,
       "grid_row": null,
       "grid_template_areas": null,
       "grid_template_columns": null,
       "grid_template_rows": null,
       "height": null,
       "justify_content": null,
       "justify_items": null,
       "left": null,
       "margin": null,
       "max_height": null,
       "max_width": null,
       "min_height": null,
       "min_width": null,
       "object_fit": null,
       "object_position": null,
       "order": null,
       "overflow": null,
       "overflow_x": null,
       "overflow_y": null,
       "padding": null,
       "right": null,
       "top": null,
       "visibility": null,
       "width": null
      }
     },
     "3aa7a35abe5d409191ccdabb7961c2b7": {
      "model_module": "@jupyter-widgets/controls",
      "model_module_version": "1.5.0",
      "model_name": "HTMLModel",
      "state": {
       "_dom_classes": [],
       "_model_module": "@jupyter-widgets/controls",
       "_model_module_version": "1.5.0",
       "_model_name": "HTMLModel",
       "_view_count": null,
       "_view_module": "@jupyter-widgets/controls",
       "_view_module_version": "1.5.0",
       "_view_name": "HTMLView",
       "description": "",
       "description_tooltip": null,
       "layout": "IPY_MODEL_5058b4efc4d744b3ae6994d6efefea3f",
       "placeholder": "​",
       "style": "IPY_MODEL_45ff9a7a84684f00b8c99aebbb567c1b",
       "value": " 1.21k/1.21k [00:00&lt;00:00, 96.6kB/s]"
      }
     },
     "3d50b272101e4730b9de7a9760734979": {
      "model_module": "@jupyter-widgets/base",
      "model_module_version": "1.2.0",
      "model_name": "LayoutModel",
      "state": {
       "_model_module": "@jupyter-widgets/base",
       "_model_module_version": "1.2.0",
       "_model_name": "LayoutModel",
       "_view_count": null,
       "_view_module": "@jupyter-widgets/base",
       "_view_module_version": "1.2.0",
       "_view_name": "LayoutView",
       "align_content": null,
       "align_items": null,
       "align_self": null,
       "border": null,
       "bottom": null,
       "display": null,
       "flex": null,
       "flex_flow": null,
       "grid_area": null,
       "grid_auto_columns": null,
       "grid_auto_flow": null,
       "grid_auto_rows": null,
       "grid_column": null,
       "grid_gap": null,
       "grid_row": null,
       "grid_template_areas": null,
       "grid_template_columns": null,
       "grid_template_rows": null,
       "height": null,
       "justify_content": null,
       "justify_items": null,
       "left": null,
       "margin": null,
       "max_height": null,
       "max_width": null,
       "min_height": null,
       "min_width": null,
       "object_fit": null,
       "object_position": null,
       "order": null,
       "overflow": null,
       "overflow_x": null,
       "overflow_y": null,
       "padding": null,
       "right": null,
       "top": null,
       "visibility": null,
       "width": null
      }
     },
     "3d9d6fadc21546229c7373b07c2009f6": {
      "model_module": "@jupyter-widgets/controls",
      "model_module_version": "1.5.0",
      "model_name": "DescriptionStyleModel",
      "state": {
       "_model_module": "@jupyter-widgets/controls",
       "_model_module_version": "1.5.0",
       "_model_name": "DescriptionStyleModel",
       "_view_count": null,
       "_view_module": "@jupyter-widgets/base",
       "_view_module_version": "1.2.0",
       "_view_name": "StyleView",
       "description_width": ""
      }
     },
     "407840d1b96746369e2c21f90c66db9a": {
      "model_module": "@jupyter-widgets/controls",
      "model_module_version": "1.5.0",
      "model_name": "HTMLModel",
      "state": {
       "_dom_classes": [],
       "_model_module": "@jupyter-widgets/controls",
       "_model_module_version": "1.5.0",
       "_model_name": "HTMLModel",
       "_view_count": null,
       "_view_module": "@jupyter-widgets/controls",
       "_view_module_version": "1.5.0",
       "_view_name": "HTMLView",
       "description": "",
       "description_tooltip": null,
       "layout": "IPY_MODEL_ccc9e54e83ac4bdd86ea6d26937b3bdd",
       "placeholder": "​",
       "style": "IPY_MODEL_0a31dd285fa94dd4a632e1584a8b6060",
       "value": " 20302/20302 [07:47&lt;00:00, 43.39it/s]"
      }
     },
     "40e23438fd604374b3243fd1514e80a7": {
      "model_module": "@jupyter-widgets/controls",
      "model_module_version": "1.5.0",
      "model_name": "HTMLModel",
      "state": {
       "_dom_classes": [],
       "_model_module": "@jupyter-widgets/controls",
       "_model_module_version": "1.5.0",
       "_model_name": "HTMLModel",
       "_view_count": null,
       "_view_module": "@jupyter-widgets/controls",
       "_view_module_version": "1.5.0",
       "_view_name": "HTMLView",
       "description": "",
       "description_tooltip": null,
       "layout": "IPY_MODEL_84a7bcce919c424f899749f46c20c8c0",
       "placeholder": "​",
       "style": "IPY_MODEL_294d426ea839495c8e2eaf05169e148c",
       "value": "generation_config.json: 100%"
      }
     },
     "41c515628225492c975748eaddff3410": {
      "model_module": "@jupyter-widgets/controls",
      "model_module_version": "1.5.0",
      "model_name": "FloatProgressModel",
      "state": {
       "_dom_classes": [],
       "_model_module": "@jupyter-widgets/controls",
       "_model_module_version": "1.5.0",
       "_model_name": "FloatProgressModel",
       "_view_count": null,
       "_view_module": "@jupyter-widgets/controls",
       "_view_module_version": "1.5.0",
       "_view_name": "ProgressView",
       "bar_style": "",
       "description": "",
       "description_tooltip": null,
       "layout": "IPY_MODEL_dbd62e9e0a994ad1a50c342f8aae29da",
       "max": 20302.0,
       "min": 0.0,
       "orientation": "horizontal",
       "style": "IPY_MODEL_4e1c05f2785141bf843fa99f0e1d1c95",
       "value": 20302.0
      }
     },
     "424a3d73f1ea4219a87c7bcb51972996": {
      "model_module": "@jupyter-widgets/controls",
      "model_module_version": "1.5.0",
      "model_name": "HTMLModel",
      "state": {
       "_dom_classes": [],
       "_model_module": "@jupyter-widgets/controls",
       "_model_module_version": "1.5.0",
       "_model_name": "HTMLModel",
       "_view_count": null,
       "_view_module": "@jupyter-widgets/controls",
       "_view_module_version": "1.5.0",
       "_view_name": "HTMLView",
       "description": "",
       "description_tooltip": null,
       "layout": "IPY_MODEL_7f159760886e4353946024027e564adc",
       "placeholder": "​",
       "style": "IPY_MODEL_7a494bf7b14f49459d76853e45791fa6",
       "value": " 242M/242M [00:01&lt;00:00, 205MB/s]"
      }
     },
     "45e02b1c9a5944e18463627ee778078c": {
      "model_module": "@jupyter-widgets/controls",
      "model_module_version": "1.5.0",
      "model_name": "ProgressStyleModel",
      "state": {
       "_model_module": "@jupyter-widgets/controls",
       "_model_module_version": "1.5.0",
       "_model_name": "ProgressStyleModel",
       "_view_count": null,
       "_view_module": "@jupyter-widgets/base",
       "_view_module_version": "1.2.0",
       "_view_name": "StyleView",
       "bar_color": null,
       "description_width": ""
      }
     },
     "45ff9a7a84684f00b8c99aebbb567c1b": {
      "model_module": "@jupyter-widgets/controls",
      "model_module_version": "1.5.0",
      "model_name": "DescriptionStyleModel",
      "state": {
       "_model_module": "@jupyter-widgets/controls",
       "_model_module_version": "1.5.0",
       "_model_name": "DescriptionStyleModel",
       "_view_count": null,
       "_view_module": "@jupyter-widgets/base",
       "_view_module_version": "1.2.0",
       "_view_name": "StyleView",
       "description_width": ""
      }
     },
     "4ad10c49def64b0b9e178407751676cb": {
      "model_module": "@jupyter-widgets/base",
      "model_module_version": "1.2.0",
      "model_name": "LayoutModel",
      "state": {
       "_model_module": "@jupyter-widgets/base",
       "_model_module_version": "1.2.0",
       "_model_name": "LayoutModel",
       "_view_count": null,
       "_view_module": "@jupyter-widgets/base",
       "_view_module_version": "1.2.0",
       "_view_name": "LayoutView",
       "align_content": null,
       "align_items": null,
       "align_self": null,
       "border": null,
       "bottom": null,
       "display": null,
       "flex": null,
       "flex_flow": null,
       "grid_area": null,
       "grid_auto_columns": null,
       "grid_auto_flow": null,
       "grid_auto_rows": null,
       "grid_column": null,
       "grid_gap": null,
       "grid_row": null,
       "grid_template_areas": null,
       "grid_template_columns": null,
       "grid_template_rows": null,
       "height": null,
       "justify_content": null,
       "justify_items": null,
       "left": null,
       "margin": null,
       "max_height": null,
       "max_width": null,
       "min_height": null,
       "min_width": null,
       "object_fit": null,
       "object_position": null,
       "order": null,
       "overflow": null,
       "overflow_x": null,
       "overflow_y": null,
       "padding": null,
       "right": null,
       "top": null,
       "visibility": null,
       "width": null
      }
     },
     "4d475ccab39d436fbe806202f81feaf1": {
      "model_module": "@jupyter-widgets/base",
      "model_module_version": "1.2.0",
      "model_name": "LayoutModel",
      "state": {
       "_model_module": "@jupyter-widgets/base",
       "_model_module_version": "1.2.0",
       "_model_name": "LayoutModel",
       "_view_count": null,
       "_view_module": "@jupyter-widgets/base",
       "_view_module_version": "1.2.0",
       "_view_name": "LayoutView",
       "align_content": null,
       "align_items": null,
       "align_self": null,
       "border": null,
       "bottom": null,
       "display": null,
       "flex": null,
       "flex_flow": null,
       "grid_area": null,
       "grid_auto_columns": null,
       "grid_auto_flow": null,
       "grid_auto_rows": null,
       "grid_column": null,
       "grid_gap": null,
       "grid_row": null,
       "grid_template_areas": null,
       "grid_template_columns": null,
       "grid_template_rows": null,
       "height": null,
       "justify_content": null,
       "justify_items": null,
       "left": null,
       "margin": null,
       "max_height": null,
       "max_width": null,
       "min_height": null,
       "min_width": null,
       "object_fit": null,
       "object_position": null,
       "order": null,
       "overflow": null,
       "overflow_x": null,
       "overflow_y": null,
       "padding": null,
       "right": null,
       "top": null,
       "visibility": null,
       "width": null
      }
     },
     "4d99e9c9674546ca96d6886712efbdb9": {
      "model_module": "@jupyter-widgets/controls",
      "model_module_version": "1.5.0",
      "model_name": "ProgressStyleModel",
      "state": {
       "_model_module": "@jupyter-widgets/controls",
       "_model_module_version": "1.5.0",
       "_model_name": "ProgressStyleModel",
       "_view_count": null,
       "_view_module": "@jupyter-widgets/base",
       "_view_module_version": "1.2.0",
       "_view_name": "StyleView",
       "bar_color": null,
       "description_width": ""
      }
     },
     "4e1c05f2785141bf843fa99f0e1d1c95": {
      "model_module": "@jupyter-widgets/controls",
      "model_module_version": "1.5.0",
      "model_name": "ProgressStyleModel",
      "state": {
       "_model_module": "@jupyter-widgets/controls",
       "_model_module_version": "1.5.0",
       "_model_name": "ProgressStyleModel",
       "_view_count": null,
       "_view_module": "@jupyter-widgets/base",
       "_view_module_version": "1.2.0",
       "_view_name": "StyleView",
       "bar_color": null,
       "description_width": ""
      }
     },
     "4e9a6e3f81c842b48ab4dd467417e11b": {
      "model_module": "@jupyter-widgets/base",
      "model_module_version": "1.2.0",
      "model_name": "LayoutModel",
      "state": {
       "_model_module": "@jupyter-widgets/base",
       "_model_module_version": "1.2.0",
       "_model_name": "LayoutModel",
       "_view_count": null,
       "_view_module": "@jupyter-widgets/base",
       "_view_module_version": "1.2.0",
       "_view_name": "LayoutView",
       "align_content": null,
       "align_items": null,
       "align_self": null,
       "border": null,
       "bottom": null,
       "display": "inline-flex",
       "flex": null,
       "flex_flow": "row wrap",
       "grid_area": null,
       "grid_auto_columns": null,
       "grid_auto_flow": null,
       "grid_auto_rows": null,
       "grid_column": null,
       "grid_gap": null,
       "grid_row": null,
       "grid_template_areas": null,
       "grid_template_columns": null,
       "grid_template_rows": null,
       "height": null,
       "justify_content": null,
       "justify_items": null,
       "left": null,
       "margin": null,
       "max_height": null,
       "max_width": null,
       "min_height": null,
       "min_width": null,
       "object_fit": null,
       "object_position": null,
       "order": null,
       "overflow": null,
       "overflow_x": null,
       "overflow_y": null,
       "padding": null,
       "right": null,
       "top": null,
       "visibility": "hidden",
       "width": "100%"
      }
     },
     "5058b4efc4d744b3ae6994d6efefea3f": {
      "model_module": "@jupyter-widgets/base",
      "model_module_version": "1.2.0",
      "model_name": "LayoutModel",
      "state": {
       "_model_module": "@jupyter-widgets/base",
       "_model_module_version": "1.2.0",
       "_model_name": "LayoutModel",
       "_view_count": null,
       "_view_module": "@jupyter-widgets/base",
       "_view_module_version": "1.2.0",
       "_view_name": "LayoutView",
       "align_content": null,
       "align_items": null,
       "align_self": null,
       "border": null,
       "bottom": null,
       "display": null,
       "flex": null,
       "flex_flow": null,
       "grid_area": null,
       "grid_auto_columns": null,
       "grid_auto_flow": null,
       "grid_auto_rows": null,
       "grid_column": null,
       "grid_gap": null,
       "grid_row": null,
       "grid_template_areas": null,
       "grid_template_columns": null,
       "grid_template_rows": null,
       "height": null,
       "justify_content": null,
       "justify_items": null,
       "left": null,
       "margin": null,
       "max_height": null,
       "max_width": null,
       "min_height": null,
       "min_width": null,
       "object_fit": null,
       "object_position": null,
       "order": null,
       "overflow": null,
       "overflow_x": null,
       "overflow_y": null,
       "padding": null,
       "right": null,
       "top": null,
       "visibility": null,
       "width": null
      }
     },
     "50725889223f46caae0f4e7291d07e6d": {
      "model_module": "@jupyter-widgets/controls",
      "model_module_version": "1.5.0",
      "model_name": "HTMLModel",
      "state": {
       "_dom_classes": [],
       "_model_module": "@jupyter-widgets/controls",
       "_model_module_version": "1.5.0",
       "_model_name": "HTMLModel",
       "_view_count": null,
       "_view_module": "@jupyter-widgets/controls",
       "_view_module_version": "1.5.0",
       "_view_name": "HTMLView",
       "description": "",
       "description_tooltip": null,
       "layout": "IPY_MODEL_03bcc13f94c745599d82640e3e041069",
       "placeholder": "​",
       "style": "IPY_MODEL_075b776f139c4db38295ec735447ad36",
       "value": " 2/2 [00:01&lt;00:00,  1.32it/s]"
      }
     },
     "50e86dc735e94125864fa5dea9b19743": {
      "model_module": "@jupyter-widgets/controls",
      "model_module_version": "1.5.0",
      "model_name": "FloatProgressModel",
      "state": {
       "_dom_classes": [],
       "_model_module": "@jupyter-widgets/controls",
       "_model_module_version": "1.5.0",
       "_model_name": "FloatProgressModel",
       "_view_count": null,
       "_view_module": "@jupyter-widgets/controls",
       "_view_module_version": "1.5.0",
       "_view_name": "ProgressView",
       "bar_style": "success",
       "description": "",
       "description_tooltip": null,
       "layout": "IPY_MODEL_e414d6cb0f9e416a8c80babab828ed6d",
       "max": 2324.0,
       "min": 0.0,
       "orientation": "horizontal",
       "style": "IPY_MODEL_c4641e5496f7439e9018e2783f93c6ef",
       "value": 2324.0
      }
     },
     "53cd1bdf9dac40b5880473ea8d492c2a": {
      "model_module": "@jupyter-widgets/controls",
      "model_module_version": "1.5.0",
      "model_name": "HTMLModel",
      "state": {
       "_dom_classes": [],
       "_model_module": "@jupyter-widgets/controls",
       "_model_module_version": "1.5.0",
       "_model_name": "HTMLModel",
       "_view_count": null,
       "_view_module": "@jupyter-widgets/controls",
       "_view_module_version": "1.5.0",
       "_view_name": "HTMLView",
       "description": "",
       "description_tooltip": null,
       "layout": "IPY_MODEL_4d475ccab39d436fbe806202f81feaf1",
       "placeholder": "​",
       "style": "IPY_MODEL_da60cbdc4ef148289db0f08d6c5193e0",
       "value": " 1.39M/1.39M [00:00&lt;00:00, 51.9MB/s]"
      }
     },
     "59c6617d58c64349836f0be0be0a328a": {
      "model_module": "@jupyter-widgets/controls",
      "model_module_version": "1.5.0",
      "model_name": "DescriptionStyleModel",
      "state": {
       "_model_module": "@jupyter-widgets/controls",
       "_model_module_version": "1.5.0",
       "_model_name": "DescriptionStyleModel",
       "_view_count": null,
       "_view_module": "@jupyter-widgets/base",
       "_view_module_version": "1.2.0",
       "_view_name": "StyleView",
       "description_width": ""
      }
     },
     "5f68698697fc43259b7c9bfa719ab6ef": {
      "model_module": "@jupyter-widgets/base",
      "model_module_version": "1.2.0",
      "model_name": "LayoutModel",
      "state": {
       "_model_module": "@jupyter-widgets/base",
       "_model_module_version": "1.2.0",
       "_model_name": "LayoutModel",
       "_view_count": null,
       "_view_module": "@jupyter-widgets/base",
       "_view_module_version": "1.2.0",
       "_view_name": "LayoutView",
       "align_content": null,
       "align_items": null,
       "align_self": null,
       "border": null,
       "bottom": null,
       "display": "inline-flex",
       "flex": null,
       "flex_flow": "row wrap",
       "grid_area": null,
       "grid_auto_columns": null,
       "grid_auto_flow": null,
       "grid_auto_rows": null,
       "grid_column": null,
       "grid_gap": null,
       "grid_row": null,
       "grid_template_areas": null,
       "grid_template_columns": null,
       "grid_template_rows": null,
       "height": null,
       "justify_content": null,
       "justify_items": null,
       "left": null,
       "margin": null,
       "max_height": null,
       "max_width": null,
       "min_height": null,
       "min_width": null,
       "object_fit": null,
       "object_position": null,
       "order": null,
       "overflow": null,
       "overflow_x": null,
       "overflow_y": null,
       "padding": null,
       "right": null,
       "top": null,
       "visibility": "hidden",
       "width": "100%"
      }
     },
     "600d433dbdca4011bd5dc6e8c0f9bdf3": {
      "model_module": "@jupyter-widgets/controls",
      "model_module_version": "1.5.0",
      "model_name": "FloatProgressModel",
      "state": {
       "_dom_classes": [],
       "_model_module": "@jupyter-widgets/controls",
       "_model_module_version": "1.5.0",
       "_model_name": "FloatProgressModel",
       "_view_count": null,
       "_view_module": "@jupyter-widgets/controls",
       "_view_module_version": "1.5.0",
       "_view_name": "ProgressView",
       "bar_style": "success",
       "description": "",
       "description_tooltip": null,
       "layout": "IPY_MODEL_16961a240bd14c5bb6f8db9776cf0380",
       "max": 1389353.0,
       "min": 0.0,
       "orientation": "horizontal",
       "style": "IPY_MODEL_4d99e9c9674546ca96d6886712efbdb9",
       "value": 1389353.0
      }
     },
     "653cfc2e2a45475f9b0600e16149b1e3": {
      "model_module": "@jupyter-widgets/controls",
      "model_module_version": "1.5.0",
      "model_name": "HTMLModel",
      "state": {
       "_dom_classes": [],
       "_model_module": "@jupyter-widgets/controls",
       "_model_module_version": "1.5.0",
       "_model_name": "HTMLModel",
       "_view_count": null,
       "_view_module": "@jupyter-widgets/controls",
       "_view_module_version": "1.5.0",
       "_view_name": "HTMLView",
       "description": "",
       "description_tooltip": null,
       "layout": "IPY_MODEL_328a90249f0e43a2acb38cd2660a3175",
       "placeholder": "​",
       "style": "IPY_MODEL_97df39ded7c8440c9effcd5a23a3d0f0",
       "value": "spiece.model: 100%"
      }
     },
     "684bd86e60094a15b113bf0dbe76bce0": {
      "model_module": "@jupyter-widgets/controls",
      "model_module_version": "1.5.0",
      "model_name": "HBoxModel",
      "state": {
       "_dom_classes": [],
       "_model_module": "@jupyter-widgets/controls",
       "_model_module_version": "1.5.0",
       "_model_name": "HBoxModel",
       "_view_count": null,
       "_view_module": "@jupyter-widgets/controls",
       "_view_module_version": "1.5.0",
       "_view_name": "HBoxView",
       "box_style": "",
       "children": [
        "IPY_MODEL_71f8a93ae686445fbec537eda48fe9ff",
        "IPY_MODEL_6cb2d18a03e144f7886c792857a630c4",
        "IPY_MODEL_88d63ab4968748d3930295499baf8b26"
       ],
       "layout": "IPY_MODEL_286cc1ca9f7049fb9ed8c4edb97003ae"
      }
     },
     "686b509f63604f06866390cc12bb801d": {
      "model_module": "@jupyter-widgets/controls",
      "model_module_version": "1.5.0",
      "model_name": "DescriptionStyleModel",
      "state": {
       "_model_module": "@jupyter-widgets/controls",
       "_model_module_version": "1.5.0",
       "_model_name": "DescriptionStyleModel",
       "_view_count": null,
       "_view_module": "@jupyter-widgets/base",
       "_view_module_version": "1.2.0",
       "_view_name": "StyleView",
       "description_width": ""
      }
     },
     "68be475617e64501832fcefd88176f4e": {
      "model_module": "@jupyter-widgets/base",
      "model_module_version": "1.2.0",
      "model_name": "LayoutModel",
      "state": {
       "_model_module": "@jupyter-widgets/base",
       "_model_module_version": "1.2.0",
       "_model_name": "LayoutModel",
       "_view_count": null,
       "_view_module": "@jupyter-widgets/base",
       "_view_module_version": "1.2.0",
       "_view_name": "LayoutView",
       "align_content": null,
       "align_items": null,
       "align_self": null,
       "border": null,
       "bottom": null,
       "display": "inline-flex",
       "flex": null,
       "flex_flow": "row wrap",
       "grid_area": null,
       "grid_auto_columns": null,
       "grid_auto_flow": null,
       "grid_auto_rows": null,
       "grid_column": null,
       "grid_gap": null,
       "grid_row": null,
       "grid_template_areas": null,
       "grid_template_columns": null,
       "grid_template_rows": null,
       "height": null,
       "justify_content": null,
       "justify_items": null,
       "left": null,
       "margin": null,
       "max_height": null,
       "max_width": null,
       "min_height": null,
       "min_width": null,
       "object_fit": null,
       "object_position": null,
       "order": null,
       "overflow": null,
       "overflow_x": null,
       "overflow_y": null,
       "padding": null,
       "right": null,
       "top": null,
       "visibility": null,
       "width": "100%"
      }
     },
     "6b2419a14ab64a3ba5a8ef96180e7ddf": {
      "model_module": "@jupyter-widgets/controls",
      "model_module_version": "1.5.0",
      "model_name": "ProgressStyleModel",
      "state": {
       "_model_module": "@jupyter-widgets/controls",
       "_model_module_version": "1.5.0",
       "_model_name": "ProgressStyleModel",
       "_view_count": null,
       "_view_module": "@jupyter-widgets/base",
       "_view_module_version": "1.2.0",
       "_view_name": "StyleView",
       "bar_color": null,
       "description_width": ""
      }
     },
     "6cb2d18a03e144f7886c792857a630c4": {
      "model_module": "@jupyter-widgets/controls",
      "model_module_version": "1.5.0",
      "model_name": "FloatProgressModel",
      "state": {
       "_dom_classes": [],
       "_model_module": "@jupyter-widgets/controls",
       "_model_module_version": "1.5.0",
       "_model_name": "FloatProgressModel",
       "_view_count": null,
       "_view_module": "@jupyter-widgets/controls",
       "_view_module_version": "1.5.0",
       "_view_name": "ProgressView",
       "bar_style": "",
       "description": "",
       "description_tooltip": null,
       "layout": "IPY_MODEL_ced9032f44c04a5a99fcd4bb33aab413",
       "max": 20302.0,
       "min": 0.0,
       "orientation": "horizontal",
       "style": "IPY_MODEL_829e99eea6da49bba59ca39efce52271",
       "value": 20302.0
      }
     },
     "6e3b5f4ac3d84ffc8146b2dbd5912d71": {
      "model_module": "@jupyter-widgets/controls",
      "model_module_version": "1.5.0",
      "model_name": "DescriptionStyleModel",
      "state": {
       "_model_module": "@jupyter-widgets/controls",
       "_model_module_version": "1.5.0",
       "_model_name": "DescriptionStyleModel",
       "_view_count": null,
       "_view_module": "@jupyter-widgets/base",
       "_view_module_version": "1.2.0",
       "_view_name": "StyleView",
       "description_width": ""
      }
     },
     "6ffd66a02919455f85b395430e7826ef": {
      "model_module": "@jupyter-widgets/base",
      "model_module_version": "1.2.0",
      "model_name": "LayoutModel",
      "state": {
       "_model_module": "@jupyter-widgets/base",
       "_model_module_version": "1.2.0",
       "_model_name": "LayoutModel",
       "_view_count": null,
       "_view_module": "@jupyter-widgets/base",
       "_view_module_version": "1.2.0",
       "_view_name": "LayoutView",
       "align_content": null,
       "align_items": null,
       "align_self": null,
       "border": null,
       "bottom": null,
       "display": null,
       "flex": "2",
       "flex_flow": null,
       "grid_area": null,
       "grid_auto_columns": null,
       "grid_auto_flow": null,
       "grid_auto_rows": null,
       "grid_column": null,
       "grid_gap": null,
       "grid_row": null,
       "grid_template_areas": null,
       "grid_template_columns": null,
       "grid_template_rows": null,
       "height": null,
       "justify_content": null,
       "justify_items": null,
       "left": null,
       "margin": null,
       "max_height": null,
       "max_width": null,
       "min_height": null,
       "min_width": null,
       "object_fit": null,
       "object_position": null,
       "order": null,
       "overflow": null,
       "overflow_x": null,
       "overflow_y": null,
       "padding": null,
       "right": null,
       "top": null,
       "visibility": null,
       "width": null
      }
     },
     "705524c9e08545b7820494091934c881": {
      "model_module": "@jupyter-widgets/base",
      "model_module_version": "1.2.0",
      "model_name": "LayoutModel",
      "state": {
       "_model_module": "@jupyter-widgets/base",
       "_model_module_version": "1.2.0",
       "_model_name": "LayoutModel",
       "_view_count": null,
       "_view_module": "@jupyter-widgets/base",
       "_view_module_version": "1.2.0",
       "_view_name": "LayoutView",
       "align_content": null,
       "align_items": null,
       "align_self": null,
       "border": null,
       "bottom": null,
       "display": null,
       "flex": null,
       "flex_flow": null,
       "grid_area": null,
       "grid_auto_columns": null,
       "grid_auto_flow": null,
       "grid_auto_rows": null,
       "grid_column": null,
       "grid_gap": null,
       "grid_row": null,
       "grid_template_areas": null,
       "grid_template_columns": null,
       "grid_template_rows": null,
       "height": null,
       "justify_content": null,
       "justify_items": null,
       "left": null,
       "margin": null,
       "max_height": null,
       "max_width": null,
       "min_height": null,
       "min_width": null,
       "object_fit": null,
       "object_position": null,
       "order": null,
       "overflow": null,
       "overflow_x": null,
       "overflow_y": null,
       "padding": null,
       "right": null,
       "top": null,
       "visibility": null,
       "width": null
      }
     },
     "7080aa28c6ca48fb8093d0dcf4d4590c": {
      "model_module": "@jupyter-widgets/controls",
      "model_module_version": "1.5.0",
      "model_name": "HBoxModel",
      "state": {
       "_dom_classes": [],
       "_model_module": "@jupyter-widgets/controls",
       "_model_module_version": "1.5.0",
       "_model_name": "HBoxModel",
       "_view_count": null,
       "_view_module": "@jupyter-widgets/controls",
       "_view_module_version": "1.5.0",
       "_view_name": "HBoxView",
       "box_style": "",
       "children": [
        "IPY_MODEL_40e23438fd604374b3243fd1514e80a7",
        "IPY_MODEL_e0047e70963a4b5fa611bbdff9158f0a",
        "IPY_MODEL_7f12ae7ed4644a34904eebde0d0802ce"
       ],
       "layout": "IPY_MODEL_d956c375572949b2b6d1b0e2b095e775"
      }
     },
     "71f8a93ae686445fbec537eda48fe9ff": {
      "model_module": "@jupyter-widgets/controls",
      "model_module_version": "1.5.0",
      "model_name": "HTMLModel",
      "state": {
       "_dom_classes": [],
       "_model_module": "@jupyter-widgets/controls",
       "_model_module_version": "1.5.0",
       "_model_name": "HTMLModel",
       "_view_count": null,
       "_view_module": "@jupyter-widgets/controls",
       "_view_module_version": "1.5.0",
       "_view_name": "HTMLView",
       "description": "",
       "description_tooltip": null,
       "layout": "IPY_MODEL_7df3b4b78a23478895093eefc87327bf",
       "placeholder": "​",
       "style": "IPY_MODEL_208d5c7ab9464efa81caf3b9a8599667",
       "value": "Validation DataLoader 0: 100%"
      }
     },
     "72d5203d634d4056a9f8a0dfde9d2a3c": {
      "model_module": "@jupyter-widgets/controls",
      "model_module_version": "1.5.0",
      "model_name": "HTMLModel",
      "state": {
       "_dom_classes": [],
       "_model_module": "@jupyter-widgets/controls",
       "_model_module_version": "1.5.0",
       "_model_name": "HTMLModel",
       "_view_count": null,
       "_view_module": "@jupyter-widgets/controls",
       "_view_module_version": "1.5.0",
       "_view_name": "HTMLView",
       "description": "",
       "description_tooltip": null,
       "layout": "IPY_MODEL_d16de7f307fa42e490f9c858b5bc39e3",
       "placeholder": "​",
       "style": "IPY_MODEL_fcc7fb0904ea48519e0f021a5674e829",
       "value": "config.json: 100%"
      }
     },
     "746a10421f1f4587ba3aeee0889113d1": {
      "model_module": "@jupyter-widgets/base",
      "model_module_version": "1.2.0",
      "model_name": "LayoutModel",
      "state": {
       "_model_module": "@jupyter-widgets/base",
       "_model_module_version": "1.2.0",
       "_model_name": "LayoutModel",
       "_view_count": null,
       "_view_module": "@jupyter-widgets/base",
       "_view_module_version": "1.2.0",
       "_view_name": "LayoutView",
       "align_content": null,
       "align_items": null,
       "align_self": null,
       "border": null,
       "bottom": null,
       "display": null,
       "flex": null,
       "flex_flow": null,
       "grid_area": null,
       "grid_auto_columns": null,
       "grid_auto_flow": null,
       "grid_auto_rows": null,
       "grid_column": null,
       "grid_gap": null,
       "grid_row": null,
       "grid_template_areas": null,
       "grid_template_columns": null,
       "grid_template_rows": null,
       "height": null,
       "justify_content": null,
       "justify_items": null,
       "left": null,
       "margin": null,
       "max_height": null,
       "max_width": null,
       "min_height": null,
       "min_width": null,
       "object_fit": null,
       "object_position": null,
       "order": null,
       "overflow": null,
       "overflow_x": null,
       "overflow_y": null,
       "padding": null,
       "right": null,
       "top": null,
       "visibility": null,
       "width": null
      }
     },
     "756d6374572e479283cc695ca11f6aa7": {
      "model_module": "@jupyter-widgets/controls",
      "model_module_version": "1.5.0",
      "model_name": "HTMLModel",
      "state": {
       "_dom_classes": [],
       "_model_module": "@jupyter-widgets/controls",
       "_model_module_version": "1.5.0",
       "_model_name": "HTMLModel",
       "_view_count": null,
       "_view_module": "@jupyter-widgets/controls",
       "_view_module_version": "1.5.0",
       "_view_name": "HTMLView",
       "description": "",
       "description_tooltip": null,
       "layout": "IPY_MODEL_aee3d1e353f940e59750c8e152769056",
       "placeholder": "​",
       "style": "IPY_MODEL_0d7014d636b34950a706ca005d613317",
       "value": "Testing DataLoader 0: 100%"
      }
     },
     "782ca0624d5142048e07e7fc238ff971": {
      "model_module": "@jupyter-widgets/controls",
      "model_module_version": "1.5.0",
      "model_name": "DescriptionStyleModel",
      "state": {
       "_model_module": "@jupyter-widgets/controls",
       "_model_module_version": "1.5.0",
       "_model_name": "DescriptionStyleModel",
       "_view_count": null,
       "_view_module": "@jupyter-widgets/base",
       "_view_module_version": "1.2.0",
       "_view_name": "StyleView",
       "description_width": ""
      }
     },
     "79f21ad19a3640c18aa019b3970efafb": {
      "model_module": "@jupyter-widgets/controls",
      "model_module_version": "1.5.0",
      "model_name": "FloatProgressModel",
      "state": {
       "_dom_classes": [],
       "_model_module": "@jupyter-widgets/controls",
       "_model_module_version": "1.5.0",
       "_model_name": "FloatProgressModel",
       "_view_count": null,
       "_view_module": "@jupyter-widgets/controls",
       "_view_module_version": "1.5.0",
       "_view_name": "ProgressView",
       "bar_style": "",
       "description": "",
       "description_tooltip": null,
       "layout": "IPY_MODEL_fd8dc1b4272840d19e671c019534ed3a",
       "max": 20302.0,
       "min": 0.0,
       "orientation": "horizontal",
       "style": "IPY_MODEL_ccfc12887abc4c15b3eb7bdb66aa0dce",
       "value": 20302.0
      }
     },
     "7a494bf7b14f49459d76853e45791fa6": {
      "model_module": "@jupyter-widgets/controls",
      "model_module_version": "1.5.0",
      "model_name": "DescriptionStyleModel",
      "state": {
       "_model_module": "@jupyter-widgets/controls",
       "_model_module_version": "1.5.0",
       "_model_name": "DescriptionStyleModel",
       "_view_count": null,
       "_view_module": "@jupyter-widgets/base",
       "_view_module_version": "1.2.0",
       "_view_name": "StyleView",
       "description_width": ""
      }
     },
     "7b07e7d2f151422f806e64cf8d700fef": {
      "model_module": "@jupyter-widgets/controls",
      "model_module_version": "1.5.0",
      "model_name": "HBoxModel",
      "state": {
       "_dom_classes": [],
       "_model_module": "@jupyter-widgets/controls",
       "_model_module_version": "1.5.0",
       "_model_name": "HBoxModel",
       "_view_count": null,
       "_view_module": "@jupyter-widgets/controls",
       "_view_module_version": "1.5.0",
       "_view_name": "HBoxView",
       "box_style": "",
       "children": [
        "IPY_MODEL_a5c530ff203941a9b9b3d6311b2e6b1c",
        "IPY_MODEL_41c515628225492c975748eaddff3410",
        "IPY_MODEL_407840d1b96746369e2c21f90c66db9a"
       ],
       "layout": "IPY_MODEL_07a2b9a7074b41a18e88e943bb488aae"
      }
     },
     "7df3b4b78a23478895093eefc87327bf": {
      "model_module": "@jupyter-widgets/base",
      "model_module_version": "1.2.0",
      "model_name": "LayoutModel",
      "state": {
       "_model_module": "@jupyter-widgets/base",
       "_model_module_version": "1.2.0",
       "_model_name": "LayoutModel",
       "_view_count": null,
       "_view_module": "@jupyter-widgets/base",
       "_view_module_version": "1.2.0",
       "_view_name": "LayoutView",
       "align_content": null,
       "align_items": null,
       "align_self": null,
       "border": null,
       "bottom": null,
       "display": null,
       "flex": null,
       "flex_flow": null,
       "grid_area": null,
       "grid_auto_columns": null,
       "grid_auto_flow": null,
       "grid_auto_rows": null,
       "grid_column": null,
       "grid_gap": null,
       "grid_row": null,
       "grid_template_areas": null,
       "grid_template_columns": null,
       "grid_template_rows": null,
       "height": null,
       "justify_content": null,
       "justify_items": null,
       "left": null,
       "margin": null,
       "max_height": null,
       "max_width": null,
       "min_height": null,
       "min_width": null,
       "object_fit": null,
       "object_position": null,
       "order": null,
       "overflow": null,
       "overflow_x": null,
       "overflow_y": null,
       "padding": null,
       "right": null,
       "top": null,
       "visibility": null,
       "width": null
      }
     },
     "7f12ae7ed4644a34904eebde0d0802ce": {
      "model_module": "@jupyter-widgets/controls",
      "model_module_version": "1.5.0",
      "model_name": "HTMLModel",
      "state": {
       "_dom_classes": [],
       "_model_module": "@jupyter-widgets/controls",
       "_model_module_version": "1.5.0",
       "_model_name": "HTMLModel",
       "_view_count": null,
       "_view_module": "@jupyter-widgets/controls",
       "_view_module_version": "1.5.0",
       "_view_name": "HTMLView",
       "description": "",
       "description_tooltip": null,
       "layout": "IPY_MODEL_1788fb8f5bc84bc7a639e7864f2d4376",
       "placeholder": "​",
       "style": "IPY_MODEL_686b509f63604f06866390cc12bb801d",
       "value": " 147/147 [00:00&lt;00:00, 12.3kB/s]"
      }
     },
     "7f159760886e4353946024027e564adc": {
      "model_module": "@jupyter-widgets/base",
      "model_module_version": "1.2.0",
      "model_name": "LayoutModel",
      "state": {
       "_model_module": "@jupyter-widgets/base",
       "_model_module_version": "1.2.0",
       "_model_name": "LayoutModel",
       "_view_count": null,
       "_view_module": "@jupyter-widgets/base",
       "_view_module_version": "1.2.0",
       "_view_name": "LayoutView",
       "align_content": null,
       "align_items": null,
       "align_self": null,
       "border": null,
       "bottom": null,
       "display": null,
       "flex": null,
       "flex_flow": null,
       "grid_area": null,
       "grid_auto_columns": null,
       "grid_auto_flow": null,
       "grid_auto_rows": null,
       "grid_column": null,
       "grid_gap": null,
       "grid_row": null,
       "grid_template_areas": null,
       "grid_template_columns": null,
       "grid_template_rows": null,
       "height": null,
       "justify_content": null,
       "justify_items": null,
       "left": null,
       "margin": null,
       "max_height": null,
       "max_width": null,
       "min_height": null,
       "min_width": null,
       "object_fit": null,
       "object_position": null,
       "order": null,
       "overflow": null,
       "overflow_x": null,
       "overflow_y": null,
       "padding": null,
       "right": null,
       "top": null,
       "visibility": null,
       "width": null
      }
     },
     "80fd12e4817b476b8f0ca984fe13be62": {
      "model_module": "@jupyter-widgets/controls",
      "model_module_version": "1.5.0",
      "model_name": "HBoxModel",
      "state": {
       "_dom_classes": [],
       "_model_module": "@jupyter-widgets/controls",
       "_model_module_version": "1.5.0",
       "_model_name": "HBoxModel",
       "_view_count": null,
       "_view_module": "@jupyter-widgets/controls",
       "_view_module_version": "1.5.0",
       "_view_name": "HBoxView",
       "box_style": "",
       "children": [
        "IPY_MODEL_756d6374572e479283cc695ca11f6aa7",
        "IPY_MODEL_9b5990fdb0ea4033b7be2e827b9f845c",
        "IPY_MODEL_f4a64cb7d86b401981b28abb96b63da1"
       ],
       "layout": "IPY_MODEL_a172fb0ea4e841cb9c6be751566055d3"
      }
     },
     "829e99eea6da49bba59ca39efce52271": {
      "model_module": "@jupyter-widgets/controls",
      "model_module_version": "1.5.0",
      "model_name": "ProgressStyleModel",
      "state": {
       "_model_module": "@jupyter-widgets/controls",
       "_model_module_version": "1.5.0",
       "_model_name": "ProgressStyleModel",
       "_view_count": null,
       "_view_module": "@jupyter-widgets/base",
       "_view_module_version": "1.2.0",
       "_view_name": "StyleView",
       "bar_color": null,
       "description_width": ""
      }
     },
     "84920c4fa0c14247997fb9c16afd382e": {
      "model_module": "@jupyter-widgets/controls",
      "model_module_version": "1.5.0",
      "model_name": "ProgressStyleModel",
      "state": {
       "_model_module": "@jupyter-widgets/controls",
       "_model_module_version": "1.5.0",
       "_model_name": "ProgressStyleModel",
       "_view_count": null,
       "_view_module": "@jupyter-widgets/base",
       "_view_module_version": "1.2.0",
       "_view_name": "StyleView",
       "bar_color": null,
       "description_width": ""
      }
     },
     "84a7bcce919c424f899749f46c20c8c0": {
      "model_module": "@jupyter-widgets/base",
      "model_module_version": "1.2.0",
      "model_name": "LayoutModel",
      "state": {
       "_model_module": "@jupyter-widgets/base",
       "_model_module_version": "1.2.0",
       "_model_name": "LayoutModel",
       "_view_count": null,
       "_view_module": "@jupyter-widgets/base",
       "_view_module_version": "1.2.0",
       "_view_name": "LayoutView",
       "align_content": null,
       "align_items": null,
       "align_self": null,
       "border": null,
       "bottom": null,
       "display": null,
       "flex": null,
       "flex_flow": null,
       "grid_area": null,
       "grid_auto_columns": null,
       "grid_auto_flow": null,
       "grid_auto_rows": null,
       "grid_column": null,
       "grid_gap": null,
       "grid_row": null,
       "grid_template_areas": null,
       "grid_template_columns": null,
       "grid_template_rows": null,
       "height": null,
       "justify_content": null,
       "justify_items": null,
       "left": null,
       "margin": null,
       "max_height": null,
       "max_width": null,
       "min_height": null,
       "min_width": null,
       "object_fit": null,
       "object_position": null,
       "order": null,
       "overflow": null,
       "overflow_x": null,
       "overflow_y": null,
       "padding": null,
       "right": null,
       "top": null,
       "visibility": null,
       "width": null
      }
     },
     "8601ed9968fb4ad6a501c87fc735e6b4": {
      "model_module": "@jupyter-widgets/controls",
      "model_module_version": "1.5.0",
      "model_name": "DescriptionStyleModel",
      "state": {
       "_model_module": "@jupyter-widgets/controls",
       "_model_module_version": "1.5.0",
       "_model_name": "DescriptionStyleModel",
       "_view_count": null,
       "_view_module": "@jupyter-widgets/base",
       "_view_module_version": "1.2.0",
       "_view_name": "StyleView",
       "description_width": ""
      }
     },
     "8706ecf73885428c87de1f1b013e213b": {
      "model_module": "@jupyter-widgets/controls",
      "model_module_version": "1.5.0",
      "model_name": "ProgressStyleModel",
      "state": {
       "_model_module": "@jupyter-widgets/controls",
       "_model_module_version": "1.5.0",
       "_model_name": "ProgressStyleModel",
       "_view_count": null,
       "_view_module": "@jupyter-widgets/base",
       "_view_module_version": "1.2.0",
       "_view_name": "StyleView",
       "bar_color": null,
       "description_width": ""
      }
     },
     "87d3cadb37994be29ea311bd14c9b7d2": {
      "model_module": "@jupyter-widgets/controls",
      "model_module_version": "1.5.0",
      "model_name": "FloatProgressModel",
      "state": {
       "_dom_classes": [],
       "_model_module": "@jupyter-widgets/controls",
       "_model_module_version": "1.5.0",
       "_model_name": "FloatProgressModel",
       "_view_count": null,
       "_view_module": "@jupyter-widgets/controls",
       "_view_module_version": "1.5.0",
       "_view_name": "ProgressView",
       "bar_style": "",
       "description": "",
       "description_tooltip": null,
       "layout": "IPY_MODEL_8e5310ccf73c432abaaebe031e821581",
       "max": 2.0,
       "min": 0.0,
       "orientation": "horizontal",
       "style": "IPY_MODEL_8706ecf73885428c87de1f1b013e213b",
       "value": 2.0
      }
     },
     "88bbc5c2da1f48ea910ee3df5f288744": {
      "model_module": "@jupyter-widgets/controls",
      "model_module_version": "1.5.0",
      "model_name": "DescriptionStyleModel",
      "state": {
       "_model_module": "@jupyter-widgets/controls",
       "_model_module_version": "1.5.0",
       "_model_name": "DescriptionStyleModel",
       "_view_count": null,
       "_view_module": "@jupyter-widgets/base",
       "_view_module_version": "1.2.0",
       "_view_name": "StyleView",
       "description_width": ""
      }
     },
     "88d63ab4968748d3930295499baf8b26": {
      "model_module": "@jupyter-widgets/controls",
      "model_module_version": "1.5.0",
      "model_name": "HTMLModel",
      "state": {
       "_dom_classes": [],
       "_model_module": "@jupyter-widgets/controls",
       "_model_module_version": "1.5.0",
       "_model_name": "HTMLModel",
       "_view_count": null,
       "_view_module": "@jupyter-widgets/controls",
       "_view_module_version": "1.5.0",
       "_view_name": "HTMLView",
       "description": "",
       "description_tooltip": null,
       "layout": "IPY_MODEL_ca3e6bb8736b410cab93c4bc9d1a787f",
       "placeholder": "​",
       "style": "IPY_MODEL_1c28c9bcb0394f09903ca5d7ba48dac3",
       "value": " 20302/20302 [07:30&lt;00:00, 45.07it/s]"
      }
     },
     "891d4af200b942fba6b99b8559a4c72d": {
      "model_module": "@jupyter-widgets/base",
      "model_module_version": "1.2.0",
      "model_name": "LayoutModel",
      "state": {
       "_model_module": "@jupyter-widgets/base",
       "_model_module_version": "1.2.0",
       "_model_name": "LayoutModel",
       "_view_count": null,
       "_view_module": "@jupyter-widgets/base",
       "_view_module_version": "1.2.0",
       "_view_name": "LayoutView",
       "align_content": null,
       "align_items": null,
       "align_self": null,
       "border": null,
       "bottom": null,
       "display": "inline-flex",
       "flex": null,
       "flex_flow": "row wrap",
       "grid_area": null,
       "grid_auto_columns": null,
       "grid_auto_flow": null,
       "grid_auto_rows": null,
       "grid_column": null,
       "grid_gap": null,
       "grid_row": null,
       "grid_template_areas": null,
       "grid_template_columns": null,
       "grid_template_rows": null,
       "height": null,
       "justify_content": null,
       "justify_items": null,
       "left": null,
       "margin": null,
       "max_height": null,
       "max_width": null,
       "min_height": null,
       "min_width": null,
       "object_fit": null,
       "object_position": null,
       "order": null,
       "overflow": null,
       "overflow_x": null,
       "overflow_y": null,
       "padding": null,
       "right": null,
       "top": null,
       "visibility": "hidden",
       "width": "100%"
      }
     },
     "8e5310ccf73c432abaaebe031e821581": {
      "model_module": "@jupyter-widgets/base",
      "model_module_version": "1.2.0",
      "model_name": "LayoutModel",
      "state": {
       "_model_module": "@jupyter-widgets/base",
       "_model_module_version": "1.2.0",
       "_model_name": "LayoutModel",
       "_view_count": null,
       "_view_module": "@jupyter-widgets/base",
       "_view_module_version": "1.2.0",
       "_view_name": "LayoutView",
       "align_content": null,
       "align_items": null,
       "align_self": null,
       "border": null,
       "bottom": null,
       "display": null,
       "flex": "2",
       "flex_flow": null,
       "grid_area": null,
       "grid_auto_columns": null,
       "grid_auto_flow": null,
       "grid_auto_rows": null,
       "grid_column": null,
       "grid_gap": null,
       "grid_row": null,
       "grid_template_areas": null,
       "grid_template_columns": null,
       "grid_template_rows": null,
       "height": null,
       "justify_content": null,
       "justify_items": null,
       "left": null,
       "margin": null,
       "max_height": null,
       "max_width": null,
       "min_height": null,
       "min_width": null,
       "object_fit": null,
       "object_position": null,
       "order": null,
       "overflow": null,
       "overflow_x": null,
       "overflow_y": null,
       "padding": null,
       "right": null,
       "top": null,
       "visibility": null,
       "width": null
      }
     },
     "8f02c21fb023473096b332bd021fe0eb": {
      "model_module": "@jupyter-widgets/base",
      "model_module_version": "1.2.0",
      "model_name": "LayoutModel",
      "state": {
       "_model_module": "@jupyter-widgets/base",
       "_model_module_version": "1.2.0",
       "_model_name": "LayoutModel",
       "_view_count": null,
       "_view_module": "@jupyter-widgets/base",
       "_view_module_version": "1.2.0",
       "_view_name": "LayoutView",
       "align_content": null,
       "align_items": null,
       "align_self": null,
       "border": null,
       "bottom": null,
       "display": null,
       "flex": "2",
       "flex_flow": null,
       "grid_area": null,
       "grid_auto_columns": null,
       "grid_auto_flow": null,
       "grid_auto_rows": null,
       "grid_column": null,
       "grid_gap": null,
       "grid_row": null,
       "grid_template_areas": null,
       "grid_template_columns": null,
       "grid_template_rows": null,
       "height": null,
       "justify_content": null,
       "justify_items": null,
       "left": null,
       "margin": null,
       "max_height": null,
       "max_width": null,
       "min_height": null,
       "min_width": null,
       "object_fit": null,
       "object_position": null,
       "order": null,
       "overflow": null,
       "overflow_x": null,
       "overflow_y": null,
       "padding": null,
       "right": null,
       "top": null,
       "visibility": null,
       "width": null
      }
     },
     "8fd26173c6434995b0f9590d56645e5f": {
      "model_module": "@jupyter-widgets/controls",
      "model_module_version": "1.5.0",
      "model_name": "HTMLModel",
      "state": {
       "_dom_classes": [],
       "_model_module": "@jupyter-widgets/controls",
       "_model_module_version": "1.5.0",
       "_model_name": "HTMLModel",
       "_view_count": null,
       "_view_module": "@jupyter-widgets/controls",
       "_view_module_version": "1.5.0",
       "_view_name": "HTMLView",
       "description": "",
       "description_tooltip": null,
       "layout": "IPY_MODEL_f695fa9bb37b4c2ba175ee14a181e369",
       "placeholder": "​",
       "style": "IPY_MODEL_c4e1c6c04dc54d3bb30bfc63fa25281a",
       "value": "Sanity Checking DataLoader 0: 100%"
      }
     },
     "909ef479db3348f397720f7d1e8b52b1": {
      "model_module": "@jupyter-widgets/base",
      "model_module_version": "1.2.0",
      "model_name": "LayoutModel",
      "state": {
       "_model_module": "@jupyter-widgets/base",
       "_model_module_version": "1.2.0",
       "_model_name": "LayoutModel",
       "_view_count": null,
       "_view_module": "@jupyter-widgets/base",
       "_view_module_version": "1.2.0",
       "_view_name": "LayoutView",
       "align_content": null,
       "align_items": null,
       "align_self": null,
       "border": null,
       "bottom": null,
       "display": null,
       "flex": null,
       "flex_flow": null,
       "grid_area": null,
       "grid_auto_columns": null,
       "grid_auto_flow": null,
       "grid_auto_rows": null,
       "grid_column": null,
       "grid_gap": null,
       "grid_row": null,
       "grid_template_areas": null,
       "grid_template_columns": null,
       "grid_template_rows": null,
       "height": null,
       "justify_content": null,
       "justify_items": null,
       "left": null,
       "margin": null,
       "max_height": null,
       "max_width": null,
       "min_height": null,
       "min_width": null,
       "object_fit": null,
       "object_position": null,
       "order": null,
       "overflow": null,
       "overflow_x": null,
       "overflow_y": null,
       "padding": null,
       "right": null,
       "top": null,
       "visibility": null,
       "width": null
      }
     },
     "93ae171e818d4cf8af4787ceaa016447": {
      "model_module": "@jupyter-widgets/controls",
      "model_module_version": "1.5.0",
      "model_name": "HTMLModel",
      "state": {
       "_dom_classes": [],
       "_model_module": "@jupyter-widgets/controls",
       "_model_module_version": "1.5.0",
       "_model_name": "HTMLModel",
       "_view_count": null,
       "_view_module": "@jupyter-widgets/controls",
       "_view_module_version": "1.5.0",
       "_view_name": "HTMLView",
       "description": "",
       "description_tooltip": null,
       "layout": "IPY_MODEL_2a7caa6cf89b4771a74e0a81a472de96",
       "placeholder": "​",
       "style": "IPY_MODEL_f7811adb02384448beceecf1f7013061",
       "value": "tokenizer.json: 100%"
      }
     },
     "9562f185ade246eda1c259b73fce2603": {
      "model_module": "@jupyter-widgets/controls",
      "model_module_version": "1.5.0",
      "model_name": "HBoxModel",
      "state": {
       "_dom_classes": [],
       "_model_module": "@jupyter-widgets/controls",
       "_model_module_version": "1.5.0",
       "_model_name": "HBoxModel",
       "_view_count": null,
       "_view_module": "@jupyter-widgets/controls",
       "_view_module_version": "1.5.0",
       "_view_name": "HBoxView",
       "box_style": "",
       "children": [
        "IPY_MODEL_ad7987020f2c45d0bca789f7f7af4b41",
        "IPY_MODEL_fd5c7946242144d89f1a54b456d0a911",
        "IPY_MODEL_20dd838a07894a4790f3542196972b33"
       ],
       "layout": "IPY_MODEL_891d4af200b942fba6b99b8559a4c72d"
      }
     },
     "97df39ded7c8440c9effcd5a23a3d0f0": {
      "model_module": "@jupyter-widgets/controls",
      "model_module_version": "1.5.0",
      "model_name": "DescriptionStyleModel",
      "state": {
       "_model_module": "@jupyter-widgets/controls",
       "_model_module_version": "1.5.0",
       "_model_name": "DescriptionStyleModel",
       "_view_count": null,
       "_view_module": "@jupyter-widgets/base",
       "_view_module_version": "1.2.0",
       "_view_name": "StyleView",
       "description_width": ""
      }
     },
     "9b5990fdb0ea4033b7be2e827b9f845c": {
      "model_module": "@jupyter-widgets/controls",
      "model_module_version": "1.5.0",
      "model_name": "FloatProgressModel",
      "state": {
       "_dom_classes": [],
       "_model_module": "@jupyter-widgets/controls",
       "_model_module_version": "1.5.0",
       "_model_name": "FloatProgressModel",
       "_view_count": null,
       "_view_module": "@jupyter-widgets/controls",
       "_view_module_version": "1.5.0",
       "_view_name": "ProgressView",
       "bar_style": "success",
       "description": "",
       "description_tooltip": null,
       "layout": "IPY_MODEL_8f02c21fb023473096b332bd021fe0eb",
       "max": 11877.0,
       "min": 0.0,
       "orientation": "horizontal",
       "style": "IPY_MODEL_087c5c85954649fbb02593cb23269daf",
       "value": 11877.0
      }
     },
     "9f79245ffb6643a0b9db38cc215b0771": {
      "model_module": "@jupyter-widgets/base",
      "model_module_version": "1.2.0",
      "model_name": "LayoutModel",
      "state": {
       "_model_module": "@jupyter-widgets/base",
       "_model_module_version": "1.2.0",
       "_model_name": "LayoutModel",
       "_view_count": null,
       "_view_module": "@jupyter-widgets/base",
       "_view_module_version": "1.2.0",
       "_view_name": "LayoutView",
       "align_content": null,
       "align_items": null,
       "align_self": null,
       "border": null,
       "bottom": null,
       "display": null,
       "flex": null,
       "flex_flow": null,
       "grid_area": null,
       "grid_auto_columns": null,
       "grid_auto_flow": null,
       "grid_auto_rows": null,
       "grid_column": null,
       "grid_gap": null,
       "grid_row": null,
       "grid_template_areas": null,
       "grid_template_columns": null,
       "grid_template_rows": null,
       "height": null,
       "justify_content": null,
       "justify_items": null,
       "left": null,
       "margin": null,
       "max_height": null,
       "max_width": null,
       "min_height": null,
       "min_width": null,
       "object_fit": null,
       "object_position": null,
       "order": null,
       "overflow": null,
       "overflow_x": null,
       "overflow_y": null,
       "padding": null,
       "right": null,
       "top": null,
       "visibility": null,
       "width": null
      }
     },
     "a0a401bda00d4d889696312531434333": {
      "model_module": "@jupyter-widgets/controls",
      "model_module_version": "1.5.0",
      "model_name": "DescriptionStyleModel",
      "state": {
       "_model_module": "@jupyter-widgets/controls",
       "_model_module_version": "1.5.0",
       "_model_name": "DescriptionStyleModel",
       "_view_count": null,
       "_view_module": "@jupyter-widgets/base",
       "_view_module_version": "1.2.0",
       "_view_name": "StyleView",
       "description_width": ""
      }
     },
     "a172fb0ea4e841cb9c6be751566055d3": {
      "model_module": "@jupyter-widgets/base",
      "model_module_version": "1.2.0",
      "model_name": "LayoutModel",
      "state": {
       "_model_module": "@jupyter-widgets/base",
       "_model_module_version": "1.2.0",
       "_model_name": "LayoutModel",
       "_view_count": null,
       "_view_module": "@jupyter-widgets/base",
       "_view_module_version": "1.2.0",
       "_view_name": "LayoutView",
       "align_content": null,
       "align_items": null,
       "align_self": null,
       "border": null,
       "bottom": null,
       "display": "inline-flex",
       "flex": null,
       "flex_flow": "row wrap",
       "grid_area": null,
       "grid_auto_columns": null,
       "grid_auto_flow": null,
       "grid_auto_rows": null,
       "grid_column": null,
       "grid_gap": null,
       "grid_row": null,
       "grid_template_areas": null,
       "grid_template_columns": null,
       "grid_template_rows": null,
       "height": null,
       "justify_content": null,
       "justify_items": null,
       "left": null,
       "margin": null,
       "max_height": null,
       "max_width": null,
       "min_height": null,
       "min_width": null,
       "object_fit": null,
       "object_position": null,
       "order": null,
       "overflow": null,
       "overflow_x": null,
       "overflow_y": null,
       "padding": null,
       "right": null,
       "top": null,
       "visibility": null,
       "width": "100%"
      }
     },
     "a5c530ff203941a9b9b3d6311b2e6b1c": {
      "model_module": "@jupyter-widgets/controls",
      "model_module_version": "1.5.0",
      "model_name": "HTMLModel",
      "state": {
       "_dom_classes": [],
       "_model_module": "@jupyter-widgets/controls",
       "_model_module_version": "1.5.0",
       "_model_name": "HTMLModel",
       "_view_count": null,
       "_view_module": "@jupyter-widgets/controls",
       "_view_module_version": "1.5.0",
       "_view_name": "HTMLView",
       "description": "",
       "description_tooltip": null,
       "layout": "IPY_MODEL_d8fa7678310443eca938683ff949d89f",
       "placeholder": "​",
       "style": "IPY_MODEL_3d9d6fadc21546229c7373b07c2009f6",
       "value": "Validation DataLoader 0: 100%"
      }
     },
     "a5ffad2c53b245dfa8d62decd6d42f5b": {
      "model_module": "@jupyter-widgets/controls",
      "model_module_version": "1.5.0",
      "model_name": "DescriptionStyleModel",
      "state": {
       "_model_module": "@jupyter-widgets/controls",
       "_model_module_version": "1.5.0",
       "_model_name": "DescriptionStyleModel",
       "_view_count": null,
       "_view_module": "@jupyter-widgets/base",
       "_view_module_version": "1.2.0",
       "_view_name": "StyleView",
       "description_width": ""
      }
     },
     "a6253b72e9584415b99af51ff0ecd528": {
      "model_module": "@jupyter-widgets/controls",
      "model_module_version": "1.5.0",
      "model_name": "HTMLModel",
      "state": {
       "_dom_classes": [],
       "_model_module": "@jupyter-widgets/controls",
       "_model_module_version": "1.5.0",
       "_model_name": "HTMLModel",
       "_view_count": null,
       "_view_module": "@jupyter-widgets/controls",
       "_view_module_version": "1.5.0",
       "_view_name": "HTMLView",
       "description": "",
       "description_tooltip": null,
       "layout": "IPY_MODEL_c99efeb9edc949e09123c1ce19972b3a",
       "placeholder": "​",
       "style": "IPY_MODEL_b94df26c8756400c8dc5ce00ca14e604",
       "value": "Epoch 4: 100%"
      }
     },
     "a97e0ce69d8c46329abbef2cee8927d5": {
      "model_module": "@jupyter-widgets/base",
      "model_module_version": "1.2.0",
      "model_name": "LayoutModel",
      "state": {
       "_model_module": "@jupyter-widgets/base",
       "_model_module_version": "1.2.0",
       "_model_name": "LayoutModel",
       "_view_count": null,
       "_view_module": "@jupyter-widgets/base",
       "_view_module_version": "1.2.0",
       "_view_name": "LayoutView",
       "align_content": null,
       "align_items": null,
       "align_self": null,
       "border": null,
       "bottom": null,
       "display": null,
       "flex": null,
       "flex_flow": null,
       "grid_area": null,
       "grid_auto_columns": null,
       "grid_auto_flow": null,
       "grid_auto_rows": null,
       "grid_column": null,
       "grid_gap": null,
       "grid_row": null,
       "grid_template_areas": null,
       "grid_template_columns": null,
       "grid_template_rows": null,
       "height": null,
       "justify_content": null,
       "justify_items": null,
       "left": null,
       "margin": null,
       "max_height": null,
       "max_width": null,
       "min_height": null,
       "min_width": null,
       "object_fit": null,
       "object_position": null,
       "order": null,
       "overflow": null,
       "overflow_x": null,
       "overflow_y": null,
       "padding": null,
       "right": null,
       "top": null,
       "visibility": null,
       "width": null
      }
     },
     "ad7987020f2c45d0bca789f7f7af4b41": {
      "model_module": "@jupyter-widgets/controls",
      "model_module_version": "1.5.0",
      "model_name": "HTMLModel",
      "state": {
       "_dom_classes": [],
       "_model_module": "@jupyter-widgets/controls",
       "_model_module_version": "1.5.0",
       "_model_name": "HTMLModel",
       "_view_count": null,
       "_view_module": "@jupyter-widgets/controls",
       "_view_module_version": "1.5.0",
       "_view_name": "HTMLView",
       "description": "",
       "description_tooltip": null,
       "layout": "IPY_MODEL_746a10421f1f4587ba3aeee0889113d1",
       "placeholder": "​",
       "style": "IPY_MODEL_59c6617d58c64349836f0be0be0a328a",
       "value": "Validation DataLoader 0: 100%"
      }
     },
     "aee3d1e353f940e59750c8e152769056": {
      "model_module": "@jupyter-widgets/base",
      "model_module_version": "1.2.0",
      "model_name": "LayoutModel",
      "state": {
       "_model_module": "@jupyter-widgets/base",
       "_model_module_version": "1.2.0",
       "_model_name": "LayoutModel",
       "_view_count": null,
       "_view_module": "@jupyter-widgets/base",
       "_view_module_version": "1.2.0",
       "_view_name": "LayoutView",
       "align_content": null,
       "align_items": null,
       "align_self": null,
       "border": null,
       "bottom": null,
       "display": null,
       "flex": null,
       "flex_flow": null,
       "grid_area": null,
       "grid_auto_columns": null,
       "grid_auto_flow": null,
       "grid_auto_rows": null,
       "grid_column": null,
       "grid_gap": null,
       "grid_row": null,
       "grid_template_areas": null,
       "grid_template_columns": null,
       "grid_template_rows": null,
       "height": null,
       "justify_content": null,
       "justify_items": null,
       "left": null,
       "margin": null,
       "max_height": null,
       "max_width": null,
       "min_height": null,
       "min_width": null,
       "object_fit": null,
       "object_position": null,
       "order": null,
       "overflow": null,
       "overflow_x": null,
       "overflow_y": null,
       "padding": null,
       "right": null,
       "top": null,
       "visibility": null,
       "width": null
      }
     },
     "b29838eea8644d808da175947a113368": {
      "model_module": "@jupyter-widgets/controls",
      "model_module_version": "1.5.0",
      "model_name": "HTMLModel",
      "state": {
       "_dom_classes": [],
       "_model_module": "@jupyter-widgets/controls",
       "_model_module_version": "1.5.0",
       "_model_name": "HTMLModel",
       "_view_count": null,
       "_view_module": "@jupyter-widgets/controls",
       "_view_module_version": "1.5.0",
       "_view_name": "HTMLView",
       "description": "",
       "description_tooltip": null,
       "layout": "IPY_MODEL_3671a4cd8fc3463ca7a202f3de0f7f0e",
       "placeholder": "​",
       "style": "IPY_MODEL_8601ed9968fb4ad6a501c87fc735e6b4",
       "value": " 4684/4684 [36:19&lt;00:00,  2.15it/s, v_num=0, train_loss=0.778, val_loss=1.410]"
      }
     },
     "b94df26c8756400c8dc5ce00ca14e604": {
      "model_module": "@jupyter-widgets/controls",
      "model_module_version": "1.5.0",
      "model_name": "DescriptionStyleModel",
      "state": {
       "_model_module": "@jupyter-widgets/controls",
       "_model_module_version": "1.5.0",
       "_model_name": "DescriptionStyleModel",
       "_view_count": null,
       "_view_module": "@jupyter-widgets/base",
       "_view_module_version": "1.2.0",
       "_view_name": "StyleView",
       "description_width": ""
      }
     },
     "b967f7a8bafd428c9943a9b54e8e2893": {
      "model_module": "@jupyter-widgets/controls",
      "model_module_version": "1.5.0",
      "model_name": "HTMLModel",
      "state": {
       "_dom_classes": [],
       "_model_module": "@jupyter-widgets/controls",
       "_model_module_version": "1.5.0",
       "_model_name": "HTMLModel",
       "_view_count": null,
       "_view_module": "@jupyter-widgets/controls",
       "_view_module_version": "1.5.0",
       "_view_name": "HTMLView",
       "description": "",
       "description_tooltip": null,
       "layout": "IPY_MODEL_d2cba1ac1e1a453fa3edc1ad7a71f478",
       "placeholder": "​",
       "style": "IPY_MODEL_a5ffad2c53b245dfa8d62decd6d42f5b",
       "value": " 792k/792k [00:00&lt;00:00, 10.7MB/s]"
      }
     },
     "bbc49daff31642d89d77db09447744e9": {
      "model_module": "@jupyter-widgets/base",
      "model_module_version": "1.2.0",
      "model_name": "LayoutModel",
      "state": {
       "_model_module": "@jupyter-widgets/base",
       "_model_module_version": "1.2.0",
       "_model_name": "LayoutModel",
       "_view_count": null,
       "_view_module": "@jupyter-widgets/base",
       "_view_module_version": "1.2.0",
       "_view_name": "LayoutView",
       "align_content": null,
       "align_items": null,
       "align_self": null,
       "border": null,
       "bottom": null,
       "display": null,
       "flex": null,
       "flex_flow": null,
       "grid_area": null,
       "grid_auto_columns": null,
       "grid_auto_flow": null,
       "grid_auto_rows": null,
       "grid_column": null,
       "grid_gap": null,
       "grid_row": null,
       "grid_template_areas": null,
       "grid_template_columns": null,
       "grid_template_rows": null,
       "height": null,
       "justify_content": null,
       "justify_items": null,
       "left": null,
       "margin": null,
       "max_height": null,
       "max_width": null,
       "min_height": null,
       "min_width": null,
       "object_fit": null,
       "object_position": null,
       "order": null,
       "overflow": null,
       "overflow_x": null,
       "overflow_y": null,
       "padding": null,
       "right": null,
       "top": null,
       "visibility": null,
       "width": null
      }
     },
     "bbdd1a9b02974ff387e61f39bfe73b22": {
      "model_module": "@jupyter-widgets/controls",
      "model_module_version": "1.5.0",
      "model_name": "DescriptionStyleModel",
      "state": {
       "_model_module": "@jupyter-widgets/controls",
       "_model_module_version": "1.5.0",
       "_model_name": "DescriptionStyleModel",
       "_view_count": null,
       "_view_module": "@jupyter-widgets/base",
       "_view_module_version": "1.2.0",
       "_view_name": "StyleView",
       "description_width": ""
      }
     },
     "bcdc836c8c5342a08b7c4d9633fa8ecb": {
      "model_module": "@jupyter-widgets/base",
      "model_module_version": "1.2.0",
      "model_name": "LayoutModel",
      "state": {
       "_model_module": "@jupyter-widgets/base",
       "_model_module_version": "1.2.0",
       "_model_name": "LayoutModel",
       "_view_count": null,
       "_view_module": "@jupyter-widgets/base",
       "_view_module_version": "1.2.0",
       "_view_name": "LayoutView",
       "align_content": null,
       "align_items": null,
       "align_self": null,
       "border": null,
       "bottom": null,
       "display": null,
       "flex": null,
       "flex_flow": null,
       "grid_area": null,
       "grid_auto_columns": null,
       "grid_auto_flow": null,
       "grid_auto_rows": null,
       "grid_column": null,
       "grid_gap": null,
       "grid_row": null,
       "grid_template_areas": null,
       "grid_template_columns": null,
       "grid_template_rows": null,
       "height": null,
       "justify_content": null,
       "justify_items": null,
       "left": null,
       "margin": null,
       "max_height": null,
       "max_width": null,
       "min_height": null,
       "min_width": null,
       "object_fit": null,
       "object_position": null,
       "order": null,
       "overflow": null,
       "overflow_x": null,
       "overflow_y": null,
       "padding": null,
       "right": null,
       "top": null,
       "visibility": null,
       "width": null
      }
     },
     "be50c6e3cfb74c8aa076d97687fae3d7": {
      "model_module": "@jupyter-widgets/controls",
      "model_module_version": "1.5.0",
      "model_name": "HTMLModel",
      "state": {
       "_dom_classes": [],
       "_model_module": "@jupyter-widgets/controls",
       "_model_module_version": "1.5.0",
       "_model_name": "HTMLModel",
       "_view_count": null,
       "_view_module": "@jupyter-widgets/controls",
       "_view_module_version": "1.5.0",
       "_view_name": "HTMLView",
       "description": "",
       "description_tooltip": null,
       "layout": "IPY_MODEL_9f79245ffb6643a0b9db38cc215b0771",
       "placeholder": "​",
       "style": "IPY_MODEL_08d68f8dafb3447eb3c8c2e3696ecd4f",
       "value": " 20302/20302 [07:48&lt;00:00, 43.37it/s]"
      }
     },
     "bf1a77541bff4b1cb4fd8c5b96669fe9": {
      "model_module": "@jupyter-widgets/base",
      "model_module_version": "1.2.0",
      "model_name": "LayoutModel",
      "state": {
       "_model_module": "@jupyter-widgets/base",
       "_model_module_version": "1.2.0",
       "_model_name": "LayoutModel",
       "_view_count": null,
       "_view_module": "@jupyter-widgets/base",
       "_view_module_version": "1.2.0",
       "_view_name": "LayoutView",
       "align_content": null,
       "align_items": null,
       "align_self": null,
       "border": null,
       "bottom": null,
       "display": null,
       "flex": null,
       "flex_flow": null,
       "grid_area": null,
       "grid_auto_columns": null,
       "grid_auto_flow": null,
       "grid_auto_rows": null,
       "grid_column": null,
       "grid_gap": null,
       "grid_row": null,
       "grid_template_areas": null,
       "grid_template_columns": null,
       "grid_template_rows": null,
       "height": null,
       "justify_content": null,
       "justify_items": null,
       "left": null,
       "margin": null,
       "max_height": null,
       "max_width": null,
       "min_height": null,
       "min_width": null,
       "object_fit": null,
       "object_position": null,
       "order": null,
       "overflow": null,
       "overflow_x": null,
       "overflow_y": null,
       "padding": null,
       "right": null,
       "top": null,
       "visibility": null,
       "width": null
      }
     },
     "c456c9693d5b4643ae00a395f0b851ad": {
      "model_module": "@jupyter-widgets/controls",
      "model_module_version": "1.5.0",
      "model_name": "ProgressStyleModel",
      "state": {
       "_model_module": "@jupyter-widgets/controls",
       "_model_module_version": "1.5.0",
       "_model_name": "ProgressStyleModel",
       "_view_count": null,
       "_view_module": "@jupyter-widgets/base",
       "_view_module_version": "1.2.0",
       "_view_name": "StyleView",
       "bar_color": null,
       "description_width": ""
      }
     },
     "c4641e5496f7439e9018e2783f93c6ef": {
      "model_module": "@jupyter-widgets/controls",
      "model_module_version": "1.5.0",
      "model_name": "ProgressStyleModel",
      "state": {
       "_model_module": "@jupyter-widgets/controls",
       "_model_module_version": "1.5.0",
       "_model_name": "ProgressStyleModel",
       "_view_count": null,
       "_view_module": "@jupyter-widgets/base",
       "_view_module_version": "1.2.0",
       "_view_name": "StyleView",
       "bar_color": null,
       "description_width": ""
      }
     },
     "c4e1c6c04dc54d3bb30bfc63fa25281a": {
      "model_module": "@jupyter-widgets/controls",
      "model_module_version": "1.5.0",
      "model_name": "DescriptionStyleModel",
      "state": {
       "_model_module": "@jupyter-widgets/controls",
       "_model_module_version": "1.5.0",
       "_model_name": "DescriptionStyleModel",
       "_view_count": null,
       "_view_module": "@jupyter-widgets/base",
       "_view_module_version": "1.2.0",
       "_view_name": "StyleView",
       "description_width": ""
      }
     },
     "c99efeb9edc949e09123c1ce19972b3a": {
      "model_module": "@jupyter-widgets/base",
      "model_module_version": "1.2.0",
      "model_name": "LayoutModel",
      "state": {
       "_model_module": "@jupyter-widgets/base",
       "_model_module_version": "1.2.0",
       "_model_name": "LayoutModel",
       "_view_count": null,
       "_view_module": "@jupyter-widgets/base",
       "_view_module_version": "1.2.0",
       "_view_name": "LayoutView",
       "align_content": null,
       "align_items": null,
       "align_self": null,
       "border": null,
       "bottom": null,
       "display": null,
       "flex": null,
       "flex_flow": null,
       "grid_area": null,
       "grid_auto_columns": null,
       "grid_auto_flow": null,
       "grid_auto_rows": null,
       "grid_column": null,
       "grid_gap": null,
       "grid_row": null,
       "grid_template_areas": null,
       "grid_template_columns": null,
       "grid_template_rows": null,
       "height": null,
       "justify_content": null,
       "justify_items": null,
       "left": null,
       "margin": null,
       "max_height": null,
       "max_width": null,
       "min_height": null,
       "min_width": null,
       "object_fit": null,
       "object_position": null,
       "order": null,
       "overflow": null,
       "overflow_x": null,
       "overflow_y": null,
       "padding": null,
       "right": null,
       "top": null,
       "visibility": null,
       "width": null
      }
     },
     "c9a2f2aac75f4b61bf44a12b0edcbc26": {
      "model_module": "@jupyter-widgets/controls",
      "model_module_version": "1.5.0",
      "model_name": "HBoxModel",
      "state": {
       "_dom_classes": [],
       "_model_module": "@jupyter-widgets/controls",
       "_model_module_version": "1.5.0",
       "_model_name": "HBoxModel",
       "_view_count": null,
       "_view_module": "@jupyter-widgets/controls",
       "_view_module_version": "1.5.0",
       "_view_name": "HBoxView",
       "box_style": "",
       "children": [
        "IPY_MODEL_d74e2db2fd6f46749908259f5cb6386c",
        "IPY_MODEL_79f21ad19a3640c18aa019b3970efafb",
        "IPY_MODEL_be50c6e3cfb74c8aa076d97687fae3d7"
       ],
       "layout": "IPY_MODEL_5f68698697fc43259b7c9bfa719ab6ef"
      }
     },
     "ca3e6bb8736b410cab93c4bc9d1a787f": {
      "model_module": "@jupyter-widgets/base",
      "model_module_version": "1.2.0",
      "model_name": "LayoutModel",
      "state": {
       "_model_module": "@jupyter-widgets/base",
       "_model_module_version": "1.2.0",
       "_model_name": "LayoutModel",
       "_view_count": null,
       "_view_module": "@jupyter-widgets/base",
       "_view_module_version": "1.2.0",
       "_view_name": "LayoutView",
       "align_content": null,
       "align_items": null,
       "align_self": null,
       "border": null,
       "bottom": null,
       "display": null,
       "flex": null,
       "flex_flow": null,
       "grid_area": null,
       "grid_auto_columns": null,
       "grid_auto_flow": null,
       "grid_auto_rows": null,
       "grid_column": null,
       "grid_gap": null,
       "grid_row": null,
       "grid_template_areas": null,
       "grid_template_columns": null,
       "grid_template_rows": null,
       "height": null,
       "justify_content": null,
       "justify_items": null,
       "left": null,
       "margin": null,
       "max_height": null,
       "max_width": null,
       "min_height": null,
       "min_width": null,
       "object_fit": null,
       "object_position": null,
       "order": null,
       "overflow": null,
       "overflow_x": null,
       "overflow_y": null,
       "padding": null,
       "right": null,
       "top": null,
       "visibility": null,
       "width": null
      }
     },
     "ccc9e54e83ac4bdd86ea6d26937b3bdd": {
      "model_module": "@jupyter-widgets/base",
      "model_module_version": "1.2.0",
      "model_name": "LayoutModel",
      "state": {
       "_model_module": "@jupyter-widgets/base",
       "_model_module_version": "1.2.0",
       "_model_name": "LayoutModel",
       "_view_count": null,
       "_view_module": "@jupyter-widgets/base",
       "_view_module_version": "1.2.0",
       "_view_name": "LayoutView",
       "align_content": null,
       "align_items": null,
       "align_self": null,
       "border": null,
       "bottom": null,
       "display": null,
       "flex": null,
       "flex_flow": null,
       "grid_area": null,
       "grid_auto_columns": null,
       "grid_auto_flow": null,
       "grid_auto_rows": null,
       "grid_column": null,
       "grid_gap": null,
       "grid_row": null,
       "grid_template_areas": null,
       "grid_template_columns": null,
       "grid_template_rows": null,
       "height": null,
       "justify_content": null,
       "justify_items": null,
       "left": null,
       "margin": null,
       "max_height": null,
       "max_width": null,
       "min_height": null,
       "min_width": null,
       "object_fit": null,
       "object_position": null,
       "order": null,
       "overflow": null,
       "overflow_x": null,
       "overflow_y": null,
       "padding": null,
       "right": null,
       "top": null,
       "visibility": null,
       "width": null
      }
     },
     "ccfc12887abc4c15b3eb7bdb66aa0dce": {
      "model_module": "@jupyter-widgets/controls",
      "model_module_version": "1.5.0",
      "model_name": "ProgressStyleModel",
      "state": {
       "_model_module": "@jupyter-widgets/controls",
       "_model_module_version": "1.5.0",
       "_model_name": "ProgressStyleModel",
       "_view_count": null,
       "_view_module": "@jupyter-widgets/base",
       "_view_module_version": "1.2.0",
       "_view_name": "StyleView",
       "bar_color": null,
       "description_width": ""
      }
     },
     "ced9032f44c04a5a99fcd4bb33aab413": {
      "model_module": "@jupyter-widgets/base",
      "model_module_version": "1.2.0",
      "model_name": "LayoutModel",
      "state": {
       "_model_module": "@jupyter-widgets/base",
       "_model_module_version": "1.2.0",
       "_model_name": "LayoutModel",
       "_view_count": null,
       "_view_module": "@jupyter-widgets/base",
       "_view_module_version": "1.2.0",
       "_view_name": "LayoutView",
       "align_content": null,
       "align_items": null,
       "align_self": null,
       "border": null,
       "bottom": null,
       "display": null,
       "flex": "2",
       "flex_flow": null,
       "grid_area": null,
       "grid_auto_columns": null,
       "grid_auto_flow": null,
       "grid_auto_rows": null,
       "grid_column": null,
       "grid_gap": null,
       "grid_row": null,
       "grid_template_areas": null,
       "grid_template_columns": null,
       "grid_template_rows": null,
       "height": null,
       "justify_content": null,
       "justify_items": null,
       "left": null,
       "margin": null,
       "max_height": null,
       "max_width": null,
       "min_height": null,
       "min_width": null,
       "object_fit": null,
       "object_position": null,
       "order": null,
       "overflow": null,
       "overflow_x": null,
       "overflow_y": null,
       "padding": null,
       "right": null,
       "top": null,
       "visibility": null,
       "width": null
      }
     },
     "d16de7f307fa42e490f9c858b5bc39e3": {
      "model_module": "@jupyter-widgets/base",
      "model_module_version": "1.2.0",
      "model_name": "LayoutModel",
      "state": {
       "_model_module": "@jupyter-widgets/base",
       "_model_module_version": "1.2.0",
       "_model_name": "LayoutModel",
       "_view_count": null,
       "_view_module": "@jupyter-widgets/base",
       "_view_module_version": "1.2.0",
       "_view_name": "LayoutView",
       "align_content": null,
       "align_items": null,
       "align_self": null,
       "border": null,
       "bottom": null,
       "display": null,
       "flex": null,
       "flex_flow": null,
       "grid_area": null,
       "grid_auto_columns": null,
       "grid_auto_flow": null,
       "grid_auto_rows": null,
       "grid_column": null,
       "grid_gap": null,
       "grid_row": null,
       "grid_template_areas": null,
       "grid_template_columns": null,
       "grid_template_rows": null,
       "height": null,
       "justify_content": null,
       "justify_items": null,
       "left": null,
       "margin": null,
       "max_height": null,
       "max_width": null,
       "min_height": null,
       "min_width": null,
       "object_fit": null,
       "object_position": null,
       "order": null,
       "overflow": null,
       "overflow_x": null,
       "overflow_y": null,
       "padding": null,
       "right": null,
       "top": null,
       "visibility": null,
       "width": null
      }
     },
     "d2cba1ac1e1a453fa3edc1ad7a71f478": {
      "model_module": "@jupyter-widgets/base",
      "model_module_version": "1.2.0",
      "model_name": "LayoutModel",
      "state": {
       "_model_module": "@jupyter-widgets/base",
       "_model_module_version": "1.2.0",
       "_model_name": "LayoutModel",
       "_view_count": null,
       "_view_module": "@jupyter-widgets/base",
       "_view_module_version": "1.2.0",
       "_view_name": "LayoutView",
       "align_content": null,
       "align_items": null,
       "align_self": null,
       "border": null,
       "bottom": null,
       "display": null,
       "flex": null,
       "flex_flow": null,
       "grid_area": null,
       "grid_auto_columns": null,
       "grid_auto_flow": null,
       "grid_auto_rows": null,
       "grid_column": null,
       "grid_gap": null,
       "grid_row": null,
       "grid_template_areas": null,
       "grid_template_columns": null,
       "grid_template_rows": null,
       "height": null,
       "justify_content": null,
       "justify_items": null,
       "left": null,
       "margin": null,
       "max_height": null,
       "max_width": null,
       "min_height": null,
       "min_width": null,
       "object_fit": null,
       "object_position": null,
       "order": null,
       "overflow": null,
       "overflow_x": null,
       "overflow_y": null,
       "padding": null,
       "right": null,
       "top": null,
       "visibility": null,
       "width": null
      }
     },
     "d5f57438cc424e6098bb1bb0ce10ca2b": {
      "model_module": "@jupyter-widgets/controls",
      "model_module_version": "1.5.0",
      "model_name": "HBoxModel",
      "state": {
       "_dom_classes": [],
       "_model_module": "@jupyter-widgets/controls",
       "_model_module_version": "1.5.0",
       "_model_name": "HBoxModel",
       "_view_count": null,
       "_view_module": "@jupyter-widgets/controls",
       "_view_module_version": "1.5.0",
       "_view_name": "HBoxView",
       "box_style": "",
       "children": [
        "IPY_MODEL_17d133eb78e148759b8782748e2f5b3d",
        "IPY_MODEL_50e86dc735e94125864fa5dea9b19743",
        "IPY_MODEL_0045554d61a049c18baaecf04173f57b"
       ],
       "layout": "IPY_MODEL_13d035f0dae140e7ad1c4521934acb9b"
      }
     },
     "d74e2db2fd6f46749908259f5cb6386c": {
      "model_module": "@jupyter-widgets/controls",
      "model_module_version": "1.5.0",
      "model_name": "HTMLModel",
      "state": {
       "_dom_classes": [],
       "_model_module": "@jupyter-widgets/controls",
       "_model_module_version": "1.5.0",
       "_model_name": "HTMLModel",
       "_view_count": null,
       "_view_module": "@jupyter-widgets/controls",
       "_view_module_version": "1.5.0",
       "_view_name": "HTMLView",
       "description": "",
       "description_tooltip": null,
       "layout": "IPY_MODEL_fd53579bb47443a19ea158a5005e2e48",
       "placeholder": "​",
       "style": "IPY_MODEL_13ea05e81f204e648d5116dc56e0d2b7",
       "value": "Validation DataLoader 0: 100%"
      }
     },
     "d79cc2fe559f498db1a1b4162a2f406c": {
      "model_module": "@jupyter-widgets/controls",
      "model_module_version": "1.5.0",
      "model_name": "FloatProgressModel",
      "state": {
       "_dom_classes": [],
       "_model_module": "@jupyter-widgets/controls",
       "_model_module_version": "1.5.0",
       "_model_name": "FloatProgressModel",
       "_view_count": null,
       "_view_module": "@jupyter-widgets/controls",
       "_view_module_version": "1.5.0",
       "_view_name": "ProgressView",
       "bar_style": "success",
       "description": "",
       "description_tooltip": null,
       "layout": "IPY_MODEL_909ef479db3348f397720f7d1e8b52b1",
       "max": 242043056.0,
       "min": 0.0,
       "orientation": "horizontal",
       "style": "IPY_MODEL_45e02b1c9a5944e18463627ee778078c",
       "value": 242043056.0
      }
     },
     "d8fa7678310443eca938683ff949d89f": {
      "model_module": "@jupyter-widgets/base",
      "model_module_version": "1.2.0",
      "model_name": "LayoutModel",
      "state": {
       "_model_module": "@jupyter-widgets/base",
       "_model_module_version": "1.2.0",
       "_model_name": "LayoutModel",
       "_view_count": null,
       "_view_module": "@jupyter-widgets/base",
       "_view_module_version": "1.2.0",
       "_view_name": "LayoutView",
       "align_content": null,
       "align_items": null,
       "align_self": null,
       "border": null,
       "bottom": null,
       "display": null,
       "flex": null,
       "flex_flow": null,
       "grid_area": null,
       "grid_auto_columns": null,
       "grid_auto_flow": null,
       "grid_auto_rows": null,
       "grid_column": null,
       "grid_gap": null,
       "grid_row": null,
       "grid_template_areas": null,
       "grid_template_columns": null,
       "grid_template_rows": null,
       "height": null,
       "justify_content": null,
       "justify_items": null,
       "left": null,
       "margin": null,
       "max_height": null,
       "max_width": null,
       "min_height": null,
       "min_width": null,
       "object_fit": null,
       "object_position": null,
       "order": null,
       "overflow": null,
       "overflow_x": null,
       "overflow_y": null,
       "padding": null,
       "right": null,
       "top": null,
       "visibility": null,
       "width": null
      }
     },
     "d956c375572949b2b6d1b0e2b095e775": {
      "model_module": "@jupyter-widgets/base",
      "model_module_version": "1.2.0",
      "model_name": "LayoutModel",
      "state": {
       "_model_module": "@jupyter-widgets/base",
       "_model_module_version": "1.2.0",
       "_model_name": "LayoutModel",
       "_view_count": null,
       "_view_module": "@jupyter-widgets/base",
       "_view_module_version": "1.2.0",
       "_view_name": "LayoutView",
       "align_content": null,
       "align_items": null,
       "align_self": null,
       "border": null,
       "bottom": null,
       "display": null,
       "flex": null,
       "flex_flow": null,
       "grid_area": null,
       "grid_auto_columns": null,
       "grid_auto_flow": null,
       "grid_auto_rows": null,
       "grid_column": null,
       "grid_gap": null,
       "grid_row": null,
       "grid_template_areas": null,
       "grid_template_columns": null,
       "grid_template_rows": null,
       "height": null,
       "justify_content": null,
       "justify_items": null,
       "left": null,
       "margin": null,
       "max_height": null,
       "max_width": null,
       "min_height": null,
       "min_width": null,
       "object_fit": null,
       "object_position": null,
       "order": null,
       "overflow": null,
       "overflow_x": null,
       "overflow_y": null,
       "padding": null,
       "right": null,
       "top": null,
       "visibility": null,
       "width": null
      }
     },
     "d9a0e174d70f45ffb384bc06a6033d77": {
      "model_module": "@jupyter-widgets/controls",
      "model_module_version": "1.5.0",
      "model_name": "ProgressStyleModel",
      "state": {
       "_model_module": "@jupyter-widgets/controls",
       "_model_module_version": "1.5.0",
       "_model_name": "ProgressStyleModel",
       "_view_count": null,
       "_view_module": "@jupyter-widgets/base",
       "_view_module_version": "1.2.0",
       "_view_name": "StyleView",
       "bar_color": null,
       "description_width": ""
      }
     },
     "da60cbdc4ef148289db0f08d6c5193e0": {
      "model_module": "@jupyter-widgets/controls",
      "model_module_version": "1.5.0",
      "model_name": "DescriptionStyleModel",
      "state": {
       "_model_module": "@jupyter-widgets/controls",
       "_model_module_version": "1.5.0",
       "_model_name": "DescriptionStyleModel",
       "_view_count": null,
       "_view_module": "@jupyter-widgets/base",
       "_view_module_version": "1.2.0",
       "_view_name": "StyleView",
       "description_width": ""
      }
     },
     "db38a5dffac44f3188a5e087cfc9bbac": {
      "model_module": "@jupyter-widgets/controls",
      "model_module_version": "1.5.0",
      "model_name": "HBoxModel",
      "state": {
       "_dom_classes": [],
       "_model_module": "@jupyter-widgets/controls",
       "_model_module_version": "1.5.0",
       "_model_name": "HBoxModel",
       "_view_count": null,
       "_view_module": "@jupyter-widgets/controls",
       "_view_module_version": "1.5.0",
       "_view_name": "HBoxView",
       "box_style": "",
       "children": [
        "IPY_MODEL_653cfc2e2a45475f9b0600e16149b1e3",
        "IPY_MODEL_ffc329dbea704da4a100d7e5f333cf3d",
        "IPY_MODEL_b967f7a8bafd428c9943a9b54e8e2893"
       ],
       "layout": "IPY_MODEL_1f477bfde8764e2fa5dc40a20db8a1ab"
      }
     },
     "dbd62e9e0a994ad1a50c342f8aae29da": {
      "model_module": "@jupyter-widgets/base",
      "model_module_version": "1.2.0",
      "model_name": "LayoutModel",
      "state": {
       "_model_module": "@jupyter-widgets/base",
       "_model_module_version": "1.2.0",
       "_model_name": "LayoutModel",
       "_view_count": null,
       "_view_module": "@jupyter-widgets/base",
       "_view_module_version": "1.2.0",
       "_view_name": "LayoutView",
       "align_content": null,
       "align_items": null,
       "align_self": null,
       "border": null,
       "bottom": null,
       "display": null,
       "flex": "2",
       "flex_flow": null,
       "grid_area": null,
       "grid_auto_columns": null,
       "grid_auto_flow": null,
       "grid_auto_rows": null,
       "grid_column": null,
       "grid_gap": null,
       "grid_row": null,
       "grid_template_areas": null,
       "grid_template_columns": null,
       "grid_template_rows": null,
       "height": null,
       "justify_content": null,
       "justify_items": null,
       "left": null,
       "margin": null,
       "max_height": null,
       "max_width": null,
       "min_height": null,
       "min_width": null,
       "object_fit": null,
       "object_position": null,
       "order": null,
       "overflow": null,
       "overflow_x": null,
       "overflow_y": null,
       "padding": null,
       "right": null,
       "top": null,
       "visibility": null,
       "width": null
      }
     },
     "dee4afd9aa7b4167b7dfc9d785aa0406": {
      "model_module": "@jupyter-widgets/controls",
      "model_module_version": "1.5.0",
      "model_name": "DescriptionStyleModel",
      "state": {
       "_model_module": "@jupyter-widgets/controls",
       "_model_module_version": "1.5.0",
       "_model_name": "DescriptionStyleModel",
       "_view_count": null,
       "_view_module": "@jupyter-widgets/base",
       "_view_module_version": "1.2.0",
       "_view_name": "StyleView",
       "description_width": ""
      }
     },
     "df78ee75a7114015bb4224295f612314": {
      "model_module": "@jupyter-widgets/base",
      "model_module_version": "1.2.0",
      "model_name": "LayoutModel",
      "state": {
       "_model_module": "@jupyter-widgets/base",
       "_model_module_version": "1.2.0",
       "_model_name": "LayoutModel",
       "_view_count": null,
       "_view_module": "@jupyter-widgets/base",
       "_view_module_version": "1.2.0",
       "_view_name": "LayoutView",
       "align_content": null,
       "align_items": null,
       "align_self": null,
       "border": null,
       "bottom": null,
       "display": null,
       "flex": null,
       "flex_flow": null,
       "grid_area": null,
       "grid_auto_columns": null,
       "grid_auto_flow": null,
       "grid_auto_rows": null,
       "grid_column": null,
       "grid_gap": null,
       "grid_row": null,
       "grid_template_areas": null,
       "grid_template_columns": null,
       "grid_template_rows": null,
       "height": null,
       "justify_content": null,
       "justify_items": null,
       "left": null,
       "margin": null,
       "max_height": null,
       "max_width": null,
       "min_height": null,
       "min_width": null,
       "object_fit": null,
       "object_position": null,
       "order": null,
       "overflow": null,
       "overflow_x": null,
       "overflow_y": null,
       "padding": null,
       "right": null,
       "top": null,
       "visibility": null,
       "width": null
      }
     },
     "e0047e70963a4b5fa611bbdff9158f0a": {
      "model_module": "@jupyter-widgets/controls",
      "model_module_version": "1.5.0",
      "model_name": "FloatProgressModel",
      "state": {
       "_dom_classes": [],
       "_model_module": "@jupyter-widgets/controls",
       "_model_module_version": "1.5.0",
       "_model_name": "FloatProgressModel",
       "_view_count": null,
       "_view_module": "@jupyter-widgets/controls",
       "_view_module_version": "1.5.0",
       "_view_name": "ProgressView",
       "bar_style": "success",
       "description": "",
       "description_tooltip": null,
       "layout": "IPY_MODEL_a97e0ce69d8c46329abbef2cee8927d5",
       "max": 147.0,
       "min": 0.0,
       "orientation": "horizontal",
       "style": "IPY_MODEL_84920c4fa0c14247997fb9c16afd382e",
       "value": 147.0
      }
     },
     "e0f452253c8c452bbfad838d7175573d": {
      "model_module": "@jupyter-widgets/base",
      "model_module_version": "1.2.0",
      "model_name": "LayoutModel",
      "state": {
       "_model_module": "@jupyter-widgets/base",
       "_model_module_version": "1.2.0",
       "_model_name": "LayoutModel",
       "_view_count": null,
       "_view_module": "@jupyter-widgets/base",
       "_view_module_version": "1.2.0",
       "_view_name": "LayoutView",
       "align_content": null,
       "align_items": null,
       "align_self": null,
       "border": null,
       "bottom": null,
       "display": null,
       "flex": "2",
       "flex_flow": null,
       "grid_area": null,
       "grid_auto_columns": null,
       "grid_auto_flow": null,
       "grid_auto_rows": null,
       "grid_column": null,
       "grid_gap": null,
       "grid_row": null,
       "grid_template_areas": null,
       "grid_template_columns": null,
       "grid_template_rows": null,
       "height": null,
       "justify_content": null,
       "justify_items": null,
       "left": null,
       "margin": null,
       "max_height": null,
       "max_width": null,
       "min_height": null,
       "min_width": null,
       "object_fit": null,
       "object_position": null,
       "order": null,
       "overflow": null,
       "overflow_x": null,
       "overflow_y": null,
       "padding": null,
       "right": null,
       "top": null,
       "visibility": null,
       "width": null
      }
     },
     "e414d6cb0f9e416a8c80babab828ed6d": {
      "model_module": "@jupyter-widgets/base",
      "model_module_version": "1.2.0",
      "model_name": "LayoutModel",
      "state": {
       "_model_module": "@jupyter-widgets/base",
       "_model_module_version": "1.2.0",
       "_model_name": "LayoutModel",
       "_view_count": null,
       "_view_module": "@jupyter-widgets/base",
       "_view_module_version": "1.2.0",
       "_view_name": "LayoutView",
       "align_content": null,
       "align_items": null,
       "align_self": null,
       "border": null,
       "bottom": null,
       "display": null,
       "flex": null,
       "flex_flow": null,
       "grid_area": null,
       "grid_auto_columns": null,
       "grid_auto_flow": null,
       "grid_auto_rows": null,
       "grid_column": null,
       "grid_gap": null,
       "grid_row": null,
       "grid_template_areas": null,
       "grid_template_columns": null,
       "grid_template_rows": null,
       "height": null,
       "justify_content": null,
       "justify_items": null,
       "left": null,
       "margin": null,
       "max_height": null,
       "max_width": null,
       "min_height": null,
       "min_width": null,
       "object_fit": null,
       "object_position": null,
       "order": null,
       "overflow": null,
       "overflow_x": null,
       "overflow_y": null,
       "padding": null,
       "right": null,
       "top": null,
       "visibility": null,
       "width": null
      }
     },
     "e475b9b1bce343f4aeb275ad33f6c77c": {
      "model_module": "@jupyter-widgets/controls",
      "model_module_version": "1.5.0",
      "model_name": "HBoxModel",
      "state": {
       "_dom_classes": [],
       "_model_module": "@jupyter-widgets/controls",
       "_model_module_version": "1.5.0",
       "_model_name": "HBoxModel",
       "_view_count": null,
       "_view_module": "@jupyter-widgets/controls",
       "_view_module_version": "1.5.0",
       "_view_name": "HBoxView",
       "box_style": "",
       "children": [
        "IPY_MODEL_0c2410ab30be47b580895062f6c89c0c",
        "IPY_MODEL_f17b06ad5b404ac2a0734438cd92d780",
        "IPY_MODEL_fc20f552db1c46dcb7b073d846be019c"
       ],
       "layout": "IPY_MODEL_1fcad76753df47cea34349b261d74ef5"
      }
     },
     "e6d074eaabcd4007a706450e222a3ea2": {
      "model_module": "@jupyter-widgets/controls",
      "model_module_version": "1.5.0",
      "model_name": "DescriptionStyleModel",
      "state": {
       "_model_module": "@jupyter-widgets/controls",
       "_model_module_version": "1.5.0",
       "_model_name": "DescriptionStyleModel",
       "_view_count": null,
       "_view_module": "@jupyter-widgets/base",
       "_view_module_version": "1.2.0",
       "_view_name": "StyleView",
       "description_width": ""
      }
     },
     "ec9add81d236493a961177923361c854": {
      "model_module": "@jupyter-widgets/base",
      "model_module_version": "1.2.0",
      "model_name": "LayoutModel",
      "state": {
       "_model_module": "@jupyter-widgets/base",
       "_model_module_version": "1.2.0",
       "_model_name": "LayoutModel",
       "_view_count": null,
       "_view_module": "@jupyter-widgets/base",
       "_view_module_version": "1.2.0",
       "_view_name": "LayoutView",
       "align_content": null,
       "align_items": null,
       "align_self": null,
       "border": null,
       "bottom": null,
       "display": null,
       "flex": null,
       "flex_flow": null,
       "grid_area": null,
       "grid_auto_columns": null,
       "grid_auto_flow": null,
       "grid_auto_rows": null,
       "grid_column": null,
       "grid_gap": null,
       "grid_row": null,
       "grid_template_areas": null,
       "grid_template_columns": null,
       "grid_template_rows": null,
       "height": null,
       "justify_content": null,
       "justify_items": null,
       "left": null,
       "margin": null,
       "max_height": null,
       "max_width": null,
       "min_height": null,
       "min_width": null,
       "object_fit": null,
       "object_position": null,
       "order": null,
       "overflow": null,
       "overflow_x": null,
       "overflow_y": null,
       "padding": null,
       "right": null,
       "top": null,
       "visibility": null,
       "width": null
      }
     },
     "efc712efdcfb43849a541bf802b7ab9e": {
      "model_module": "@jupyter-widgets/base",
      "model_module_version": "1.2.0",
      "model_name": "LayoutModel",
      "state": {
       "_model_module": "@jupyter-widgets/base",
       "_model_module_version": "1.2.0",
       "_model_name": "LayoutModel",
       "_view_count": null,
       "_view_module": "@jupyter-widgets/base",
       "_view_module_version": "1.2.0",
       "_view_name": "LayoutView",
       "align_content": null,
       "align_items": null,
       "align_self": null,
       "border": null,
       "bottom": null,
       "display": null,
       "flex": null,
       "flex_flow": null,
       "grid_area": null,
       "grid_auto_columns": null,
       "grid_auto_flow": null,
       "grid_auto_rows": null,
       "grid_column": null,
       "grid_gap": null,
       "grid_row": null,
       "grid_template_areas": null,
       "grid_template_columns": null,
       "grid_template_rows": null,
       "height": null,
       "justify_content": null,
       "justify_items": null,
       "left": null,
       "margin": null,
       "max_height": null,
       "max_width": null,
       "min_height": null,
       "min_width": null,
       "object_fit": null,
       "object_position": null,
       "order": null,
       "overflow": null,
       "overflow_x": null,
       "overflow_y": null,
       "padding": null,
       "right": null,
       "top": null,
       "visibility": null,
       "width": null
      }
     },
     "f17b06ad5b404ac2a0734438cd92d780": {
      "model_module": "@jupyter-widgets/controls",
      "model_module_version": "1.5.0",
      "model_name": "FloatProgressModel",
      "state": {
       "_dom_classes": [],
       "_model_module": "@jupyter-widgets/controls",
       "_model_module_version": "1.5.0",
       "_model_name": "FloatProgressModel",
       "_view_count": null,
       "_view_module": "@jupyter-widgets/controls",
       "_view_module_version": "1.5.0",
       "_view_name": "ProgressView",
       "bar_style": "",
       "description": "",
       "description_tooltip": null,
       "layout": "IPY_MODEL_e0f452253c8c452bbfad838d7175573d",
       "max": 20302.0,
       "min": 0.0,
       "orientation": "horizontal",
       "style": "IPY_MODEL_c456c9693d5b4643ae00a395f0b851ad",
       "value": 20302.0
      }
     },
     "f4001cacf74749c6b1cda789b0289bd3": {
      "model_module": "@jupyter-widgets/controls",
      "model_module_version": "1.5.0",
      "model_name": "ProgressStyleModel",
      "state": {
       "_model_module": "@jupyter-widgets/controls",
       "_model_module_version": "1.5.0",
       "_model_name": "ProgressStyleModel",
       "_view_count": null,
       "_view_module": "@jupyter-widgets/base",
       "_view_module_version": "1.2.0",
       "_view_name": "StyleView",
       "bar_color": null,
       "description_width": ""
      }
     },
     "f4a64cb7d86b401981b28abb96b63da1": {
      "model_module": "@jupyter-widgets/controls",
      "model_module_version": "1.5.0",
      "model_name": "HTMLModel",
      "state": {
       "_dom_classes": [],
       "_model_module": "@jupyter-widgets/controls",
       "_model_module_version": "1.5.0",
       "_model_name": "HTMLModel",
       "_view_count": null,
       "_view_module": "@jupyter-widgets/controls",
       "_view_module_version": "1.5.0",
       "_view_name": "HTMLView",
       "description": "",
       "description_tooltip": null,
       "layout": "IPY_MODEL_ec9add81d236493a961177923361c854",
       "placeholder": "​",
       "style": "IPY_MODEL_88bbc5c2da1f48ea910ee3df5f288744",
       "value": " 11877/11877 [04:10&lt;00:00, 47.38it/s]"
      }
     },
     "f695fa9bb37b4c2ba175ee14a181e369": {
      "model_module": "@jupyter-widgets/base",
      "model_module_version": "1.2.0",
      "model_name": "LayoutModel",
      "state": {
       "_model_module": "@jupyter-widgets/base",
       "_model_module_version": "1.2.0",
       "_model_name": "LayoutModel",
       "_view_count": null,
       "_view_module": "@jupyter-widgets/base",
       "_view_module_version": "1.2.0",
       "_view_name": "LayoutView",
       "align_content": null,
       "align_items": null,
       "align_self": null,
       "border": null,
       "bottom": null,
       "display": null,
       "flex": null,
       "flex_flow": null,
       "grid_area": null,
       "grid_auto_columns": null,
       "grid_auto_flow": null,
       "grid_auto_rows": null,
       "grid_column": null,
       "grid_gap": null,
       "grid_row": null,
       "grid_template_areas": null,
       "grid_template_columns": null,
       "grid_template_rows": null,
       "height": null,
       "justify_content": null,
       "justify_items": null,
       "left": null,
       "margin": null,
       "max_height": null,
       "max_width": null,
       "min_height": null,
       "min_width": null,
       "object_fit": null,
       "object_position": null,
       "order": null,
       "overflow": null,
       "overflow_x": null,
       "overflow_y": null,
       "padding": null,
       "right": null,
       "top": null,
       "visibility": null,
       "width": null
      }
     },
     "f7811adb02384448beceecf1f7013061": {
      "model_module": "@jupyter-widgets/controls",
      "model_module_version": "1.5.0",
      "model_name": "DescriptionStyleModel",
      "state": {
       "_model_module": "@jupyter-widgets/controls",
       "_model_module_version": "1.5.0",
       "_model_name": "DescriptionStyleModel",
       "_view_count": null,
       "_view_module": "@jupyter-widgets/base",
       "_view_module_version": "1.2.0",
       "_view_name": "StyleView",
       "description_width": ""
      }
     },
     "fb7aadf7b8f645539774c90bf19f368c": {
      "model_module": "@jupyter-widgets/controls",
      "model_module_version": "1.5.0",
      "model_name": "HTMLModel",
      "state": {
       "_dom_classes": [],
       "_model_module": "@jupyter-widgets/controls",
       "_model_module_version": "1.5.0",
       "_model_name": "HTMLModel",
       "_view_count": null,
       "_view_module": "@jupyter-widgets/controls",
       "_view_module_version": "1.5.0",
       "_view_name": "HTMLView",
       "description": "",
       "description_tooltip": null,
       "layout": "IPY_MODEL_bf1a77541bff4b1cb4fd8c5b96669fe9",
       "placeholder": "​",
       "style": "IPY_MODEL_dee4afd9aa7b4167b7dfc9d785aa0406",
       "value": "model.safetensors: 100%"
      }
     },
     "fc20f552db1c46dcb7b073d846be019c": {
      "model_module": "@jupyter-widgets/controls",
      "model_module_version": "1.5.0",
      "model_name": "HTMLModel",
      "state": {
       "_dom_classes": [],
       "_model_module": "@jupyter-widgets/controls",
       "_model_module_version": "1.5.0",
       "_model_name": "HTMLModel",
       "_view_count": null,
       "_view_module": "@jupyter-widgets/controls",
       "_view_module_version": "1.5.0",
       "_view_name": "HTMLView",
       "description": "",
       "description_tooltip": null,
       "layout": "IPY_MODEL_efc712efdcfb43849a541bf802b7ab9e",
       "placeholder": "​",
       "style": "IPY_MODEL_a0a401bda00d4d889696312531434333",
       "value": " 20302/20302 [07:45&lt;00:00, 43.62it/s]"
      }
     },
     "fcc7fb0904ea48519e0f021a5674e829": {
      "model_module": "@jupyter-widgets/controls",
      "model_module_version": "1.5.0",
      "model_name": "DescriptionStyleModel",
      "state": {
       "_model_module": "@jupyter-widgets/controls",
       "_model_module_version": "1.5.0",
       "_model_name": "DescriptionStyleModel",
       "_view_count": null,
       "_view_module": "@jupyter-widgets/base",
       "_view_module_version": "1.2.0",
       "_view_name": "StyleView",
       "description_width": ""
      }
     },
     "fd032d22518341fe98fe266ece3c7a9b": {
      "model_module": "@jupyter-widgets/base",
      "model_module_version": "1.2.0",
      "model_name": "LayoutModel",
      "state": {
       "_model_module": "@jupyter-widgets/base",
       "_model_module_version": "1.2.0",
       "_model_name": "LayoutModel",
       "_view_count": null,
       "_view_module": "@jupyter-widgets/base",
       "_view_module_version": "1.2.0",
       "_view_name": "LayoutView",
       "align_content": null,
       "align_items": null,
       "align_self": null,
       "border": null,
       "bottom": null,
       "display": null,
       "flex": null,
       "flex_flow": null,
       "grid_area": null,
       "grid_auto_columns": null,
       "grid_auto_flow": null,
       "grid_auto_rows": null,
       "grid_column": null,
       "grid_gap": null,
       "grid_row": null,
       "grid_template_areas": null,
       "grid_template_columns": null,
       "grid_template_rows": null,
       "height": null,
       "justify_content": null,
       "justify_items": null,
       "left": null,
       "margin": null,
       "max_height": null,
       "max_width": null,
       "min_height": null,
       "min_width": null,
       "object_fit": null,
       "object_position": null,
       "order": null,
       "overflow": null,
       "overflow_x": null,
       "overflow_y": null,
       "padding": null,
       "right": null,
       "top": null,
       "visibility": null,
       "width": null
      }
     },
     "fd53579bb47443a19ea158a5005e2e48": {
      "model_module": "@jupyter-widgets/base",
      "model_module_version": "1.2.0",
      "model_name": "LayoutModel",
      "state": {
       "_model_module": "@jupyter-widgets/base",
       "_model_module_version": "1.2.0",
       "_model_name": "LayoutModel",
       "_view_count": null,
       "_view_module": "@jupyter-widgets/base",
       "_view_module_version": "1.2.0",
       "_view_name": "LayoutView",
       "align_content": null,
       "align_items": null,
       "align_self": null,
       "border": null,
       "bottom": null,
       "display": null,
       "flex": null,
       "flex_flow": null,
       "grid_area": null,
       "grid_auto_columns": null,
       "grid_auto_flow": null,
       "grid_auto_rows": null,
       "grid_column": null,
       "grid_gap": null,
       "grid_row": null,
       "grid_template_areas": null,
       "grid_template_columns": null,
       "grid_template_rows": null,
       "height": null,
       "justify_content": null,
       "justify_items": null,
       "left": null,
       "margin": null,
       "max_height": null,
       "max_width": null,
       "min_height": null,
       "min_width": null,
       "object_fit": null,
       "object_position": null,
       "order": null,
       "overflow": null,
       "overflow_x": null,
       "overflow_y": null,
       "padding": null,
       "right": null,
       "top": null,
       "visibility": null,
       "width": null
      }
     },
     "fd5c7946242144d89f1a54b456d0a911": {
      "model_module": "@jupyter-widgets/controls",
      "model_module_version": "1.5.0",
      "model_name": "FloatProgressModel",
      "state": {
       "_dom_classes": [],
       "_model_module": "@jupyter-widgets/controls",
       "_model_module_version": "1.5.0",
       "_model_name": "FloatProgressModel",
       "_view_count": null,
       "_view_module": "@jupyter-widgets/controls",
       "_view_module_version": "1.5.0",
       "_view_name": "ProgressView",
       "bar_style": "",
       "description": "",
       "description_tooltip": null,
       "layout": "IPY_MODEL_0760f62946ed4bf2aff7af8bd84cd3d3",
       "max": 20302.0,
       "min": 0.0,
       "orientation": "horizontal",
       "style": "IPY_MODEL_f4001cacf74749c6b1cda789b0289bd3",
       "value": 20302.0
      }
     },
     "fd8dc1b4272840d19e671c019534ed3a": {
      "model_module": "@jupyter-widgets/base",
      "model_module_version": "1.2.0",
      "model_name": "LayoutModel",
      "state": {
       "_model_module": "@jupyter-widgets/base",
       "_model_module_version": "1.2.0",
       "_model_name": "LayoutModel",
       "_view_count": null,
       "_view_module": "@jupyter-widgets/base",
       "_view_module_version": "1.2.0",
       "_view_name": "LayoutView",
       "align_content": null,
       "align_items": null,
       "align_self": null,
       "border": null,
       "bottom": null,
       "display": null,
       "flex": "2",
       "flex_flow": null,
       "grid_area": null,
       "grid_auto_columns": null,
       "grid_auto_flow": null,
       "grid_auto_rows": null,
       "grid_column": null,
       "grid_gap": null,
       "grid_row": null,
       "grid_template_areas": null,
       "grid_template_columns": null,
       "grid_template_rows": null,
       "height": null,
       "justify_content": null,
       "justify_items": null,
       "left": null,
       "margin": null,
       "max_height": null,
       "max_width": null,
       "min_height": null,
       "min_width": null,
       "object_fit": null,
       "object_position": null,
       "order": null,
       "overflow": null,
       "overflow_x": null,
       "overflow_y": null,
       "padding": null,
       "right": null,
       "top": null,
       "visibility": null,
       "width": null
      }
     },
     "ffc329dbea704da4a100d7e5f333cf3d": {
      "model_module": "@jupyter-widgets/controls",
      "model_module_version": "1.5.0",
      "model_name": "FloatProgressModel",
      "state": {
       "_dom_classes": [],
       "_model_module": "@jupyter-widgets/controls",
       "_model_module_version": "1.5.0",
       "_model_name": "FloatProgressModel",
       "_view_count": null,
       "_view_module": "@jupyter-widgets/controls",
       "_view_module_version": "1.5.0",
       "_view_name": "ProgressView",
       "bar_style": "success",
       "description": "",
       "description_tooltip": null,
       "layout": "IPY_MODEL_4ad10c49def64b0b9e178407751676cb",
       "max": 791656.0,
       "min": 0.0,
       "orientation": "horizontal",
       "style": "IPY_MODEL_221f6440e00a43fe849c4b02cc6cb88e",
       "value": 791656.0
      }
     }
    },
    "version_major": 2,
    "version_minor": 0
   }
  }
 },
 "nbformat": 4,
 "nbformat_minor": 5
}
