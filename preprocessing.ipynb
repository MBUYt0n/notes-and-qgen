{
  "nbformat": 4,
  "nbformat_minor": 0,
  "metadata": {
    "colab": {
      "provenance": []
    },
    "kernelspec": {
      "name": "python3",
      "display_name": "Python 3"
    },
    "language_info": {
      "name": "python"
    }
  },
  "cells": [
    {
      "cell_type": "markdown",
      "source": [
        "#Preprocessing"
      ],
      "metadata": {
        "id": "zuWtBT5QJEXI"
      }
    },
    {
      "cell_type": "code",
      "execution_count": null,
      "metadata": {
        "id": "b8S81CfyzVfy",
        "colab": {
          "base_uri": "https://localhost:8080/"
        },
        "outputId": "eb2466e8-2882-40cf-ffe7-ff58feb82a06"
      },
      "outputs": [
        {
          "output_type": "stream",
          "name": "stdout",
          "text": [
            "Requirement already satisfied: nltk in /usr/local/lib/python3.10/dist-packages (3.8.1)\n",
            "Requirement already satisfied: click in /usr/local/lib/python3.10/dist-packages (from nltk) (8.1.7)\n",
            "Requirement already satisfied: joblib in /usr/local/lib/python3.10/dist-packages (from nltk) (1.4.0)\n",
            "Requirement already satisfied: regex>=2021.8.3 in /usr/local/lib/python3.10/dist-packages (from nltk) (2023.12.25)\n",
            "Requirement already satisfied: tqdm in /usr/local/lib/python3.10/dist-packages (from nltk) (4.66.2)\n"
          ]
        }
      ],
      "source": [
        "%pip install nltk\n",
        "import nltk\n",
        "from nltk.corpus import stopwords\n",
        "from nltk.tokenize import word_tokenize\n",
        "from nltk.stem import WordNetLemmatizer\n",
        "import string"
      ]
    },
    {
      "cell_type": "code",
      "source": [
        "nltk.download('punkt')\n",
        "nltk.download('stopwords')\n",
        "nltk.download('wordnet')"
      ],
      "metadata": {
        "id": "EQCNSyppzgOe",
        "colab": {
          "base_uri": "https://localhost:8080/"
        },
        "outputId": "952a7484-29b2-4c7b-c400-92d4f41bca2a"
      },
      "execution_count": null,
      "outputs": [
        {
          "output_type": "stream",
          "name": "stderr",
          "text": [
            "[nltk_data] Downloading package punkt to /root/nltk_data...\n",
            "[nltk_data]   Unzipping tokenizers/punkt.zip.\n",
            "[nltk_data] Downloading package stopwords to /root/nltk_data...\n",
            "[nltk_data]   Unzipping corpora/stopwords.zip.\n",
            "[nltk_data] Downloading package wordnet to /root/nltk_data...\n"
          ]
        },
        {
          "output_type": "execute_result",
          "data": {
            "text/plain": [
              "True"
            ]
          },
          "metadata": {},
          "execution_count": 2
        }
      ]
    },
    {
      "cell_type": "code",
      "source": [
        "corpus = [\"The topic for this video is heap. Under this topic we are going to learn about these things. I will be explaining these things that is array representation of bioretree's complete binary heap, how to insert and delete in heap, then heap sort. There's one of the important topic and heapify.\",\n",
        " 'The courses are suitable for academics as well as for interviews. C++ programming one course is there. That is from beginners to advanced level. You can learn up to the level of interview you can crack any interview. Then data structure course using C and C++ and some algorithms are there.',\n",
        " 'those courses is given in the description. You can check the description and there is a discount code is there. That is around $10 or $11. If more discounts are applicable, UDEMI will give you that discount.',\n",
        " 'For storing a binary tree, we have to take care of two things. One is we must store all the elements. Second is the relationship between them. Who is a parent, who is a child and who is left child, right child. So how they are preserved? Watch here.',\n",
        " 'The elements are stored by following the formula. So instead of using the formula, one thing we do is we fill them level by level, A, B, C, D, E, F, G, G. So that is it. So these formulas are automatically followed.',\n",
        " 'Left child, right child and parent formulas are followed automatically. Fill them level by level, A, B, C, D, E, 3 ends here. If any element is missing, I should leave a gap.',\n",
        " \"this place must be blank and D should be filled here. So without following formulas, if you want to fill them, then make sure that if there are missing nodes, you leave a blank there. So that's all about our representation of binary tree that is done using these formulas. These formulas are for maintaining relationship and the elements are as it is stored in an array.\",\n",
        " 'A full binary tree can have 2 power H plus 1 minus 1 number of nodes, maximum these many nodes. Even if there is a single missing element, it is not a complete binary tree. If you check the first and the last element, there is no missing element.',\n",
        " 'n between the elements. It is from first element to last element in between anywhere. After the last element space is there, then there is no problem. If I remove this node, then it is not a complete binary, this is missing. So no node must be missing.',\n",
        " 'A complete binary is a full binary up to height h minus 1. A complete binary of height h, height h is already a full Binary. Last level, the elements are filled from left to right. If you are getting gaps, it is not a complete binary.',\n",
        " 'complete binary. If you start from left side, then one, two, no node is missing. So it is a complete binary tree. Take this one, root is one, the next level two nodes, next level four are there, all four are not there, but left hand side, the extreme left side is there.',\n",
        " 'then this node, then this node,. then we can have this. So we should have the nodes from left to right, but the three nodes are missing there, it is not a complete binary. So if you represent this in an array, let us say this is one, two, three, and this is four, then one, 2, 3, gap, gap and then four. So you will get three blank spaces in between the elements.',\n",
        " 'The height of a complete binary will always be minimum only that is log n. A full binary tree is a full as well as it is a complete Binary tree. A complete binary is not going to the next level unless one of the level is filled, unless this is filled we will not go to next level.',\n",
        " 'are 16 are smaller than 20. So it means every parent is having the value greater than all its descendants. So a road will have the largest value that is maximum value. If the elements are arranged like this, then it is called as max heap.',\n",
        " 'peat, min heap is a complete binary satisfying the condition that every node is having the element smaller than or equal to all its descendants. So there are two types of heap, max heap and min heap. Whatever we have to study will study upon one heap and same thing applies on the next heap also.',\n",
        " 'nsert the 60 in this max heap. Root should have the largest element. So 60 should come in root.',\n",
        " 'Every node should have the value greater than all its descendents. But you see 60 is there. That is the child of 15 wrong. Then what to do? Adjust the element. Make it as a heap or insert it in a heap. How? Compare with the parent.',\n",
        " '60 is compared with all its ancestors and it will reach its right place. So in an array, if you see 60 was here. So this 15 went there and 60 came here. And again 60 will go up and 30 will come down. So we adjust the element like this and 60 comes here.',\n",
        " 'The time taken for inserting one element in a heap is minimum big of 1 and maximum is log n. Minimum time is no swapping is required. Maximum the swapping requires depends on the height of a tree.',\n",
        " 'heap. When we are inserting we have to send the element upwards. First we add the new element as a leaf. Then we adjust it by comparing with the ancestors. So element moves from leaf towards root. This is the important thing.',\n",
        " 'The best apple among all fresh one is kept on the top. Same concept is used in heap also. So all these elements are there which is the top most element best element what is best for us maximum element.',\n",
        " 'that 30 should go up because this is bigger okay 30 will go up then who will come at the place of 30 15. So if 15 goes here 30 goes here then this node is gone. If this nodes is gone is it working like a complete binary? No. So you have to be careful for preserving complete binary property then what to do.',\n",
        " 'complete binary but not a max heap. So we have to adjust the elements okay we will adjust the element that is not a big deal maintaining complete binary properties very important. So let us check how to do this. Compared children of this 16 that is new root which child is greater. 30 is greater so 30 will take its place 16 will come into its place. So here 30 goes here 20 and 8 remains 16 comes here and 15 and 10 as it is.',\n",
        " 'In delayed we remove root and the last element in complete bioentival take the place and we push the element downwards towards leave and adjust the elements to form a max heave. So we have adjusted downwards right. So from root towards leave if you remember in insert the adjustment was done from leave towards root but now the adjustment is done from root to leave.',\n",
        " 'The maximum adjustment you have to do that depends on the height. So in both insert and delete adjustment is done but the directions are different. From max heave whenever you delete you get the next largest element from the heap.',\n",
        " 'Ten carefully right see this is important. Here the array size was 7. One element is deleted. Now what is the heap size? 6. Heave is still 6 only from 1 to 6. 7th place in an array is free that is not a part of heave yes.',\n",
        " 'If you have a heap then delete the element and fill it in the empty place obtain after deletion so if you go on filling the elements there then automatically gets sorted so from the heap go on deleting the elements and start filling them in free spaces so this is heave sort. there now 30 keep it here next free place if I do this what happens what happens next element will be 20 next elements will be 10 and so on see this 16 I think is so it will be so on so what happens you we are getting the elements largest the next largest.',\n",
        " 'sort have two steps for the given set of number first of all create a heap then delete all the elements from the heap first step create aheap second and step delete all elements from a heap.',\n",
        " 'here 20 here so rest of the elements I am not writing them okay I will be writing one I willbe writing one by one now inserting 20 how do insert already have shown you compare with the ancestor that is parent and its parent and so on.',\n",
        " 'as 1 so compared with the parent 15 is smaller so all the day it is in the max shape form we do not have to adjust so till here we got a heap now insert the next element 30.',\n",
        " 'Each element was inserted at a next free space and it was moved upwards and we got a max heap now before going to the next step let us analyze how much time it has taken we have inserted an elements total an elements we haveinserted. How much time takes for inserting an element in a heap depends on the height what is height of a complete monetary or a heap it is login so an elements each element we assume that it is moved up to the root so it is Login so the time taken is an log n so this was the heap creation first step now from that heap I will be going on deleting the elements so this place I will show you how the elements are deleted and they',\n",
        " \"s delete the elements now second step for heap sort already we have created a heap already we've created aheap. Now let us delete the element so we know very well how to delete theelement so in this let usdelete so which element get deleted 40 gets deleted 40 is gone out then who will take its place last 20 this will take the place 20 will go in its place.\",\n",
        " 'e heap are 30 20 20 15 and 10 heap is till four elements only 40 which was deleted I will put it here at a free space that is not a part of heap now delete next element. Next delete one more element which element get deleted 20 is deleted from the heap.',\n",
        " 'There are only two elements already I have 40 at the last and 30 at the second last place one more free space I got there I can insert 20 so just a store 20 I should not say insert just I have stored 20 there kept it 20 there now these elements are deleted from the heap.',\n",
        " \"If the elements are given then create a heap then second step gone deleting the element and store the element at a free space we are obtaining after deleted the element. Finally the elements is sorted so that's how the Elements are sorted so the heap is sought first step.\",\n",
        " \"lement takes how much time for deletion also it takes log and time we have already seen it so that is n log n so n logN for creation n log N for deletion so total how much to n logn and this is big of n log \\xa0n log n right two times of log n is also dependent on n log\\xa0n so the time is order of nlog n or big of\\xa0nlog n so heap sort takes n log m time so that's it this is heap sort now I have to explain you heapy five and heapy\\xa0five is a process of creating a heap already we have created a heap how it is different it's different how it\\xa0is\",\n",
        " 'l do the same thing but the procedure was inserting an element in the leaf and adjusting upwards now let us see how heapy five works. We inserted starting from this element so we inserted except this element we inserted 20 15 12 then inserted 12 then 40 then 25 then 18 one by one.',\n",
        " \"from top towards leaf that procedure will follow let us follow the procedure now I am explaining heapy five watch this first go to element 18 look down there are no children so only a single element don't look at all other nodes just 18 and it's descendants there areno descendants so 18 is a heap yes then go to next element 25 25 look downwards it's a heap there is nothing there is no children it's alone it'sA heap 40 is a heapy 40 next element 40 nextelement 12 downwards it'm a heap now you will understand what does it mean.\",\n",
        " \"ement right this one look downwards is it a max heap no adjust this one so compare with the children 40 is greater so 20 will come here 40 will go up right so 40 this will be changed to 20 and this will become 40 so I have just adjust just two elements now the after second element first element here only this element is not in a heap so adjusted compare with children 40's greater so 40 goes up 10 comes here.\",\n",
        " \"n is different that's all right and what's the time taken by this one analytically the time Taken by this heapify procedure is big of n big of theta omega whatever you want notation you use anything commonly we use big so this isbig of n. Next we will see priority cues now priority cue priority cue so actually humans fee 4 but priority humans it's not fee 4 strictly the elements will have priority.\",\n",
        " ' priority cue elements are inserted with their priority when you delete we want higher priority element. Priority cue is mostly used in algorithms and in operating system.',\n",
        " ' priority cue elements they value itself is priority and there are two methods of giving priority smaller number higher priority or larger number higherpriority okay now let us see how to insert and delete.',\n",
        " 'Heap is a best data structure for implementing priority cue. If you have smaller number higher priority then creator min heap if you have larger number higherpriority then use max heap. For one element insertion how much time it takes log n for insertion and log n time for deletion.',\n",
        " \"o predicate can be implemented using heap so either min heap or max heap if you want always smaller number min heap ifYou want always larger number max so that's all in this video. If you want to take the course you can check in the description and you can buy the course for C++ and data structure subject there are two different courses right.\"]"
      ],
      "metadata": {
        "id": "p_EnJoYlKoF8"
      },
      "execution_count": null,
      "outputs": []
    },
    {
      "cell_type": "code",
      "source": [
        "def preprocess_text_nltk(text):\n",
        "    tokens = word_tokenize(text)\n",
        "    tokens = [token.lower() for token in tokens]\n",
        "    tokens = [token for token in tokens if token.isalnum()]\n",
        "    stop_words = set(stopwords.words('english'))\n",
        "    tokens = [token for token in tokens if token not in stop_words]\n",
        "    lemmatizer = WordNetLemmatizer()\n",
        "    tokens = [lemmatizer.lemmatize(token) for token in tokens]\n",
        "    return \" \".join(tokens)\n",
        "\n",
        "preprocessed = [preprocess_text_nltk(text) for text in corpus]"
      ],
      "metadata": {
        "id": "qNExO4lELDbi"
      },
      "execution_count": null,
      "outputs": []
    },
    {
      "cell_type": "markdown",
      "source": [
        "#NER"
      ],
      "metadata": {
        "id": "yrK1Wqe0MtFg"
      }
    },
    {
      "cell_type": "code",
      "source": [
        "import spacy\n",
        "from collections import Counter"
      ],
      "metadata": {
        "id": "uH76AcqeL3QJ"
      },
      "execution_count": null,
      "outputs": []
    },
    {
      "cell_type": "code",
      "source": [
        "nlp = spacy.load(\"en_core_web_sm\")"
      ],
      "metadata": {
        "id": "3nvUFe8iMytv"
      },
      "execution_count": null,
      "outputs": []
    },
    {
      "cell_type": "code",
      "source": [
        "def extract_keywords(text):\n",
        "    doc = nlp(text)\n",
        "    keywords = {}\n",
        "    for ent in doc.ents:\n",
        "        if ent.text.lower() not in keywords:\n",
        "            keywords[ent.text.lower()] = 1\n",
        "        else:\n",
        "            keywords[ent.text.lower()] += 1\n",
        "    return keywords"
      ],
      "metadata": {
        "id": "0uPVXSZfOjj6"
      },
      "execution_count": null,
      "outputs": []
    },
    {
      "cell_type": "code",
      "source": [
        "all_keywords1 = {}\n",
        "\n",
        "for text in preprocessed:\n",
        "    keywords = extract_keywords(text)\n",
        "    all_keywords1.update(keywords)\n",
        "\n",
        "for keyword, count in all_keywords1.items():\n",
        "    print(f\"{keyword} : {count}\")\n"
      ],
      "metadata": {
        "id": "TA_9NWGfQx1r",
        "colab": {
          "base_uri": "https://localhost:8080/"
        },
        "outputId": "ac30b9b2-6ec1-4df1-8349-22bb4159d20d"
      },
      "execution_count": null,
      "outputs": [
        {
          "output_type": "stream",
          "name": "stdout",
          "text": [
            "one : 1\n",
            "10 11 : 1\n",
            "two : 1\n",
            "second : 1\n",
            "3 : 1\n",
            "node : 1\n",
            "2 : 1\n",
            "1 : 1\n",
            "first : 1\n",
            "four four : 1\n",
            "node node : 1\n",
            "three : 2\n",
            "four : 1\n",
            "16 : 1\n",
            "20 : 2\n",
            "max : 2\n",
            "max heap : 1\n",
            "60 max : 1\n",
            "60 : 4\n",
            "15 : 1\n",
            "60 15 : 1\n",
            "30 : 1\n",
            "30 15 15 : 1\n",
            "20 8 : 1\n",
            "ten : 1\n",
            "7 one : 1\n",
            "6 : 2\n",
            "7th : 1\n",
            "10 : 1\n",
            "40 : 3\n",
            "last 20 : 1\n",
            "n log n n : 1\n",
            "five : 1\n",
            "12 40 : 1\n",
            "25 : 1\n",
            "18 : 3\n",
            "25 25 : 1\n",
            "12 : 1\n",
            "4 : 2\n"
          ]
        }
      ]
    },
    {
      "cell_type": "code",
      "source": [
        "def calculate_imp(keywords, total_words):\n",
        "    importance = {}\n",
        "    for keyword, freq in keywords.items():\n",
        "        importance[keyword] = freq / total_words\n",
        "    return importance"
      ],
      "metadata": {
        "id": "IlCjYo5IOyWp"
      },
      "execution_count": null,
      "outputs": []
    },
    {
      "cell_type": "code",
      "source": [
        "tw1 = 0\n",
        "for text in preprocessed:\n",
        "    tw1 += len(text.split())\n",
        "\n",
        "importance1 = calculate_imp(all_keywords1, tw1)\n",
        "for keyword, imp in importance1.items():\n",
        "    print(f\"{keyword}: {imp}\")"
      ],
      "metadata": {
        "id": "g_voLGe4SoG0",
        "colab": {
          "base_uri": "https://localhost:8080/"
        },
        "outputId": "c66993e4-e53a-43f9-ff59-2656f6c31b12"
      },
      "execution_count": null,
      "outputs": [
        {
          "output_type": "stream",
          "name": "stdout",
          "text": [
            "one: 0.0007968127490039841\n",
            "10 11: 0.0007968127490039841\n",
            "two: 0.0007968127490039841\n",
            "second: 0.0007968127490039841\n",
            "3: 0.0007968127490039841\n",
            "node: 0.0007968127490039841\n",
            "2: 0.0007968127490039841\n",
            "1: 0.0007968127490039841\n",
            "first: 0.0007968127490039841\n",
            "four four: 0.0007968127490039841\n",
            "node node: 0.0007968127490039841\n",
            "three: 0.0015936254980079682\n",
            "four: 0.0007968127490039841\n",
            "16: 0.0007968127490039841\n",
            "20: 0.0015936254980079682\n",
            "max: 0.0015936254980079682\n",
            "max heap: 0.0007968127490039841\n",
            "60 max: 0.0007968127490039841\n",
            "60: 0.0031872509960159364\n",
            "15: 0.0007968127490039841\n",
            "60 15: 0.0007968127490039841\n",
            "30: 0.0007968127490039841\n",
            "30 15 15: 0.0007968127490039841\n",
            "20 8: 0.0007968127490039841\n",
            "ten: 0.0007968127490039841\n",
            "7 one: 0.0007968127490039841\n",
            "6: 0.0015936254980079682\n",
            "7th: 0.0007968127490039841\n",
            "10: 0.0007968127490039841\n",
            "40: 0.002390438247011952\n",
            "last 20: 0.0007968127490039841\n",
            "n log n n: 0.0007968127490039841\n",
            "five: 0.0007968127490039841\n",
            "12 40: 0.0007968127490039841\n",
            "25: 0.0007968127490039841\n",
            "18: 0.002390438247011952\n",
            "25 25: 0.0007968127490039841\n",
            "12: 0.0007968127490039841\n",
            "4: 0.0015936254980079682\n"
          ]
        }
      ]
    },
    {
      "cell_type": "markdown",
      "source": [
        "# NMF"
      ],
      "metadata": {
        "id": "vSbVPXOhQXCa"
      }
    },
    {
      "cell_type": "code",
      "source": [
        "from sklearn.feature_extraction.text import TfidfVectorizer\n",
        "from sklearn.decomposition import NMF\n",
        "\n",
        "# Step 1: Vectorize the preprocessed text using TF-IDF\n",
        "vectorizer = TfidfVectorizer()\n",
        "tfidf_matrix = vectorizer.fit_transform(preprocessed)\n",
        "\n",
        "# Step 2: Apply NMF to the TF-IDF matrix to extract topics\n",
        "num_topics = 5  # You can adjust this parameter based on your requirement\n",
        "nmf_model = NMF(n_components=num_topics, random_state=42)\n",
        "nmf_matrix = nmf_model.fit_transform(tfidf_matrix)\n",
        "\n",
        "# Step 3: Extract keywords from the topics obtained through NMF\n",
        "def extract_keywords_nmf(model, feature_names, num_top_words):\n",
        "    keywords = {}\n",
        "    for topic_idx, topic in enumerate(model.components_):\n",
        "        keywords_per_topic = [feature_names[i] for i in topic.argsort()[:-num_top_words - 1:-1]]\n",
        "        keywords[topic_idx] = keywords_per_topic\n",
        "    return keywords\n",
        "\n",
        "num_top_words = 5  # You can adjust this parameter based on your requirement\n",
        "feature_names = vectorizer.get_feature_names_out()\n",
        "nmf_keywords = extract_keywords_nmf(nmf_model, feature_names, num_top_words)\n",
        "\n",
        "# Step 4: Calculate the importance of keywords based on their frequency in the topics\n",
        "def calculate_importance_nmf(keywords, nmf_matrix):\n",
        "    importance = {}\n",
        "    for topic_idx, topic_keywords in keywords.items():\n",
        "        for keyword in topic_keywords:\n",
        "            importance[keyword] = nmf_matrix[:, topic_idx].sum()\n",
        "    return importance\n",
        "\n",
        "importance_nmf = calculate_importance_nmf(nmf_keywords, nmf_matrix)\n",
        "\n",
        "for keyword, imp in importance_nmf.items():\n",
        "    print(f\"{keyword}: {imp}\")\n"
      ],
      "metadata": {
        "id": "V6gOZNgwO4E6",
        "outputId": "f2a32b8b-a2f1-4fd0-f998-bf6e8ca3eccf",
        "colab": {
          "base_uri": "https://localhost:8080/"
        }
      },
      "execution_count": null,
      "outputs": [
        {
          "output_type": "stream",
          "name": "stdout",
          "text": [
            "element: 4.220526593286311\n",
            "heap: 4.220526593286311\n",
            "20: 4.220526593286311\n",
            "deleted: 4.220526593286311\n",
            "delete: 4.220526593286311\n",
            "binary: 3.5022394300070987\n",
            "complete: 3.5022394300070987\n",
            "node: 3.5022394300070987\n",
            "full: 3.5022394300070987\n",
            "missing: 3.5022394300070987\n",
            "priority: 3.183952172217887\n",
            "cue: 3.183952172217887\n",
            "time: 3.183952172217887\n",
            "number: 3.183952172217887\n",
            "log: 3.183952172217887\n",
            "60: 4.0790302558924765\n",
            "come: 4.0790302558924765\n",
            "adjust: 4.0790302558924765\n",
            "root: 4.0790302558924765\n",
            "30: 4.0790302558924765\n",
            "formula: 3.2844022936346073\n",
            "level: 3.2844022936346073\n",
            "child: 3.2844022936346073\n",
            "fill: 3.2844022936346073\n",
            "followed: 3.2844022936346073\n"
          ]
        }
      ]
    },
    {
      "cell_type": "code",
      "source": [
        "# Step 5: Associate each document with its dominant topic\n",
        "def assign_document_topic(matrix):\n",
        "    return [topic.argmax() for topic in matrix]\n",
        "\n",
        "topic_assignments = assign_document_topic(nmf_matrix)\n",
        "\n",
        "# Step 6: Organize documents by topic\n",
        "documents_by_topic = {}\n",
        "for doc_idx, topic_idx in enumerate(topic_assignments):\n",
        "    if topic_idx not in documents_by_topic:\n",
        "        documents_by_topic[topic_idx] = []\n",
        "    documents_by_topic[topic_idx].append(corpus[doc_idx])\n",
        "\n",
        "# Step 7: Print documents for each topic\n",
        "for topic_idx, documents in documents_by_topic.items():\n",
        "    print(f\"Topic {topic_idx}:\")\n",
        "    for doc in documents:\n",
        "        print(f\"\\t{doc}\")\n",
        "    print()\n"
      ],
      "metadata": {
        "id": "fZLuPX0YPf3_",
        "outputId": "ac0197e7-b106-4713-d0d6-df730417242d",
        "colab": {
          "base_uri": "https://localhost:8080/"
        }
      },
      "execution_count": null,
      "outputs": [
        {
          "output_type": "stream",
          "name": "stdout",
          "text": [
            "Topic 0:\n",
            "\tThe topic for this video is heap. Under this topic we are going to learn about these things. I will be explaining these things that is array representation of bioretree's complete binary heap, how to insert and delete in heap, then heap sort. There's one of the important topic and heapify.\n",
            "\tpeat, min heap is a complete binary satisfying the condition that every node is having the element smaller than or equal to all its descendants. So there are two types of heap, max heap and min heap. Whatever we have to study will study upon one heap and same thing applies on the next heap also.\n",
            "\tThe best apple among all fresh one is kept on the top. Same concept is used in heap also. So all these elements are there which is the top most element best element what is best for us maximum element.\n",
            "\tThe maximum adjustment you have to do that depends on the height. So in both insert and delete adjustment is done but the directions are different. From max heave whenever you delete you get the next largest element from the heap.\n",
            "\tTen carefully right see this is important. Here the array size was 7. One element is deleted. Now what is the heap size? 6. Heave is still 6 only from 1 to 6. 7th place in an array is free that is not a part of heave yes.\n",
            "\tIf you have a heap then delete the element and fill it in the empty place obtain after deletion so if you go on filling the elements there then automatically gets sorted so from the heap go on deleting the elements and start filling them in free spaces so this is heave sort. there now 30 keep it here next free place if I do this what happens what happens next element will be 20 next elements will be 10 and so on see this 16 I think is so it will be so on so what happens you we are getting the elements largest the next largest.\n",
            "\tsort have two steps for the given set of number first of all create a heap then delete all the elements from the heap first step create aheap second and step delete all elements from a heap.\n",
            "\there 20 here so rest of the elements I am not writing them okay I will be writing one I willbe writing one by one now inserting 20 how do insert already have shown you compare with the ancestor that is parent and its parent and so on.\n",
            "\tEach element was inserted at a next free space and it was moved upwards and we got a max heap now before going to the next step let us analyze how much time it has taken we have inserted an elements total an elements we haveinserted. How much time takes for inserting an element in a heap depends on the height what is height of a complete monetary or a heap it is login so an elements each element we assume that it is moved up to the root so it is Login so the time taken is an log n so this was the heap creation first step now from that heap I will be going on deleting the elements so this place I will show you how the elements are deleted and they\n",
            "\ts delete the elements now second step for heap sort already we have created a heap already we've created aheap. Now let us delete the element so we know very well how to delete theelement so in this let usdelete so which element get deleted 40 gets deleted 40 is gone out then who will take its place last 20 this will take the place 20 will go in its place.\n",
            "\te heap are 30 20 20 15 and 10 heap is till four elements only 40 which was deleted I will put it here at a free space that is not a part of heap now delete next element. Next delete one more element which element get deleted 20 is deleted from the heap.\n",
            "\tThere are only two elements already I have 40 at the last and 30 at the second last place one more free space I got there I can insert 20 so just a store 20 I should not say insert just I have stored 20 there kept it 20 there now these elements are deleted from the heap.\n",
            "\tIf the elements are given then create a heap then second step gone deleting the element and store the element at a free space we are obtaining after deleted the element. Finally the elements is sorted so that's how the Elements are sorted so the heap is sought first step.\n",
            "\tl do the same thing but the procedure was inserting an element in the leaf and adjusting upwards now let us see how heapy five works. We inserted starting from this element so we inserted except this element we inserted 20 15 12 then inserted 12 then 40 then 25 then 18 one by one.\n",
            "\tfrom top towards leaf that procedure will follow let us follow the procedure now I am explaining heapy five watch this first go to element 18 look down there are no children so only a single element don't look at all other nodes just 18 and it's descendants there areno descendants so 18 is a heap yes then go to next element 25 25 look downwards it's a heap there is nothing there is no children it's alone it'sA heap 40 is a heapy 40 next element 40 nextelement 12 downwards it'm a heap now you will understand what does it mean.\n",
            "\n",
            "Topic 4:\n",
            "\tThe courses are suitable for academics as well as for interviews. C++ programming one course is there. That is from beginners to advanced level. You can learn up to the level of interview you can crack any interview. Then data structure course using C and C++ and some algorithms are there.\n",
            "\tthose courses is given in the description. You can check the description and there is a discount code is there. That is around $10 or $11. If more discounts are applicable, UDEMI will give you that discount.\n",
            "\tFor storing a binary tree, we have to take care of two things. One is we must store all the elements. Second is the relationship between them. Who is a parent, who is a child and who is left child, right child. So how they are preserved? Watch here.\n",
            "\tThe elements are stored by following the formula. So instead of using the formula, one thing we do is we fill them level by level, A, B, C, D, E, F, G, G. So that is it. So these formulas are automatically followed.\n",
            "\tLeft child, right child and parent formulas are followed automatically. Fill them level by level, A, B, C, D, E, 3 ends here. If any element is missing, I should leave a gap.\n",
            "\tthis place must be blank and D should be filled here. So without following formulas, if you want to fill them, then make sure that if there are missing nodes, you leave a blank there. So that's all about our representation of binary tree that is done using these formulas. These formulas are for maintaining relationship and the elements are as it is stored in an array.\n",
            "\n",
            "Topic 1:\n",
            "\tA full binary tree can have 2 power H plus 1 minus 1 number of nodes, maximum these many nodes. Even if there is a single missing element, it is not a complete binary tree. If you check the first and the last element, there is no missing element.\n",
            "\tn between the elements. It is from first element to last element in between anywhere. After the last element space is there, then there is no problem. If I remove this node, then it is not a complete binary, this is missing. So no node must be missing.\n",
            "\tA complete binary is a full binary up to height h minus 1. A complete binary of height h, height h is already a full Binary. Last level, the elements are filled from left to right. If you are getting gaps, it is not a complete binary.\n",
            "\tcomplete binary. If you start from left side, then one, two, no node is missing. So it is a complete binary tree. Take this one, root is one, the next level two nodes, next level four are there, all four are not there, but left hand side, the extreme left side is there.\n",
            "\tthen this node, then this node,. then we can have this. So we should have the nodes from left to right, but the three nodes are missing there, it is not a complete binary. So if you represent this in an array, let us say this is one, two, three, and this is four, then one, 2, 3, gap, gap and then four. So you will get three blank spaces in between the elements.\n",
            "\tThe height of a complete binary will always be minimum only that is log n. A full binary tree is a full as well as it is a complete Binary tree. A complete binary is not going to the next level unless one of the level is filled, unless this is filled we will not go to next level.\n",
            "\n",
            "Topic 3:\n",
            "\tare 16 are smaller than 20. So it means every parent is having the value greater than all its descendants. So a road will have the largest value that is maximum value. If the elements are arranged like this, then it is called as max heap.\n",
            "\tnsert the 60 in this max heap. Root should have the largest element. So 60 should come in root.\n",
            "\tEvery node should have the value greater than all its descendents. But you see 60 is there. That is the child of 15 wrong. Then what to do? Adjust the element. Make it as a heap or insert it in a heap. How? Compare with the parent.\n",
            "\t60 is compared with all its ancestors and it will reach its right place. So in an array, if you see 60 was here. So this 15 went there and 60 came here. And again 60 will go up and 30 will come down. So we adjust the element like this and 60 comes here.\n",
            "\theap. When we are inserting we have to send the element upwards. First we add the new element as a leaf. Then we adjust it by comparing with the ancestors. So element moves from leaf towards root. This is the important thing.\n",
            "\tthat 30 should go up because this is bigger okay 30 will go up then who will come at the place of 30 15. So if 15 goes here 30 goes here then this node is gone. If this nodes is gone is it working like a complete binary? No. So you have to be careful for preserving complete binary property then what to do.\n",
            "\tcomplete binary but not a max heap. So we have to adjust the elements okay we will adjust the element that is not a big deal maintaining complete binary properties very important. So let us check how to do this. Compared children of this 16 that is new root which child is greater. 30 is greater so 30 will take its place 16 will come into its place. So here 30 goes here 20 and 8 remains 16 comes here and 15 and 10 as it is.\n",
            "\tIn delayed we remove root and the last element in complete bioentival take the place and we push the element downwards towards leave and adjust the elements to form a max heave. So we have adjusted downwards right. So from root towards leave if you remember in insert the adjustment was done from leave towards root but now the adjustment is done from root to leave.\n",
            "\tas 1 so compared with the parent 15 is smaller so all the day it is in the max shape form we do not have to adjust so till here we got a heap now insert the next element 30.\n",
            "\tement right this one look downwards is it a max heap no adjust this one so compare with the children 40 is greater so 20 will come here 40 will go up right so 40 this will be changed to 20 and this will become 40 so I have just adjust just two elements now the after second element first element here only this element is not in a heap so adjusted compare with children 40's greater so 40 goes up 10 comes here.\n",
            "\n",
            "Topic 2:\n",
            "\tThe time taken for inserting one element in a heap is minimum big of 1 and maximum is log n. Minimum time is no swapping is required. Maximum the swapping requires depends on the height of a tree.\n",
            "\tlement takes how much time for deletion also it takes log and time we have already seen it so that is n log n so n logN for creation n log N for deletion so total how much to n logn and this is big of n log  n log n right two times of log n is also dependent on n log n so the time is order of nlog n or big of nlog n so heap sort takes n log m time so that's it this is heap sort now I have to explain you heapy five and heapy five is a process of creating a heap already we have created a heap how it is different it's different how it is\n",
            "\tn is different that's all right and what's the time taken by this one analytically the time Taken by this heapify procedure is big of n big of theta omega whatever you want notation you use anything commonly we use big so this isbig of n. Next we will see priority cues now priority cue priority cue so actually humans fee 4 but priority humans it's not fee 4 strictly the elements will have priority.\n",
            "\t priority cue elements are inserted with their priority when you delete we want higher priority element. Priority cue is mostly used in algorithms and in operating system.\n",
            "\t priority cue elements they value itself is priority and there are two methods of giving priority smaller number higher priority or larger number higherpriority okay now let us see how to insert and delete.\n",
            "\tHeap is a best data structure for implementing priority cue. If you have smaller number higher priority then creator min heap if you have larger number higherpriority then use max heap. For one element insertion how much time it takes log n for insertion and log n time for deletion.\n",
            "\to predicate can be implemented using heap so either min heap or max heap if you want always smaller number min heap ifYou want always larger number max so that's all in this video. If you want to take the course you can check in the description and you can buy the course for C++ and data structure subject there are two different courses right.\n",
            "\n"
          ]
        }
      ]
    },
    {
      "cell_type": "code",
      "source": [
        "import numpy as np\n",
        "\n",
        "# Step 8: Generate semantically meaningful topic names\n",
        "def generate_topic_names(model, feature_names, num_top_words):\n",
        "    topic_names = {}\n",
        "    for topic_idx, topic in enumerate(model.components_):\n",
        "        top_word_indices = topic.argsort()[:-num_top_words - 1:-1]\n",
        "        topic_words = [feature_names[i] for i in top_word_indices]\n",
        "        topic_names[topic_idx] = \" \".join(topic_words)\n",
        "    return topic_names\n",
        "\n",
        "num_top_words = 3  # You can adjust this parameter based on your requirement\n",
        "topic_names = generate_topic_names(nmf_model, feature_names, num_top_words)\n",
        "\n",
        "# Step 9: Print documents for each topic with semantically meaningful topic names\n",
        "for topic_idx, documents in documents_by_topic.items():\n",
        "    topic_name = topic_names[topic_idx]\n",
        "    print(f\"{topic_name}:\")\n",
        "    for doc in documents:\n",
        "        print(f\"\\t{doc}\")\n",
        "    print()\n"
      ],
      "metadata": {
        "id": "_LqH8-2MP-XF",
        "outputId": "6d8e8d43-1dfb-4647-9593-c5c10db0d4e8",
        "colab": {
          "base_uri": "https://localhost:8080/"
        }
      },
      "execution_count": null,
      "outputs": [
        {
          "output_type": "stream",
          "name": "stdout",
          "text": [
            "element heap 20:\n",
            "\tThe topic for this video is heap. Under this topic we are going to learn about these things. I will be explaining these things that is array representation of bioretree's complete binary heap, how to insert and delete in heap, then heap sort. There's one of the important topic and heapify.\n",
            "\tpeat, min heap is a complete binary satisfying the condition that every node is having the element smaller than or equal to all its descendants. So there are two types of heap, max heap and min heap. Whatever we have to study will study upon one heap and same thing applies on the next heap also.\n",
            "\tThe best apple among all fresh one is kept on the top. Same concept is used in heap also. So all these elements are there which is the top most element best element what is best for us maximum element.\n",
            "\tThe maximum adjustment you have to do that depends on the height. So in both insert and delete adjustment is done but the directions are different. From max heave whenever you delete you get the next largest element from the heap.\n",
            "\tTen carefully right see this is important. Here the array size was 7. One element is deleted. Now what is the heap size? 6. Heave is still 6 only from 1 to 6. 7th place in an array is free that is not a part of heave yes.\n",
            "\tIf you have a heap then delete the element and fill it in the empty place obtain after deletion so if you go on filling the elements there then automatically gets sorted so from the heap go on deleting the elements and start filling them in free spaces so this is heave sort. there now 30 keep it here next free place if I do this what happens what happens next element will be 20 next elements will be 10 and so on see this 16 I think is so it will be so on so what happens you we are getting the elements largest the next largest.\n",
            "\tsort have two steps for the given set of number first of all create a heap then delete all the elements from the heap first step create aheap second and step delete all elements from a heap.\n",
            "\there 20 here so rest of the elements I am not writing them okay I will be writing one I willbe writing one by one now inserting 20 how do insert already have shown you compare with the ancestor that is parent and its parent and so on.\n",
            "\tEach element was inserted at a next free space and it was moved upwards and we got a max heap now before going to the next step let us analyze how much time it has taken we have inserted an elements total an elements we haveinserted. How much time takes for inserting an element in a heap depends on the height what is height of a complete monetary or a heap it is login so an elements each element we assume that it is moved up to the root so it is Login so the time taken is an log n so this was the heap creation first step now from that heap I will be going on deleting the elements so this place I will show you how the elements are deleted and they\n",
            "\ts delete the elements now second step for heap sort already we have created a heap already we've created aheap. Now let us delete the element so we know very well how to delete theelement so in this let usdelete so which element get deleted 40 gets deleted 40 is gone out then who will take its place last 20 this will take the place 20 will go in its place.\n",
            "\te heap are 30 20 20 15 and 10 heap is till four elements only 40 which was deleted I will put it here at a free space that is not a part of heap now delete next element. Next delete one more element which element get deleted 20 is deleted from the heap.\n",
            "\tThere are only two elements already I have 40 at the last and 30 at the second last place one more free space I got there I can insert 20 so just a store 20 I should not say insert just I have stored 20 there kept it 20 there now these elements are deleted from the heap.\n",
            "\tIf the elements are given then create a heap then second step gone deleting the element and store the element at a free space we are obtaining after deleted the element. Finally the elements is sorted so that's how the Elements are sorted so the heap is sought first step.\n",
            "\tl do the same thing but the procedure was inserting an element in the leaf and adjusting upwards now let us see how heapy five works. We inserted starting from this element so we inserted except this element we inserted 20 15 12 then inserted 12 then 40 then 25 then 18 one by one.\n",
            "\tfrom top towards leaf that procedure will follow let us follow the procedure now I am explaining heapy five watch this first go to element 18 look down there are no children so only a single element don't look at all other nodes just 18 and it's descendants there areno descendants so 18 is a heap yes then go to next element 25 25 look downwards it's a heap there is nothing there is no children it's alone it'sA heap 40 is a heapy 40 next element 40 nextelement 12 downwards it'm a heap now you will understand what does it mean.\n",
            "\n",
            "formula level child:\n",
            "\tThe courses are suitable for academics as well as for interviews. C++ programming one course is there. That is from beginners to advanced level. You can learn up to the level of interview you can crack any interview. Then data structure course using C and C++ and some algorithms are there.\n",
            "\tthose courses is given in the description. You can check the description and there is a discount code is there. That is around $10 or $11. If more discounts are applicable, UDEMI will give you that discount.\n",
            "\tFor storing a binary tree, we have to take care of two things. One is we must store all the elements. Second is the relationship between them. Who is a parent, who is a child and who is left child, right child. So how they are preserved? Watch here.\n",
            "\tThe elements are stored by following the formula. So instead of using the formula, one thing we do is we fill them level by level, A, B, C, D, E, F, G, G. So that is it. So these formulas are automatically followed.\n",
            "\tLeft child, right child and parent formulas are followed automatically. Fill them level by level, A, B, C, D, E, 3 ends here. If any element is missing, I should leave a gap.\n",
            "\tthis place must be blank and D should be filled here. So without following formulas, if you want to fill them, then make sure that if there are missing nodes, you leave a blank there. So that's all about our representation of binary tree that is done using these formulas. These formulas are for maintaining relationship and the elements are as it is stored in an array.\n",
            "\n",
            "binary complete node:\n",
            "\tA full binary tree can have 2 power H plus 1 minus 1 number of nodes, maximum these many nodes. Even if there is a single missing element, it is not a complete binary tree. If you check the first and the last element, there is no missing element.\n",
            "\tn between the elements. It is from first element to last element in between anywhere. After the last element space is there, then there is no problem. If I remove this node, then it is not a complete binary, this is missing. So no node must be missing.\n",
            "\tA complete binary is a full binary up to height h minus 1. A complete binary of height h, height h is already a full Binary. Last level, the elements are filled from left to right. If you are getting gaps, it is not a complete binary.\n",
            "\tcomplete binary. If you start from left side, then one, two, no node is missing. So it is a complete binary tree. Take this one, root is one, the next level two nodes, next level four are there, all four are not there, but left hand side, the extreme left side is there.\n",
            "\tthen this node, then this node,. then we can have this. So we should have the nodes from left to right, but the three nodes are missing there, it is not a complete binary. So if you represent this in an array, let us say this is one, two, three, and this is four, then one, 2, 3, gap, gap and then four. So you will get three blank spaces in between the elements.\n",
            "\tThe height of a complete binary will always be minimum only that is log n. A full binary tree is a full as well as it is a complete Binary tree. A complete binary is not going to the next level unless one of the level is filled, unless this is filled we will not go to next level.\n",
            "\n",
            "60 come adjust:\n",
            "\tare 16 are smaller than 20. So it means every parent is having the value greater than all its descendants. So a road will have the largest value that is maximum value. If the elements are arranged like this, then it is called as max heap.\n",
            "\tnsert the 60 in this max heap. Root should have the largest element. So 60 should come in root.\n",
            "\tEvery node should have the value greater than all its descendents. But you see 60 is there. That is the child of 15 wrong. Then what to do? Adjust the element. Make it as a heap or insert it in a heap. How? Compare with the parent.\n",
            "\t60 is compared with all its ancestors and it will reach its right place. So in an array, if you see 60 was here. So this 15 went there and 60 came here. And again 60 will go up and 30 will come down. So we adjust the element like this and 60 comes here.\n",
            "\theap. When we are inserting we have to send the element upwards. First we add the new element as a leaf. Then we adjust it by comparing with the ancestors. So element moves from leaf towards root. This is the important thing.\n",
            "\tthat 30 should go up because this is bigger okay 30 will go up then who will come at the place of 30 15. So if 15 goes here 30 goes here then this node is gone. If this nodes is gone is it working like a complete binary? No. So you have to be careful for preserving complete binary property then what to do.\n",
            "\tcomplete binary but not a max heap. So we have to adjust the elements okay we will adjust the element that is not a big deal maintaining complete binary properties very important. So let us check how to do this. Compared children of this 16 that is new root which child is greater. 30 is greater so 30 will take its place 16 will come into its place. So here 30 goes here 20 and 8 remains 16 comes here and 15 and 10 as it is.\n",
            "\tIn delayed we remove root and the last element in complete bioentival take the place and we push the element downwards towards leave and adjust the elements to form a max heave. So we have adjusted downwards right. So from root towards leave if you remember in insert the adjustment was done from leave towards root but now the adjustment is done from root to leave.\n",
            "\tas 1 so compared with the parent 15 is smaller so all the day it is in the max shape form we do not have to adjust so till here we got a heap now insert the next element 30.\n",
            "\tement right this one look downwards is it a max heap no adjust this one so compare with the children 40 is greater so 20 will come here 40 will go up right so 40 this will be changed to 20 and this will become 40 so I have just adjust just two elements now the after second element first element here only this element is not in a heap so adjusted compare with children 40's greater so 40 goes up 10 comes here.\n",
            "\n",
            "priority cue time:\n",
            "\tThe time taken for inserting one element in a heap is minimum big of 1 and maximum is log n. Minimum time is no swapping is required. Maximum the swapping requires depends on the height of a tree.\n",
            "\tlement takes how much time for deletion also it takes log and time we have already seen it so that is n log n so n logN for creation n log N for deletion so total how much to n logn and this is big of n log  n log n right two times of log n is also dependent on n log n so the time is order of nlog n or big of nlog n so heap sort takes n log m time so that's it this is heap sort now I have to explain you heapy five and heapy five is a process of creating a heap already we have created a heap how it is different it's different how it is\n",
            "\tn is different that's all right and what's the time taken by this one analytically the time Taken by this heapify procedure is big of n big of theta omega whatever you want notation you use anything commonly we use big so this isbig of n. Next we will see priority cues now priority cue priority cue so actually humans fee 4 but priority humans it's not fee 4 strictly the elements will have priority.\n",
            "\t priority cue elements are inserted with their priority when you delete we want higher priority element. Priority cue is mostly used in algorithms and in operating system.\n",
            "\t priority cue elements they value itself is priority and there are two methods of giving priority smaller number higher priority or larger number higherpriority okay now let us see how to insert and delete.\n",
            "\tHeap is a best data structure for implementing priority cue. If you have smaller number higher priority then creator min heap if you have larger number higherpriority then use max heap. For one element insertion how much time it takes log n for insertion and log n time for deletion.\n",
            "\to predicate can be implemented using heap so either min heap or max heap if you want always smaller number min heap ifYou want always larger number max so that's all in this video. If you want to take the course you can check in the description and you can buy the course for C++ and data structure subject there are two different courses right.\n",
            "\n"
          ]
        }
      ]
    },
    {
      "cell_type": "markdown",
      "source": [
        "# LDA"
      ],
      "metadata": {
        "id": "R7yEC_jDQi9N"
      }
    },
    {
      "cell_type": "code",
      "source": [
        "from sklearn.decomposition import LatentDirichletAllocation\n",
        "from sklearn.feature_extraction.text import CountVectorizer\n",
        "\n",
        "# Step 1: Vectorize the preprocessed text using CountVectorizer (LDA works better with raw counts)\n",
        "vectorizer = CountVectorizer()\n",
        "tf_matrix = vectorizer.fit_transform(corpus)\n",
        "\n",
        "# Step 2: Apply LDA to the term-frequency matrix to extract topics\n",
        "num_topics = 5  # You can adjust this parameter based on your requirement\n",
        "lda_model = LatentDirichletAllocation(n_components=num_topics, random_state=42)\n",
        "lda_matrix = lda_model.fit_transform(tf_matrix)\n",
        "\n",
        "# Step 3: Set a threshold to filter out topics with low contribution\n",
        "threshold = 0.1  # You can adjust this threshold based on your requirement\n",
        "\n",
        "# Step 4: Generate topic names based on the most representative words in each topic\n",
        "def generate_topic_names(model, feature_names, num_top_words):\n",
        "    topic_names = {}\n",
        "    for topic_idx, topic in enumerate(model.components_):\n",
        "        top_word_indices = topic.argsort()[:-num_top_words - 1:-1]\n",
        "        topic_words = [feature_names[i] for i in top_word_indices]\n",
        "        topic_names[topic_idx] = \" \".join(topic_words)\n",
        "    return topic_names\n",
        "\n",
        "num_top_words = 3  # You can adjust this parameter based on your requirement\n",
        "feature_names = vectorizer.get_feature_names_out()\n",
        "topic_names = generate_topic_names(lda_model, feature_names, num_top_words)\n",
        "\n",
        "# Step 5: Associate each document with its dominant topic\n",
        "def assign_document_topic(matrix, threshold):\n",
        "    return [np.argmax(topic) if max(topic) > threshold else None for topic in matrix]\n",
        "\n",
        "topic_assignments = assign_document_topic(lda_matrix, threshold)\n",
        "\n",
        "# Step 6: Organize documents by topic\n",
        "documents_by_topic = {}\n",
        "for doc_idx, topic_idx in enumerate(topic_assignments):\n",
        "    if topic_idx is not None:\n",
        "        if topic_idx not in documents_by_topic:\n",
        "            documents_by_topic[topic_idx] = []\n",
        "        documents_by_topic[topic_idx].append(corpus[doc_idx])\n",
        "\n",
        "# Step 7: Print documents for each topic with semantically meaningful topic names\n",
        "for topic_idx, documents in documents_by_topic.items():\n",
        "    topic_name = topic_names.get(topic_idx, f\"Topic {topic_idx}\")\n",
        "    print(f\"{topic_name}:\")\n",
        "    for doc in documents:\n",
        "        print(f\"\\t{doc}\")\n",
        "    print()\n"
      ],
      "metadata": {
        "colab": {
          "base_uri": "https://localhost:8080/"
        },
        "id": "FFqayRXlQijO",
        "outputId": "17ba4524-7c63-4761-b9ac-5b557a345727"
      },
      "execution_count": null,
      "outputs": [
        {
          "output_type": "stream",
          "name": "stdout",
          "text": [
            "it is we:\n",
            "\tThe topic for this video is heap. Under this topic we are going to learn about these things. I will be explaining these things that is array representation of bioretree's complete binary heap, how to insert and delete in heap, then heap sort. There's one of the important topic and heapify.\n",
            "\theap. When we are inserting we have to send the element upwards. First we add the new element as a leaf. Then we adjust it by comparing with the ancestors. So element moves from leaf towards root. This is the important thing.\n",
            "\tlement takes how much time for deletion also it takes log and time we have already seen it so that is n log n so n logN for creation n log N for deletion so total how much to n logn and this is big of n log  n log n right two times of log n is also dependent on n log n so the time is order of nlog n or big of nlog n so heap sort takes n log m time so that's it this is heap sort now I have to explain you heapy five and heapy five is a process of creating a heap already we have created a heap how it is different it's different how it is\n",
            "\tl do the same thing but the procedure was inserting an element in the leaf and adjusting upwards now let us see how heapy five works. We inserted starting from this element so we inserted except this element we inserted 20 15 12 then inserted 12 then 40 then 25 then 18 one by one.\n",
            "\tfrom top towards leaf that procedure will follow let us follow the procedure now I am explaining heapy five watch this first go to element 18 look down there are no children so only a single element don't look at all other nodes just 18 and it's descendants there areno descendants so 18 is a heap yes then go to next element 25 25 look downwards it's a heap there is nothing there is no children it's alone it'sA heap 40 is a heapy 40 next element 40 nextelement 12 downwards it'm a heap now you will understand what does it mean.\n",
            "\tn is different that's all right and what's the time taken by this one analytically the time Taken by this heapify procedure is big of n big of theta omega whatever you want notation you use anything commonly we use big so this isbig of n. Next we will see priority cues now priority cue priority cue so actually humans fee 4 but priority humans it's not fee 4 strictly the elements will have priority.\n",
            "\tHeap is a best data structure for implementing priority cue. If you have smaller number higher priority then creator min heap if you have larger number higherpriority then use max heap. For one element insertion how much time it takes log n for insertion and log n time for deletion.\n",
            "\n",
            "the is so:\n",
            "\tThe courses are suitable for academics as well as for interviews. C++ programming one course is there. That is from beginners to advanced level. You can learn up to the level of interview you can crack any interview. Then data structure course using C and C++ and some algorithms are there.\n",
            "\tthose courses is given in the description. You can check the description and there is a discount code is there. That is around $10 or $11. If more discounts are applicable, UDEMI will give you that discount.\n",
            "\tThe elements are stored by following the formula. So instead of using the formula, one thing we do is we fill them level by level, A, B, C, D, E, F, G, G. So that is it. So these formulas are automatically followed.\n",
            "\tLeft child, right child and parent formulas are followed automatically. Fill them level by level, A, B, C, D, E, 3 ends here. If any element is missing, I should leave a gap.\n",
            "\tthis place must be blank and D should be filled here. So without following formulas, if you want to fill them, then make sure that if there are missing nodes, you leave a blank there. So that's all about our representation of binary tree that is done using these formulas. These formulas are for maintaining relationship and the elements are as it is stored in an array.\n",
            "\tA full binary tree can have 2 power H plus 1 minus 1 number of nodes, maximum these many nodes. Even if there is a single missing element, it is not a complete binary tree. If you check the first and the last element, there is no missing element.\n",
            "\tn between the elements. It is from first element to last element in between anywhere. After the last element space is there, then there is no problem. If I remove this node, then it is not a complete binary, this is missing. So no node must be missing.\n",
            "\tA complete binary is a full binary up to height h minus 1. A complete binary of height h, height h is already a full Binary. Last level, the elements are filled from left to right. If you are getting gaps, it is not a complete binary.\n",
            "\tcomplete binary. If you start from left side, then one, two, no node is missing. So it is a complete binary tree. Take this one, root is one, the next level two nodes, next level four are there, all four are not there, but left hand side, the extreme left side is there.\n",
            "\tthen this node, then this node,. then we can have this. So we should have the nodes from left to right, but the three nodes are missing there, it is not a complete binary. So if you represent this in an array, let us say this is one, two, three, and this is four, then one, 2, 3, gap, gap and then four. So you will get three blank spaces in between the elements.\n",
            "\tThe height of a complete binary will always be minimum only that is log n. A full binary tree is a full as well as it is a complete Binary tree. A complete binary is not going to the next level unless one of the level is filled, unless this is filled we will not go to next level.\n",
            "\tare 16 are smaller than 20. So it means every parent is having the value greater than all its descendants. So a road will have the largest value that is maximum value. If the elements are arranged like this, then it is called as max heap.\n",
            "\tpeat, min heap is a complete binary satisfying the condition that every node is having the element smaller than or equal to all its descendants. So there are two types of heap, max heap and min heap. Whatever we have to study will study upon one heap and same thing applies on the next heap also.\n",
            "\tnsert the 60 in this max heap. Root should have the largest element. So 60 should come in root.\n",
            "\tEvery node should have the value greater than all its descendents. But you see 60 is there. That is the child of 15 wrong. Then what to do? Adjust the element. Make it as a heap or insert it in a heap. How? Compare with the parent.\n",
            "\tThe best apple among all fresh one is kept on the top. Same concept is used in heap also. So all these elements are there which is the top most element best element what is best for us maximum element.\n",
            "\tthat 30 should go up because this is bigger okay 30 will go up then who will come at the place of 30 15. So if 15 goes here 30 goes here then this node is gone. If this nodes is gone is it working like a complete binary? No. So you have to be careful for preserving complete binary property then what to do.\n",
            "\tThe maximum adjustment you have to do that depends on the height. So in both insert and delete adjustment is done but the directions are different. From max heave whenever you delete you get the next largest element from the heap.\n",
            "\tIf you have a heap then delete the element and fill it in the empty place obtain after deletion so if you go on filling the elements there then automatically gets sorted so from the heap go on deleting the elements and start filling them in free spaces so this is heave sort. there now 30 keep it here next free place if I do this what happens what happens next element will be 20 next elements will be 10 and so on see this 16 I think is so it will be so on so what happens you we are getting the elements largest the next largest.\n",
            "\there 20 here so rest of the elements I am not writing them okay I will be writing one I willbe writing one by one now inserting 20 how do insert already have shown you compare with the ancestor that is parent and its parent and so on.\n",
            "\t priority cue elements are inserted with their priority when you delete we want higher priority element. Priority cue is mostly used in algorithms and in operating system.\n",
            "\to predicate can be implemented using heap so either min heap or max heap if you want always smaller number min heap ifYou want always larger number max so that's all in this video. If you want to take the course you can check in the description and you can buy the course for C++ and data structure subject there are two different courses right.\n",
            "\n",
            "the is heap:\n",
            "\tFor storing a binary tree, we have to take care of two things. One is we must store all the elements. Second is the relationship between them. Who is a parent, who is a child and who is left child, right child. So how they are preserved? Watch here.\n",
            "\tThe time taken for inserting one element in a heap is minimum big of 1 and maximum is log n. Minimum time is no swapping is required. Maximum the swapping requires depends on the height of a tree.\n",
            "\tTen carefully right see this is important. Here the array size was 7. One element is deleted. Now what is the heap size? 6. Heave is still 6 only from 1 to 6. 7th place in an array is free that is not a part of heave yes.\n",
            "\tsort have two steps for the given set of number first of all create a heap then delete all the elements from the heap first step create aheap second and step delete all elements from a heap.\n",
            "\tEach element was inserted at a next free space and it was moved upwards and we got a max heap now before going to the next step let us analyze how much time it has taken we have inserted an elements total an elements we haveinserted. How much time takes for inserting an element in a heap depends on the height what is height of a complete monetary or a heap it is login so an elements each element we assume that it is moved up to the root so it is Login so the time taken is an log n so this was the heap creation first step now from that heap I will be going on deleting the elements so this place I will show you how the elements are deleted and they\n",
            "\ts delete the elements now second step for heap sort already we have created a heap already we've created aheap. Now let us delete the element so we know very well how to delete theelement so in this let usdelete so which element get deleted 40 gets deleted 40 is gone out then who will take its place last 20 this will take the place 20 will go in its place.\n",
            "\tIf the elements are given then create a heap then second step gone deleting the element and store the element at a free space we are obtaining after deleted the element. Finally the elements is sorted so that's how the Elements are sorted so the heap is sought first step.\n",
            "\n",
            "so the and:\n",
            "\t60 is compared with all its ancestors and it will reach its right place. So in an array, if you see 60 was here. So this 15 went there and 60 came here. And again 60 will go up and 30 will come down. So we adjust the element like this and 60 comes here.\n",
            "\tcomplete binary but not a max heap. So we have to adjust the elements okay we will adjust the element that is not a big deal maintaining complete binary properties very important. So let us check how to do this. Compared children of this 16 that is new root which child is greater. 30 is greater so 30 will take its place 16 will come into its place. So here 30 goes here 20 and 8 remains 16 comes here and 15 and 10 as it is.\n",
            "\tIn delayed we remove root and the last element in complete bioentival take the place and we push the element downwards towards leave and adjust the elements to form a max heave. So we have adjusted downwards right. So from root towards leave if you remember in insert the adjustment was done from leave towards root but now the adjustment is done from root to leave.\n",
            "\tas 1 so compared with the parent 15 is smaller so all the day it is in the max shape form we do not have to adjust so till here we got a heap now insert the next element 30.\n",
            "\tement right this one look downwards is it a max heap no adjust this one so compare with the children 40 is greater so 20 will come here 40 will go up right so 40 this will be changed to 20 and this will become 40 so I have just adjust just two elements now the after second element first element here only this element is not in a heap so adjusted compare with children 40's greater so 40 goes up 10 comes here.\n",
            "\t priority cue elements they value itself is priority and there are two methods of giving priority smaller number higher priority or larger number higherpriority okay now let us see how to insert and delete.\n",
            "\n",
            "20 heap there:\n",
            "\te heap are 30 20 20 15 and 10 heap is till four elements only 40 which was deleted I will put it here at a free space that is not a part of heap now delete next element. Next delete one more element which element get deleted 20 is deleted from the heap.\n",
            "\tThere are only two elements already I have 40 at the last and 30 at the second last place one more free space I got there I can insert 20 so just a store 20 I should not say insert just I have stored 20 there kept it 20 there now these elements are deleted from the heap.\n",
            "\n"
          ]
        }
      ]
    },
    {
      "cell_type": "markdown",
      "source": [
        "# Making NMF better"
      ],
      "metadata": {
        "id": "gvkzRTSxSGXv"
      }
    },
    {
      "cell_type": "code",
      "source": [],
      "metadata": {
        "id": "9B8yk1RDSDOM"
      },
      "execution_count": null,
      "outputs": []
    }
  ]
}